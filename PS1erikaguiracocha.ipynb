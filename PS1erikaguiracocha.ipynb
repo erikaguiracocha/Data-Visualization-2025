{
  "nbformat": 4,
  "nbformat_minor": 0,
  "metadata": {
    "colab": {
      "provenance": [],
      "authorship_tag": "ABX9TyMdp1zRyJC0MO/h+8MQXfnV",
      "include_colab_link": true
    },
    "kernelspec": {
      "name": "python3",
      "display_name": "Python 3"
    },
    "language_info": {
      "name": "python"
    }
  },
  "cells": [
    {
      "cell_type": "markdown",
      "metadata": {
        "id": "view-in-github",
        "colab_type": "text"
      },
      "source": [
        "<a href=\"https://colab.research.google.com/github/erikaguiracocha/Data-Visualization-2025/blob/main/PS1erikaguiracocha.ipynb\" target=\"_parent\"><img src=\"https://colab.research.google.com/assets/colab-badge.svg\" alt=\"Open In Colab\"/></a>"
      ]
    },
    {
      "cell_type": "markdown",
      "source": [
        "**PS 1**\n",
        "1. **In few sentences explain why you use datasets you’re using:** like a mini abstract with res q and hypotheses; extend and improve\n",
        "as we go\n",
        "over time the writeup must be longer and include at least: why these data, what’s the research questions, hypotheses and specific\n",
        "variables you are interested in and why?; and as always– give exact url for data!\n",
        "**Dataset Overview and Research Focus:**\n",
        "For this analysis, I am examining data from 21 counties in New Jersey over the years 2020, 2021, and 2022 to explore the relationship between crime rates and police budget allocation.\n",
        "\n",
        "**Research Question:**\n",
        "How does the crime rate in counties across New Jersey influence the allocation of police budgets?\n",
        "\n",
        "**Hypothesis:**\n",
        "I hypothesize that counties with higher crime rates will allocate a greater proportion of their budget to police services. This is because counties with higher crime rates will need to direct more resources toward law enforcement to manage the increased demand for police intervention and services.\n",
        "\n",
        "**Variables of Interest**:\n",
        "1. **Crime Data:** The total number of crimes reported in each county per year. This variable serves as a proxy for the level of crime in the area and is expected to influence budget allocation for law enforcement.\n",
        "2. **Police Budget:**  The total amount of money allocated to the police department in each county. This budget is critical for understanding how local governments prioritize law enforcement funding relative to other services.\n",
        "3. **County:**The name of each county in New Jersey. This variable is important for comparing trends across different regions within the state.\n",
        "4. **Year:** The year in which the data was collected (2020, 2021, 2022). Temporal trends will be considered, as changes over time may affect the budget allocation or crime rates due to policy changes, economic factors, or other influences.\n",
        "**Data Sources:**\n",
        "1.\t**Crime Data:** The crime data will be obtained from the State of New Jersey Department of Law and Public Safety Office of Attorney General. This office provides crime statistics from municipalities and counties across the state as part of the Uniform Crime Reporting (UCR) program. The data will include reported crime numbers, categorized by crime type, and provide an insight into crime trends across New Jersey.\n",
        "\n",
        "Source: State of New Jersey Department of Law and Public Safety Office of Attorney General.\n",
        "\n",
        "URLs:\n",
        "-\t2020_Uniform_Crime_Report.xlsx\n",
        "-\t20241101_2021_Uniform_Crime_Report.xlsx\n",
        "-\t20241101_2022_Uniform_Crime_Report.xlsx\n",
        "\n",
        "2.\t**Police Budget Data:** The New Jersey Division of Local Government Services provides annual budget reports that detail county spending, including allocations for the police department. These reports are publicly available and provide valuable data on how counties allocate funds, including for law enforcement.\n",
        "o\tSource: State of New Jersey Department of Community Affairs, Division of Local Government Services\n",
        "URL: https://www.nj.gov/dca/divisions/dlgs/resources/fiscal_rpts.shtml\n",
        "\n",
        "3.\t**Socioeconomic Data:** The New Jersey Department of Labor and Workforce Development provides population data, including county-level population estimates. This socioeconomic data will be useful for understanding the context in which crime and budget data are situated, as demographic factors can impact crime rates and budget allocations.\n",
        "\n",
        "Source: New Jersey Department of Labor and Workforce Development\n",
        "\n",
        "URL: https://www.nj.gov/labor/labormarketinformation/assetsPDFs/dmograh/est/copest23.htm\n",
        "\n",
        "**Data Justification:**\n",
        "The datasets selected are relevant because they directly address the research question of how crime rates correlate with police budget allocation. The crime data from the UCR database will provide a comprehensive view of crime in New Jersey’s counties, while the police budget data will allow us to analyze the financial resources allocated to law enforcement. Socioeconomic data, such as population size, will help contextualize the findings, as larger populations might inherently require more policing resources.\n",
        "By using data from multiple years (2020, 2021, and 2022), this analysis can identify any trends or shifts in how counties respond to changes in crime rates over time and the effect of these changes on budget allocation.\n"
      ],
      "metadata": {
        "id": "0bGgnSDFefVi"
      }
    },
    {
      "cell_type": "markdown",
      "source": [],
      "metadata": {
        "id": "3R-ta5vgenzA"
      }
    },
    {
      "cell_type": "markdown",
      "source": [
        "**2. Use at least 2 times each of the following in a way that makes sense and is useful:**\n",
        "\n",
        "• rename var\n",
        "\n",
        "• replace vals\n",
        "\n",
        "• drop or keep vars\n",
        "\n",
        "• collabse data (groupby agg)\n"
      ],
      "metadata": {
        "id": "02VPUtwtYrps"
      }
    },
    {
      "cell_type": "markdown",
      "source": [],
      "metadata": {
        "id": "NVMwoBkJfcwH"
      }
    },
    {
      "cell_type": "markdown",
      "source": [
        "**In this first part, I have posted the URLs so that the databases I worked on for PS 1 can be accessed and reviewed**."
      ],
      "metadata": {
        "id": "GUodokvIg4d6"
      }
    },
    {
      "cell_type": "code",
      "source": [
        "import pandas as pd #original crime data uploaded\n",
        "url_crime_data = 'https://raw.githubusercontent.com/erikaguiracocha/Data-Visualization-2025/refs/heads/main/crime%20by%20county%20New%20Jersey.csv'\n",
        "crime_data = pd.read_csv(url_crime_data, header=1)\n",
        "print(\"Original Crime Data:\")\n",
        "print(crime_data.head(30))  # Show 21 counties\n"
      ],
      "metadata": {
        "colab": {
          "base_uri": "https://localhost:8080/"
        },
        "id": "rHm7KzNNge2S",
        "outputId": "581a4c9a-fbda-4b13-ed48-6214b05363df"
      },
      "execution_count": null,
      "outputs": [
        {
          "output_type": "stream",
          "name": "stdout",
          "text": [
            "Original Crime Data:\n",
            "              County     2020     2021       2022\n",
            "0          Atlantic    46,551   42,324     47,072\n",
            "1            Bergen   193,882  208,751    294,129\n",
            "2        Burlington    44,940   48,929     52,173\n",
            "3             Camden  103,373  114,926    194,754\n",
            "4          Cape May    64,234   65,174     56,205\n",
            "5        Cumberland    17,378   14,656     17,993\n",
            "6              Essex   45,882   47,082     56,433\n",
            "7        Gloucester    38,332   35,690     40,038\n",
            "8            Hudson    32,374   29,689     38,604\n",
            "9         Hunterdon     8,036    7,447     10,467\n",
            "10           Mercer    21,976   21,813     26,797\n",
            "11        Middlesex    36,204   35,448     45,162\n",
            "12         Monmouth    85,417   70,450     76,941\n",
            "13           Morris    33,417   26,142     31,456\n",
            "14            Ocean    55,640   39,291     52,245\n",
            "15          Passaic    28,610   27,683     34,688\n",
            "16            Salem    19,312   15,548     14,772\n",
            "17         Somerset    21,493   21,174     22,982\n",
            "18           Sussex     6,345    7,471      7,074\n",
            "19            Union    35,176   35,881     41,550\n",
            "20            Warren   20,030   19,753     17,675\n",
            "21  Total New Jersey  958,604  935,321  1,133,384\n"
          ]
        }
      ]
    },
    {
      "cell_type": "code",
      "source": [
        "#original budget data uploaded\n",
        "url_budget_data = 'https://raw.githubusercontent.com/erikaguiracocha/Data-Visualization-2025/refs/heads/main/police%20budgets%20in%20New%20Jersey.csv'\n",
        "budget_data = pd.read_csv(url_budget_data, header=1)\n",
        "print(\"Original Budget Data:\")\n",
        "print(budget_data.head(30))"
      ],
      "metadata": {
        "id": "ZWWknGg_ivx9",
        "outputId": "c08f67f6-b46c-41d2-9f03-f7ebd8922a6d",
        "colab": {
          "base_uri": "https://localhost:8080/"
        }
      },
      "execution_count": null,
      "outputs": [
        {
          "output_type": "stream",
          "name": "stdout",
          "text": [
            "Original Budget Data:\n",
            "              County              2020              2021              2022\n",
            "0          Atlantic     119,262,425.86    117,407,829.60    123,993,860.75\n",
            "1            Bergen     427,518,344.81    448,124,550.75    471,782,982.68\n",
            "2        Burlington     122,407,763.95    125,868,638.98    128,190,733.44\n",
            "3            Camden     137,420,012.72    135,626,159.37    147,391,782.25\n",
            "4          Cape May      48,629,849.27     52,207,062.40     54,103,285.95\n",
            "5        Cumberland      35,045,613.87     36,259,361.36     37,329,195.20\n",
            "6             Essex     350,382,509.60    464,878,127.99    381,983,364.75\n",
            "7        Gloucester      67,519,873.43     65,845,717.39     79,816,171.41\n",
            "8            Hudson     290,272,331.25    300,219,111.87    377,519,753.78\n",
            "9         Hunterdon      28,100,764.97     29,438,131.72     31,540,757.26\n",
            "10           Mercer      93,981,950.66    104,382,301.52     97,266,160.77\n",
            "11        Middlesex     253,427,739.92    292,934,332.15    331,800,018.84\n",
            "12         Monmouth     261,784,930.78    271,539,409.48    282,625,410.02\n",
            "13           Morris     171,635,578.16    184,152,262.87    195,233,806.17\n",
            "14            Ocean     224,440,512.53    228,994,762.61    231,442,122.59\n",
            "15          Passaic     101,872,259.28    148,684,341.76    197,295,052.89\n",
            "16            Salem       9,149,236.34     15,079,410.98     13,660,155.37\n",
            "17         Somerset     100,180,014.14     60,327,888.26    117,789,364.83\n",
            "18           Sussex      33,385,136.64     29,710,261.77     33,563,129.27\n",
            "19            Union     186,982,367.17    224,208,846.59    246,829,591.40\n",
            "20           Warren      26,138,557.21     26,936,297.87     29,352,144.76\n",
            "21  Total New Jersey  3,089,537,772.56  3,362,824,807.29  3,610,508,844.38\n"
          ]
        }
      ]
    },
    {
      "cell_type": "code",
      "source": [
        "#original population data uploaded\n",
        "url_population_data = 'https://raw.githubusercontent.com/erikaguiracocha/Data-Visualization-2025/refs/heads/main/population%20by%20county%20New%20Jersey.csv'\n",
        "population_data = pd.read_csv(url_population_data, header=1)\n",
        "print(\"Original Population Data:\")\n",
        "print(population_data.head(30))"
      ],
      "metadata": {
        "id": "IAy8txHLjPVj",
        "outputId": "471e969c-f6b0-4678-c124-d047f3891ef7",
        "colab": {
          "base_uri": "https://localhost:8080/"
        }
      },
      "execution_count": null,
      "outputs": [
        {
          "output_type": "stream",
          "name": "stdout",
          "text": [
            "Original Population Data:\n",
            "              County Data Source in 2020  Data Source in 2021  \\\n",
            "0          Atlantic               census                  NaN   \n",
            "1            Bergen               census                  NaN   \n",
            "2        Burlington               census                  NaN   \n",
            "3            Camden               census                  NaN   \n",
            "4          Cape May               census                  NaN   \n",
            "5        Cumberland               census                  NaN   \n",
            "6             Essex               census                  NaN   \n",
            "7        Gloucester               census                  NaN   \n",
            "8            Hudson               census                  NaN   \n",
            "9         Hunterdon               census                  NaN   \n",
            "10           Mercer               census                  NaN   \n",
            "11        Middlesex               census                  NaN   \n",
            "12         Monmouth               census                  NaN   \n",
            "13           Morris               census                  NaN   \n",
            "14            Ocean               census                  NaN   \n",
            "15          Passaic               census                  NaN   \n",
            "16            Salem               census                  NaN   \n",
            "17         Somerset               census                  NaN   \n",
            "18           Sussex               census                  NaN   \n",
            "19            Union               census                  NaN   \n",
            "20           Warren               census                  NaN   \n",
            "21  Total New Jersey                 NaN                  NaN   \n",
            "\n",
            "    Data Source in 2022       2020       2021       2022  \n",
            "0                   NaN    274,190    274,956    275,382  \n",
            "1                   NaN    953,690    955,383    953,540  \n",
            "2                   NaN    461,682    464,479    466,101  \n",
            "3                   NaN    523,122    524,093    524,649  \n",
            "4                   NaN     95,044     95,706     95,405  \n",
            "5                   NaN    153,719    152,083    151,347  \n",
            "6                   NaN    859,974    854,233    849,724  \n",
            "7                   NaN    302,563    304,592    306,767  \n",
            "8                   NaN    721,879    703,448    702,381  \n",
            "9                   NaN    128,786    129,671    129,805  \n",
            "10                  NaN    386,466    382,172    380,779  \n",
            "11                  NaN    861,408    862,364    861,094  \n",
            "12                  NaN    642,836    646,517    644,228  \n",
            "13                  NaN    508,439    510,613    511,219  \n",
            "14                  NaN    638,465    649,825    655,663  \n",
            "15                  NaN    523,439    518,376    513,634  \n",
            "16                  NaN     64,841     65,045     65,157  \n",
            "17                  NaN    344,754    346,498    347,047  \n",
            "18                  NaN    143,915    145,721    145,575  \n",
            "19                  NaN    573,660    572,833    570,417  \n",
            "20                  NaN    109,520    110,567    110,903  \n",
            "21                  NaN  9,272,392  9,269,175  9,260,817  \n"
          ]
        }
      ]
    },
    {
      "cell_type": "markdown",
      "source": [
        "**In this part, I used the 'rename var' function at least twice to modify variable names for better clarity and consistency within the dataset. This helped ensure that the variables were more intuitive and easier to understand when analyzing the data**"
      ],
      "metadata": {
        "id": "wvJnE-rviYMz"
      }
    },
    {
      "cell_type": "code",
      "source": [
        "# Rename the columns for clarity\n",
        "crime_data.rename(columns={\n",
        "    'County': 'county',\n",
        "    '2020': 'crime_2020',\n",
        "    '2021': 'crime_2021',\n",
        "    '2022': 'crime_2022'\n",
        "}, inplace=True)\n",
        "\n",
        "# Drop rows where 'county' is NaN or contains 'Total New Jersey'\n",
        "crime_data = crime_data.dropna(subset=['county'])\n",
        "crime_data = crime_data[~crime_data['county'].str.contains('Total', case=False)]\n",
        "\n",
        "# Remove whitespace from the 'county' column\n",
        "crime_data['county'] = crime_data['county'].str.strip()\n",
        "\n",
        "# Display the first 21 records (counties)\n",
        "print(\"Renamed Crime Data:\")\n",
        "print(crime_data.head(21))  # Show 21 counties.\n",
        "\n"
      ],
      "metadata": {
        "id": "1k2E-3hMk0qq",
        "outputId": "fcd8f825-658a-4f51-f218-61afd1112f54",
        "colab": {
          "base_uri": "https://localhost:8080/"
        }
      },
      "execution_count": null,
      "outputs": [
        {
          "output_type": "stream",
          "name": "stdout",
          "text": [
            "Renamed Crime Data:\n",
            "        county crime_2020 crime_2021 crime_2022\n",
            "0     Atlantic     46,551     42,324     47,072\n",
            "1       Bergen    193,882    208,751    294,129\n",
            "2   Burlington     44,940     48,929     52,173\n",
            "3       Camden    103,373    114,926    194,754\n",
            "4     Cape May     64,234     65,174     56,205\n",
            "5   Cumberland     17,378     14,656     17,993\n",
            "6        Essex     45,882     47,082     56,433\n",
            "7   Gloucester     38,332     35,690     40,038\n",
            "8       Hudson     32,374     29,689     38,604\n",
            "9    Hunterdon      8,036      7,447     10,467\n",
            "10      Mercer     21,976     21,813     26,797\n",
            "11   Middlesex     36,204     35,448     45,162\n",
            "12    Monmouth     85,417     70,450     76,941\n",
            "13      Morris     33,417     26,142     31,456\n",
            "14       Ocean     55,640     39,291     52,245\n",
            "15     Passaic     28,610     27,683     34,688\n",
            "16       Salem     19,312     15,548     14,772\n",
            "17    Somerset     21,493     21,174     22,982\n",
            "18      Sussex      6,345      7,471      7,074\n",
            "19       Union     35,176     35,881     41,550\n",
            "20      Warren     20,030     19,753     17,675\n"
          ]
        }
      ]
    },
    {
      "cell_type": "markdown",
      "source": [
        "**Note for Rename Code:** In this code, I used the rename() method to improve the clarity of the column names in the dataset. Specifically, the columns were renamed as follows:\n",
        "\n",
        "- The **'County'** column was renamed to **'county'** to maintain consistency in naming conventions (lowercase).\n",
        "\n",
        "- The columns for the years **2020, 2021, and 2022** were renamed to **'crime_2020', 'crime_2021', and 'crime_2022'**, respectively, to clearly indicate the year of crime data."
      ],
      "metadata": {
        "id": "sGCL3MeYtOdX"
      }
    },
    {
      "cell_type": "code",
      "source": [
        "# Rename columns\n",
        "budget_data.rename(columns={\n",
        "    'Unnamed: 1': 'County',  # Update to 'County'\n",
        "    '2020': 'police_budget_2020',\n",
        "    '2021': 'police_budget_2021',\n",
        "    '2022': 'police_budget_2022'\n",
        "}, inplace=True)\n",
        "\n",
        "# Drop rows where the 'County' column is NaN (corrected column name)\n",
        "budget_data = budget_data.dropna(subset=['County'])\n",
        "\n",
        "# Clean county names by stripping any leading/trailing whitespace\n",
        "budget_data['County'] = budget_data['County'].str.strip()\n",
        "\n",
        "# Display the updated data to see the first 30 rows\n",
        "print(\"\\nRenamed Budget Data:\")\n",
        "print(budget_data.head(30))  # Show first 30 rows\n"
      ],
      "metadata": {
        "id": "t6FbNsa5epRx",
        "outputId": "411c3be6-e5ee-4362-d0f4-18510139d1bb",
        "colab": {
          "base_uri": "https://localhost:8080/"
        }
      },
      "execution_count": null,
      "outputs": [
        {
          "output_type": "stream",
          "name": "stdout",
          "text": [
            "\n",
            "Renamed Budget Data:\n",
            "              County police_budget_2020 police_budget_2021 police_budget_2022\n",
            "0           Atlantic     119,262,425.86     117,407,829.60     123,993,860.75\n",
            "1             Bergen     427,518,344.81     448,124,550.75     471,782,982.68\n",
            "2         Burlington     122,407,763.95     125,868,638.98     128,190,733.44\n",
            "3             Camden     137,420,012.72     135,626,159.37     147,391,782.25\n",
            "4           Cape May      48,629,849.27      52,207,062.40      54,103,285.95\n",
            "5         Cumberland      35,045,613.87      36,259,361.36      37,329,195.20\n",
            "6              Essex     350,382,509.60     464,878,127.99     381,983,364.75\n",
            "7         Gloucester      67,519,873.43      65,845,717.39      79,816,171.41\n",
            "8             Hudson     290,272,331.25     300,219,111.87     377,519,753.78\n",
            "9          Hunterdon      28,100,764.97      29,438,131.72      31,540,757.26\n",
            "10            Mercer      93,981,950.66     104,382,301.52      97,266,160.77\n",
            "11         Middlesex     253,427,739.92     292,934,332.15     331,800,018.84\n",
            "12          Monmouth     261,784,930.78     271,539,409.48     282,625,410.02\n",
            "13            Morris     171,635,578.16     184,152,262.87     195,233,806.17\n",
            "14             Ocean     224,440,512.53     228,994,762.61     231,442,122.59\n",
            "15           Passaic     101,872,259.28     148,684,341.76     197,295,052.89\n",
            "16             Salem       9,149,236.34      15,079,410.98      13,660,155.37\n",
            "17          Somerset     100,180,014.14      60,327,888.26     117,789,364.83\n",
            "18            Sussex      33,385,136.64      29,710,261.77      33,563,129.27\n",
            "19             Union     186,982,367.17     224,208,846.59     246,829,591.40\n",
            "20            Warren      26,138,557.21      26,936,297.87      29,352,144.76\n",
            "21  Total New Jersey   3,089,537,772.56   3,362,824,807.29   3,610,508,844.38\n"
          ]
        }
      ]
    },
    {
      "cell_type": "markdown",
      "source": [
        "**Note for Rename Code:** In this code, I used the rename() method to make the column names more descriptive and consistent with the data they represent. Specifically, the columns were renamed as follows:\n",
        "- The **'Unnamed: 1'** column was renamed to **'County'** to clearly represent the county names in the dataset.\n",
        "- The columns representing the years **2020, 2021, and 2022** were renamed to **'police_budget_2020', 'police_budget_2021', and 'police_budget_2022'**, respectively, to indicate the budget data for each of those years."
      ],
      "metadata": {
        "id": "L4fvezmuu5fC"
      }
    },
    {
      "cell_type": "code",
      "source": [
        "# Rename columns\n",
        "population_data.rename(columns={\n",
        "    'Unnamed: 1': 'County',  # Rename column 'Unnamed: 1' to 'County'\n",
        "    '2020': 'population_2020',\n",
        "    '2021': 'population_2021',\n",
        "    '2022': 'population_2022'\n",
        "}, inplace=True)\n",
        "\n",
        "# Drop rows where the 'County' column is NaN (corrected column name)\n",
        "population_data = population_data.dropna(subset=['County'])\n",
        "\n",
        "# Clean county names by stripping any leading/trailing whitespace\n",
        "population_data['County'] = population_data['County'].str.strip()\n",
        "\n",
        "# Display the updated data to see the first 30 rows\n",
        "print(\"Renamed Population Data:\")\n",
        "print(population_data.head(30))  # Show first 30 rows\n"
      ],
      "metadata": {
        "id": "Vg5t-VRufSw5",
        "outputId": "94ac666f-11c2-4c0d-f32b-87ec1e4efd75",
        "colab": {
          "base_uri": "https://localhost:8080/"
        }
      },
      "execution_count": null,
      "outputs": [
        {
          "output_type": "stream",
          "name": "stdout",
          "text": [
            "Renamed Population Data:\n",
            "              County Data Source in 2020  Data Source in 2021  \\\n",
            "0           Atlantic              census                  NaN   \n",
            "1             Bergen              census                  NaN   \n",
            "2         Burlington              census                  NaN   \n",
            "3             Camden              census                  NaN   \n",
            "4           Cape May              census                  NaN   \n",
            "5         Cumberland              census                  NaN   \n",
            "6              Essex              census                  NaN   \n",
            "7         Gloucester              census                  NaN   \n",
            "8             Hudson              census                  NaN   \n",
            "9          Hunterdon              census                  NaN   \n",
            "10            Mercer              census                  NaN   \n",
            "11         Middlesex              census                  NaN   \n",
            "12          Monmouth              census                  NaN   \n",
            "13            Morris              census                  NaN   \n",
            "14             Ocean              census                  NaN   \n",
            "15           Passaic              census                  NaN   \n",
            "16             Salem              census                  NaN   \n",
            "17          Somerset              census                  NaN   \n",
            "18            Sussex              census                  NaN   \n",
            "19             Union              census                  NaN   \n",
            "20            Warren              census                  NaN   \n",
            "21  Total New Jersey                 NaN                  NaN   \n",
            "\n",
            "    Data Source in 2022 population_2020 population_2021 population_2022  \n",
            "0                   NaN         274,190         274,956         275,382  \n",
            "1                   NaN         953,690         955,383         953,540  \n",
            "2                   NaN         461,682         464,479         466,101  \n",
            "3                   NaN         523,122         524,093         524,649  \n",
            "4                   NaN          95,044          95,706          95,405  \n",
            "5                   NaN         153,719         152,083         151,347  \n",
            "6                   NaN         859,974         854,233         849,724  \n",
            "7                   NaN         302,563         304,592         306,767  \n",
            "8                   NaN         721,879         703,448         702,381  \n",
            "9                   NaN         128,786         129,671         129,805  \n",
            "10                  NaN         386,466         382,172         380,779  \n",
            "11                  NaN         861,408         862,364         861,094  \n",
            "12                  NaN         642,836         646,517         644,228  \n",
            "13                  NaN         508,439         510,613         511,219  \n",
            "14                  NaN         638,465         649,825         655,663  \n",
            "15                  NaN         523,439         518,376         513,634  \n",
            "16                  NaN          64,841          65,045          65,157  \n",
            "17                  NaN         344,754         346,498         347,047  \n",
            "18                  NaN         143,915         145,721         145,575  \n",
            "19                  NaN         573,660         572,833         570,417  \n",
            "20                  NaN         109,520         110,567         110,903  \n",
            "21                  NaN       9,272,392       9,269,175       9,260,817  \n"
          ]
        }
      ]
    },
    {
      "cell_type": "markdown",
      "source": [
        "**Note for Rename Code:** In this code, I used the rename() method to rename columns in the population dataset for clarity and consistency. Specifically, the columns were renamed as follows:\n",
        "\n",
        "- The column **'Unnamed: 1'** was renamed to **'County'** to better represent the county names in the dataset.\n",
        "\n",
        "- The columns for the years **2020, 2021, and 2022**  were renamed to **'population_2020', 'population_2021', and 'population_2022'** to reflect the population data for each of those years."
      ],
      "metadata": {
        "id": "3VYizO6lwcXD"
      }
    },
    {
      "cell_type": "markdown",
      "source": [],
      "metadata": {
        "id": "1N789REVuBcg"
      }
    },
    {
      "cell_type": "code",
      "source": [
        "# Read the CSV file from the uploaded file (make sure the file name is correct)\n",
        "budget_data = pd.read_csv(url_budget_data, header=1)\n",
        "\n",
        "# Rename columns to replace 2020, 2021, and 2022 with more descriptive names\n",
        "budget_data.rename(columns={\n",
        "    '2020': 'Year 2020',\n",
        "    '2021': 'Year 2021',\n",
        "    '2022': 'Year 2022'\n",
        "}, inplace=True)\n",
        "\n",
        "# Clean the 'County' column by removing extra spaces (optional)\n",
        "budget_data['County'] = budget_data['County'].str.strip()\n",
        "\n",
        "# Print the updated budget data to show all counties\n",
        "print(\"Updated Budget Data:\")\n",
        "print(budget_data.head(30))\n",
        "\n",
        "\n"
      ],
      "metadata": {
        "id": "j-waSceQp6bq",
        "outputId": "b9204a96-d12b-4367-b8d6-d1084a84ae70",
        "colab": {
          "base_uri": "https://localhost:8080/"
        }
      },
      "execution_count": null,
      "outputs": [
        {
          "output_type": "stream",
          "name": "stdout",
          "text": [
            "Updated Budget Data:\n",
            "              County         Year 2020         Year 2021         Year 2022\n",
            "0           Atlantic    119,262,425.86    117,407,829.60    123,993,860.75\n",
            "1             Bergen    427,518,344.81    448,124,550.75    471,782,982.68\n",
            "2         Burlington    122,407,763.95    125,868,638.98    128,190,733.44\n",
            "3             Camden    137,420,012.72    135,626,159.37    147,391,782.25\n",
            "4           Cape May     48,629,849.27     52,207,062.40     54,103,285.95\n",
            "5         Cumberland     35,045,613.87     36,259,361.36     37,329,195.20\n",
            "6              Essex    350,382,509.60    464,878,127.99    381,983,364.75\n",
            "7         Gloucester     67,519,873.43     65,845,717.39     79,816,171.41\n",
            "8             Hudson    290,272,331.25    300,219,111.87    377,519,753.78\n",
            "9          Hunterdon     28,100,764.97     29,438,131.72     31,540,757.26\n",
            "10            Mercer     93,981,950.66    104,382,301.52     97,266,160.77\n",
            "11         Middlesex    253,427,739.92    292,934,332.15    331,800,018.84\n",
            "12          Monmouth    261,784,930.78    271,539,409.48    282,625,410.02\n",
            "13            Morris    171,635,578.16    184,152,262.87    195,233,806.17\n",
            "14             Ocean    224,440,512.53    228,994,762.61    231,442,122.59\n",
            "15           Passaic    101,872,259.28    148,684,341.76    197,295,052.89\n",
            "16             Salem      9,149,236.34     15,079,410.98     13,660,155.37\n",
            "17          Somerset    100,180,014.14     60,327,888.26    117,789,364.83\n",
            "18            Sussex     33,385,136.64     29,710,261.77     33,563,129.27\n",
            "19             Union    186,982,367.17    224,208,846.59    246,829,591.40\n",
            "20            Warren     26,138,557.21     26,936,297.87     29,352,144.76\n",
            "21  Total New Jersey  3,089,537,772.56  3,362,824,807.29  3,610,508,844.38\n"
          ]
        }
      ]
    },
    {
      "cell_type": "markdown",
      "source": [
        "**Note for Rename Code:** In this analysis, the rename() function from pandas was used to modify the column names of the budget data. Specifically, the columns corresponding to the years 2020, 2021, and 2022 were renamed to more descriptive labels. The original column names, which were simply the years, were updated to:\n",
        "\n",
        "2020 → Year 2020\n",
        "\n",
        "2021 → Year 2021\n",
        "\n",
        "2022 → Year 2022"
      ],
      "metadata": {
        "id": "rWO0Z1iG0JmH"
      }
    },
    {
      "cell_type": "code",
      "source": [
        "# Read the CSV file after upload (replace with the file name you uploaded)\n",
        "budget_data = pd.read_csv(url_budget_data, header=1)\n",
        "\n",
        "# ---- Rename columns for easier reference ----\n",
        "budget_data.rename(columns={\n",
        "    'Unnamed: 1': 'County',  # Rename 'Unnamed: 1' to 'County'\n",
        "    '2020': 'Budget_2020',\n",
        "    '2021': 'Budget_2021',\n",
        "    '2022': 'Budget_2022'\n",
        "}, inplace=True)\n",
        "\n",
        "# ---- Replace county names to add \"County\" at the end ----\n",
        "budget_data['County'] = budget_data['County'].apply(lambda x: x + \" County\" if \"County\" not in x else x)\n",
        "\n",
        "# ---- Add the '$' sign to the budget values ----\n",
        "budget_data['Budget_2020'] = '$' + budget_data['Budget_2020'].astype(str)\n",
        "budget_data['Budget_2021'] = '$' + budget_data['Budget_2021'].astype(str)\n",
        "budget_data['Budget_2022'] = '$' + budget_data['Budget_2022'].astype(str)\n",
        "\n",
        "# ---- Print the updated data to review the changes ----\n",
        "print(\"Updated Budget Data (After Adding '$' and Replacing County Names):\")\n",
        "print(budget_data)"
      ],
      "metadata": {
        "id": "99ld53xXxRc0",
        "outputId": "47ebe30a-4f52-4135-eb1d-defa65be19de",
        "colab": {
          "base_uri": "https://localhost:8080/"
        }
      },
      "execution_count": null,
      "outputs": [
        {
          "output_type": "stream",
          "name": "stdout",
          "text": [
            "Updated Budget Data (After Adding '$' and Replacing County Names):\n",
            "                     County        Budget_2020        Budget_2021  \\\n",
            "0          Atlantic  County    $119,262,425.86    $117,407,829.60   \n",
            "1            Bergen  County    $427,518,344.81    $448,124,550.75   \n",
            "2        Burlington  County    $122,407,763.95    $125,868,638.98   \n",
            "3            Camden  County    $137,420,012.72    $135,626,159.37   \n",
            "4          Cape May  County     $48,629,849.27     $52,207,062.40   \n",
            "5        Cumberland  County     $35,045,613.87     $36,259,361.36   \n",
            "6             Essex  County    $350,382,509.60    $464,878,127.99   \n",
            "7        Gloucester  County     $67,519,873.43     $65,845,717.39   \n",
            "8            Hudson  County    $290,272,331.25    $300,219,111.87   \n",
            "9         Hunterdon  County     $28,100,764.97     $29,438,131.72   \n",
            "10           Mercer  County     $93,981,950.66    $104,382,301.52   \n",
            "11        Middlesex  County    $253,427,739.92    $292,934,332.15   \n",
            "12         Monmouth  County    $261,784,930.78    $271,539,409.48   \n",
            "13           Morris  County    $171,635,578.16    $184,152,262.87   \n",
            "14            Ocean  County    $224,440,512.53    $228,994,762.61   \n",
            "15          Passaic  County    $101,872,259.28    $148,684,341.76   \n",
            "16            Salem  County      $9,149,236.34     $15,079,410.98   \n",
            "17         Somerset  County    $100,180,014.14     $60,327,888.26   \n",
            "18           Sussex  County     $33,385,136.64     $29,710,261.77   \n",
            "19            Union  County    $186,982,367.17    $224,208,846.59   \n",
            "20           Warren  County     $26,138,557.21     $26,936,297.87   \n",
            "21  Total New Jersey County  $3,089,537,772.56  $3,362,824,807.29   \n",
            "\n",
            "          Budget_2022  \n",
            "0     $123,993,860.75  \n",
            "1     $471,782,982.68  \n",
            "2     $128,190,733.44  \n",
            "3     $147,391,782.25  \n",
            "4      $54,103,285.95  \n",
            "5      $37,329,195.20  \n",
            "6     $381,983,364.75  \n",
            "7      $79,816,171.41  \n",
            "8     $377,519,753.78  \n",
            "9      $31,540,757.26  \n",
            "10     $97,266,160.77  \n",
            "11    $331,800,018.84  \n",
            "12    $282,625,410.02  \n",
            "13    $195,233,806.17  \n",
            "14    $231,442,122.59  \n",
            "15    $197,295,052.89  \n",
            "16     $13,660,155.37  \n",
            "17    $117,789,364.83  \n",
            "18     $33,563,129.27  \n",
            "19    $246,829,591.40  \n",
            "20     $29,352,144.76  \n",
            "21  $3,610,508,844.38  \n"
          ]
        }
      ]
    },
    {
      "cell_type": "markdown",
      "source": [
        "In this case, I did the following:\n",
        "- **Renaming Columns:** The columns are renamed for better clarity, such as changing 'Unnamed: 1' to 'County' and renaming the year columns (2020, 2021, 2022) to 'Budget_2020', 'Budget_2021', and 'Budget_2022'.\n",
        "\n",
        "- **Adding \"County\" to County Names**: The word \"County\" is added to the county names in the 'County' column if it’s missing.\n",
        "\n",
        "- **Formatting Budget Values:** A dollar sign ($) is added to the budget values for each year."
      ],
      "metadata": {
        "id": "-M4vLuyh1agQ"
      }
    },
    {
      "cell_type": "markdown",
      "source": [],
      "metadata": {
        "id": "XogGw3Kd1aRJ"
      }
    },
    {
      "cell_type": "code",
      "source": [
        "# Load the population data from a local file and skip the first row\n",
        "population_data = pd.read_csv(url_population_data, header=1)\n",
        "\n",
        "# Rename columns for clarity to match the correct source data columns\n",
        "population_data.columns = ['County', 'Data Source 2020', 'Data Source 2021', 'Data Source 2022', '2020', '2021', '2022']\n",
        "\n",
        "# Replace NaN (missing values) with 'Estimated' in the 'Data Source' columns\n",
        "columns_to_replace = ['Data Source 2020', 'Data Source 2021', 'Data Source 2022']\n",
        "population_data[columns_to_replace] = population_data[columns_to_replace].fillna('Estimated')\n",
        "\n",
        "# Display the DataFrame without population columns\n",
        "print(\"\\nUpdated DataFrame (without population columns):\")\n",
        "print(population_data[['County', 'Data Source 2020', 'Data Source 2021', 'Data Source 2022']].head(21))  # Show only the 21 counties and source data columns\n"
      ],
      "metadata": {
        "id": "lvQo2ukw7r45",
        "outputId": "3498a93e-2e40-46bd-88a1-6d20770f025c",
        "colab": {
          "base_uri": "https://localhost:8080/"
        }
      },
      "execution_count": null,
      "outputs": [
        {
          "output_type": "stream",
          "name": "stdout",
          "text": [
            "\n",
            "Updated DataFrame (without population columns):\n",
            "         County Data Source 2020 Data Source 2021 Data Source 2022\n",
            "0     Atlantic            census        Estimated        Estimated\n",
            "1       Bergen            census        Estimated        Estimated\n",
            "2   Burlington            census        Estimated        Estimated\n",
            "3       Camden            census        Estimated        Estimated\n",
            "4     Cape May            census        Estimated        Estimated\n",
            "5   Cumberland            census        Estimated        Estimated\n",
            "6        Essex            census        Estimated        Estimated\n",
            "7   Gloucester            census        Estimated        Estimated\n",
            "8       Hudson            census        Estimated        Estimated\n",
            "9    Hunterdon            census        Estimated        Estimated\n",
            "10      Mercer            census        Estimated        Estimated\n",
            "11   Middlesex            census        Estimated        Estimated\n",
            "12    Monmouth            census        Estimated        Estimated\n",
            "13      Morris            census        Estimated        Estimated\n",
            "14       Ocean            census        Estimated        Estimated\n",
            "15     Passaic            census        Estimated        Estimated\n",
            "16       Salem            census        Estimated        Estimated\n",
            "17    Somerset            census        Estimated        Estimated\n",
            "18      Sussex            census        Estimated        Estimated\n",
            "19       Union            census        Estimated        Estimated\n",
            "20      Warren            census        Estimated        Estimated\n"
          ]
        }
      ]
    },
    {
      "cell_type": "markdown",
      "source": [
        "**Nota for Replace Code**: In the code, the replace operation is used to fill missing values (NaN) in the \"Data Source\" columns (for 2020, 2021, and 2022) with the string \"Estimated\". This ensures that any missing data in these columns is labeled as \"Estimated\" rather than leaving it as NaN."
      ],
      "metadata": {
        "id": "7j8EOygn3HQl"
      }
    },
    {
      "cell_type": "code",
      "source": [
        "# Rename columns (assuming you've already done this step as well)\n",
        "population_data.columns = ['County', 'Data Source 2020', 'Data Source 2021', 'Data Source 2022', '2020', '2021', '2022']\n",
        "\n",
        "# Replace N/A with 'Estimated' in Data Source columns (this should already be done as you mentioned)\n",
        "columns_to_replace = ['Data Source 2020', 'Data Source 2021', 'Data Source 2022']\n",
        "population_data[columns_to_replace] = population_data[columns_to_replace].fillna('Estimated')\n",
        "\n",
        "# Check that the \"census\" data exists in the columns\n",
        "# You can check the data before replacing \"census\"\n",
        "print(\"Data before replacement:\")\n",
        "print(population_data[['Data Source 2020', 'Data Source 2021', 'Data Source 2022']].head(21))\n",
        "\n",
        "# Replace \"census\" with \"Census Data\" in the 'Data Source' columns\n",
        "population_data['Data Source 2020'] = population_data['Data Source 2020'].replace('census', 'Census Data')\n",
        "population_data['Data Source 2021'] = population_data['Data Source 2021'].replace('census', 'Census Data')\n",
        "population_data['Data Source 2022'] = population_data['Data Source 2022'].replace('census', 'Census Data')\n",
        "\n",
        "# Display the updated DataFrame\n",
        "print(\"\\nUpdated DataFrame (after replacing 'census' with 'Census Data'):\")\n",
        "print(population_data[['County', 'Data Source 2020', 'Data Source 2021', 'Data Source 2022']].head(21))  # Show only the 21 counties and source data columns\n",
        "\n"
      ],
      "metadata": {
        "id": "qPef176b3jKG",
        "outputId": "4c058aa9-1c71-40f6-d3f8-150668c25d9d",
        "colab": {
          "base_uri": "https://localhost:8080/"
        }
      },
      "execution_count": null,
      "outputs": [
        {
          "output_type": "stream",
          "name": "stdout",
          "text": [
            "Data before replacement:\n",
            "   Data Source 2020 Data Source 2021 Data Source 2022\n",
            "0            census        Estimated        Estimated\n",
            "1            census        Estimated        Estimated\n",
            "2            census        Estimated        Estimated\n",
            "3            census        Estimated        Estimated\n",
            "4            census        Estimated        Estimated\n",
            "5            census        Estimated        Estimated\n",
            "6            census        Estimated        Estimated\n",
            "7            census        Estimated        Estimated\n",
            "8            census        Estimated        Estimated\n",
            "9            census        Estimated        Estimated\n",
            "10           census        Estimated        Estimated\n",
            "11           census        Estimated        Estimated\n",
            "12           census        Estimated        Estimated\n",
            "13           census        Estimated        Estimated\n",
            "14           census        Estimated        Estimated\n",
            "15           census        Estimated        Estimated\n",
            "16           census        Estimated        Estimated\n",
            "17           census        Estimated        Estimated\n",
            "18           census        Estimated        Estimated\n",
            "19           census        Estimated        Estimated\n",
            "20           census        Estimated        Estimated\n",
            "\n",
            "Updated DataFrame (after replacing 'census' with 'Census Data'):\n",
            "         County Data Source 2020 Data Source 2021 Data Source 2022\n",
            "0     Atlantic       Census Data        Estimated        Estimated\n",
            "1       Bergen       Census Data        Estimated        Estimated\n",
            "2   Burlington       Census Data        Estimated        Estimated\n",
            "3       Camden       Census Data        Estimated        Estimated\n",
            "4     Cape May       Census Data        Estimated        Estimated\n",
            "5   Cumberland       Census Data        Estimated        Estimated\n",
            "6        Essex       Census Data        Estimated        Estimated\n",
            "7   Gloucester       Census Data        Estimated        Estimated\n",
            "8       Hudson       Census Data        Estimated        Estimated\n",
            "9    Hunterdon       Census Data        Estimated        Estimated\n",
            "10      Mercer       Census Data        Estimated        Estimated\n",
            "11   Middlesex       Census Data        Estimated        Estimated\n",
            "12    Monmouth       Census Data        Estimated        Estimated\n",
            "13      Morris       Census Data        Estimated        Estimated\n",
            "14       Ocean       Census Data        Estimated        Estimated\n",
            "15     Passaic       Census Data        Estimated        Estimated\n",
            "16       Salem       Census Data        Estimated        Estimated\n",
            "17    Somerset       Census Data        Estimated        Estimated\n",
            "18      Sussex       Census Data        Estimated        Estimated\n",
            "19       Union       Census Data        Estimated        Estimated\n",
            "20      Warren       Census Data        Estimated        Estimated\n"
          ]
        }
      ]
    },
    {
      "cell_type": "markdown",
      "source": [
        "**Note for Replace Code:** The replace function was used to change the word \"census\" to \"Census Data\" in the columns for 2020, 2021, and 2022 under \"Data Source.\""
      ],
      "metadata": {
        "id": "dfJUOHyy4sju"
      }
    },
    {
      "cell_type": "code",
      "source": [
        "# Load the population dataset\n",
        "population_data = pd.read_csv(url_population_data, header=1)\n",
        "\n",
        "# Drop the columns: 'Data Source in 2021', 'Data Source in 2022', '2021', '2022'\n",
        "population_data = population_data.drop(columns=['Data Source in 2021', 'Data Source in 2022', '2021', '2022'])\n",
        "\n",
        "# Display the updated DataFrame (only the relevant columns)\n",
        "print(\"Updated Population Data (Only 2020 and Data Source in 2020):\")\n",
        "print(population_data.head(30))  # Show the first 30 rows to verify the data\n"
      ],
      "metadata": {
        "id": "zRhF0mXADkSI",
        "outputId": "e8652e9f-9eec-4d33-d38a-ca10e9288bb6",
        "colab": {
          "base_uri": "https://localhost:8080/"
        }
      },
      "execution_count": null,
      "outputs": [
        {
          "output_type": "stream",
          "name": "stdout",
          "text": [
            "Updated Population Data (Only 2020 and Data Source in 2020):\n",
            "              County Data Source in 2020       2020\n",
            "0          Atlantic               census    274,190\n",
            "1            Bergen               census    953,690\n",
            "2        Burlington               census    461,682\n",
            "3            Camden               census    523,122\n",
            "4          Cape May               census     95,044\n",
            "5        Cumberland               census    153,719\n",
            "6             Essex               census    859,974\n",
            "7        Gloucester               census    302,563\n",
            "8            Hudson               census    721,879\n",
            "9         Hunterdon               census    128,786\n",
            "10           Mercer               census    386,466\n",
            "11        Middlesex               census    861,408\n",
            "12         Monmouth               census    642,836\n",
            "13           Morris               census    508,439\n",
            "14            Ocean               census    638,465\n",
            "15          Passaic               census    523,439\n",
            "16            Salem               census     64,841\n",
            "17         Somerset               census    344,754\n",
            "18           Sussex               census    143,915\n",
            "19            Union               census    573,660\n",
            "20           Warren               census    109,520\n",
            "21  Total New Jersey                 NaN  9,272,392\n"
          ]
        }
      ]
    },
    {
      "cell_type": "markdown",
      "source": [
        "**Note for Drop Code:** In the code, the drop() function is used to remove the following columns from the dataset:\n",
        "\n",
        "Data Source in 2021\n",
        "\n",
        "Data Source in 2022\n",
        "\n",
        "2021\n",
        "\n",
        "2022\n",
        "\n",
        "This helps simplify the data to only include the relevant columns for the year 2020."
      ],
      "metadata": {
        "id": "HivEBgRM-co9"
      }
    },
    {
      "cell_type": "code",
      "source": [],
      "metadata": {
        "id": "Ww1qJ7Cj-cSh"
      },
      "execution_count": null,
      "outputs": []
    },
    {
      "cell_type": "code",
      "source": [
        "# Load the dataset from the provided URL\n",
        "population_data = pd.read_csv(url_population_data, header=1)\n",
        "# Drop columns for 2020 and 2022\n",
        "population_data = population_data.drop(columns=['Data Source in 2020', '2020', 'Data Source in 2022', '2022'])\n",
        "\n",
        "# Display the updated DataFrame\n",
        "print(\"Updated Population Data (only 2021):\")\n",
        "print(population_data.head(30))  # Show the updated data\n"
      ],
      "metadata": {
        "id": "OH7Xlz0IFAMX",
        "outputId": "19ba248f-d16b-4676-8493-dd528e416905",
        "colab": {
          "base_uri": "https://localhost:8080/"
        }
      },
      "execution_count": null,
      "outputs": [
        {
          "output_type": "stream",
          "name": "stdout",
          "text": [
            "Updated Population Data (only 2021):\n",
            "              County  Data Source in 2021       2021\n",
            "0          Atlantic                   NaN    274,956\n",
            "1            Bergen                   NaN    955,383\n",
            "2        Burlington                   NaN    464,479\n",
            "3            Camden                   NaN    524,093\n",
            "4          Cape May                   NaN     95,706\n",
            "5        Cumberland                   NaN    152,083\n",
            "6             Essex                   NaN    854,233\n",
            "7        Gloucester                   NaN    304,592\n",
            "8            Hudson                   NaN    703,448\n",
            "9         Hunterdon                   NaN    129,671\n",
            "10           Mercer                   NaN    382,172\n",
            "11        Middlesex                   NaN    862,364\n",
            "12         Monmouth                   NaN    646,517\n",
            "13           Morris                   NaN    510,613\n",
            "14            Ocean                   NaN    649,825\n",
            "15          Passaic                   NaN    518,376\n",
            "16            Salem                   NaN     65,045\n",
            "17         Somerset                   NaN    346,498\n",
            "18           Sussex                   NaN    145,721\n",
            "19            Union                   NaN    572,833\n",
            "20           Warren                   NaN    110,567\n",
            "21  Total New Jersey                  NaN  9,269,175\n"
          ]
        }
      ]
    },
    {
      "cell_type": "markdown",
      "source": [
        "**Note for Drop Code:** In this code, the drop() function is used to remove specific columns from the dataset. The columns '**Data Source in 2020', '2020', 'Data Source in 2022', and '2022'** are dropped, leaving only the columns **'Data Source in 2021' and '2021'** for display. The drop() function allows us to eliminate unnecessary data and focus on the 2021-related information."
      ],
      "metadata": {
        "id": "BT3qgR8t_QN9"
      }
    },
    {
      "cell_type": "markdown",
      "source": [],
      "metadata": {
        "id": "wVznty11lB3i"
      }
    },
    {
      "cell_type": "markdown",
      "source": [
        "**In this part, I used code to collapse the data by applying groupby and aggregation functions such as average, mean, sum, max, and minimum. This helped to summarize the data and extract meaningful insights from grouped categories.**"
      ],
      "metadata": {
        "id": "ZY_uPXjHluxr"
      }
    },
    {
      "cell_type": "code",
      "source": [
        "\n",
        "# Merge the dataframes for 2020 and 2021\n",
        "df_merged_2020 = pd.merge(df_crime[['County', '2020_crime']], df_population[['County', '2020_population']], on='County', how='left')\n",
        "df_merged_2021 = pd.merge(df_crime[['County', '2021_crime']], df_population[['County', '2021_population']], on='County', how='left')\n",
        "\n",
        "# Group by 'County' and calculate the sum for crime and population for each year\n",
        "df_grouped_2020 = df_merged_2020.groupby('County').agg({\n",
        "    '2020_crime': 'sum',\n",
        "    '2020_population': 'sum'\n",
        "}).reset_index()\n",
        "\n",
        "df_grouped_2021 = df_merged_2021.groupby('County').agg({\n",
        "    '2021_crime': 'sum',\n",
        "    '2021_population': 'sum'\n",
        "}).reset_index()\n",
        "\n",
        "# Remove the row for \"Total New Jersey\"\n",
        "df_grouped_2020 = df_grouped_2020[df_grouped_2020['County'] != 'Total New Jersey']\n",
        "df_grouped_2021 = df_grouped_2021[df_grouped_2021['County'] != 'Total New Jersey']\n",
        "\n",
        "# Display the results\n",
        "print(\"Grouped Data for 2020 (without Total New Jersey):\")\n",
        "print(df_grouped_2020)\n",
        "\n",
        "print(\"Grouped Data for 2021 (without Total New Jersey):\")\n",
        "print(df_grouped_2021)\n"
      ],
      "metadata": {
        "id": "OMnjI1yqkZFn",
        "outputId": "c21249b2-a8ee-482a-cada-c90f6f52fe42",
        "colab": {
          "base_uri": "https://localhost:8080/"
        }
      },
      "execution_count": 112,
      "outputs": [
        {
          "output_type": "stream",
          "name": "stdout",
          "text": [
            "Grouped Data for 2020 (without Total New Jersey):\n",
            "         County  2020_crime  2020_population\n",
            "0     Atlantic      46551.0         274190.0\n",
            "1       Bergen     193882.0         953690.0\n",
            "2   Burlington      44940.0         461682.0\n",
            "3        Camden    103373.0              0.0\n",
            "4     Cape May      64234.0          95044.0\n",
            "5   Cumberland      17378.0         153719.0\n",
            "6         Essex     45882.0              0.0\n",
            "7   Gloucester      38332.0         302563.0\n",
            "8       Hudson      32374.0         721879.0\n",
            "9    Hunterdon       8036.0         128786.0\n",
            "10      Mercer      21976.0         386466.0\n",
            "11   Middlesex      36204.0         861408.0\n",
            "12    Monmouth      85417.0         642836.0\n",
            "13      Morris      33417.0         508439.0\n",
            "14       Ocean      55640.0         638465.0\n",
            "15     Passaic      28610.0         523439.0\n",
            "16       Salem      19312.0          64841.0\n",
            "17    Somerset      21493.0         344754.0\n",
            "18      Sussex       6345.0         143915.0\n",
            "20       Union      35176.0         573660.0\n",
            "21       Warren     20030.0              0.0\n",
            "Grouped Data for 2021 (without Total New Jersey):\n",
            "         County  2021_crime  2021_population\n",
            "0     Atlantic      42324.0         274956.0\n",
            "1       Bergen     208751.0         955383.0\n",
            "2   Burlington      48929.0         464479.0\n",
            "3        Camden    114926.0              0.0\n",
            "4     Cape May      65174.0          95706.0\n",
            "5   Cumberland      14656.0         152083.0\n",
            "6         Essex     47082.0              0.0\n",
            "7   Gloucester      35690.0         304592.0\n",
            "8       Hudson      29689.0         703448.0\n",
            "9    Hunterdon       7447.0         129671.0\n",
            "10      Mercer      21813.0         382172.0\n",
            "11   Middlesex      35448.0         862364.0\n",
            "12    Monmouth      70450.0         646517.0\n",
            "13      Morris      26142.0         510613.0\n",
            "14       Ocean      39291.0         649825.0\n",
            "15     Passaic      27683.0         518376.0\n",
            "16       Salem      15548.0          65045.0\n",
            "17    Somerset      21174.0         346498.0\n",
            "18      Sussex       7471.0         145721.0\n",
            "20       Union      35881.0         572833.0\n",
            "21       Warren     19753.0              0.0\n"
          ]
        }
      ]
    },
    {
      "cell_type": "markdown",
      "source": [
        "**Note for Groupby code:** The groupby function was used to aggregate crime and population data by county for the years 2020 and 2021, excluding the 'Total New Jersey' row from the results"
      ],
      "metadata": {
        "id": "IxqrWwXHkzxV"
      }
    },
    {
      "cell_type": "code",
      "source": [
        "\n",
        "# uploaded data\n",
        "df_crime: ['County', '2020_crime', '2021_crime', '2022_crime']\n",
        "df_population: ['County', '2020_population', '2021_population', '2022_population']\n",
        "\n",
        "# Merge crime and population data for 2021 and 2022\n",
        "df_merged = pd.merge(df_crime[['County', '2021_crime', '2022_crime']],\n",
        "                     df_population[['County', '2021_population', '2022_population']],\n",
        "                     on='County', how='left')\n",
        "\n",
        "# Group by 'County' and aggregate crime and population data for 2021 and 2022\n",
        "df_grouped_2021_2022 = df_merged[['County', '2021_crime', '2021_population', '2022_crime', '2022_population']] \\\n",
        "    .groupby('County', as_index=False) \\\n",
        "    .agg({\n",
        "        '2021_crime': 'sum',\n",
        "        '2021_population': 'sum',\n",
        "        '2022_crime': 'sum',\n",
        "        '2022_population': 'sum'\n",
        "    })\n",
        "\n",
        "# Exclude 'Total New Jersey' row\n",
        "df_grouped_2021_2022 = df_grouped_2021_2022[df_grouped_2021_2022['County'] != 'Total New Jersey']\n",
        "\n",
        "# Display the result\n",
        "print(df_grouped_2021_2022)\n",
        "\n",
        "# Optionally, save the result to a CSV file\n",
        "df_grouped_2021_2022.to_csv(\"grouped_data_2021_2022.csv\", index=False)\n"
      ],
      "metadata": {
        "id": "nXGJdm_gk-wn",
        "outputId": "a97f48b2-f75c-4056-d670-fcb9e19da0e9",
        "colab": {
          "base_uri": "https://localhost:8080/"
        }
      },
      "execution_count": 113,
      "outputs": [
        {
          "output_type": "stream",
          "name": "stdout",
          "text": [
            "         County  2021_crime  2021_population 2022_crime 2022_population\n",
            "0     Atlantic      42324.0         274956.0     47,072         275,382\n",
            "1       Bergen     208751.0         955383.0    294,129         953,540\n",
            "2   Burlington      48929.0         464479.0     52,173         466,101\n",
            "3        Camden    114926.0              0.0    194,754               0\n",
            "4     Cape May      65174.0          95706.0     56,205          95,405\n",
            "5   Cumberland      14656.0         152083.0     17,993         151,347\n",
            "6         Essex     47082.0              0.0     56,433               0\n",
            "7   Gloucester      35690.0         304592.0     40,038         306,767\n",
            "8       Hudson      29689.0         703448.0     38,604         702,381\n",
            "9    Hunterdon       7447.0         129671.0     10,467         129,805\n",
            "10      Mercer      21813.0         382172.0     26,797         380,779\n",
            "11   Middlesex      35448.0         862364.0     45,162         861,094\n",
            "12    Monmouth      70450.0         646517.0     76,941         644,228\n",
            "13      Morris      26142.0         510613.0     31,456         511,219\n",
            "14       Ocean      39291.0         649825.0     52,245         655,663\n",
            "15     Passaic      27683.0         518376.0     34,688         513,634\n",
            "16       Salem      15548.0          65045.0     14,772          65,157\n",
            "17    Somerset      21174.0         346498.0     22,982         347,047\n",
            "18      Sussex       7471.0         145721.0      7,074         145,575\n",
            "20       Union      35881.0         572833.0     41,550         570,417\n",
            "21       Warren     19753.0              0.0     17,675               0\n"
          ]
        }
      ]
    },
    {
      "cell_type": "markdown",
      "source": [
        "**Note for Groupby code:** The groupby function was used to aggregate crime and population data by county for the years 2021 and 2022. The data was grouped by the 'County' column, and the values for crime and population were summed"
      ],
      "metadata": {
        "id": "R2Vy_C9HlYT5"
      }
    },
    {
      "cell_type": "code",
      "source": [
        "# Load datasets for 2020, 2021, and 2022 and specify header=1\n",
        "df_crime = pd.read_csv(url_crime_data, header=1)\n",
        "df_budget = pd.read_csv(url_budget_data, header=1)\n",
        "df_population = pd.read_csv(url_population_data, header=1)\n",
        "\n",
        "# Rename columns for each dataset according to the years\n",
        "df_crime.columns = ['County', '2020_crime', '2021_crime', '2022_crime']\n",
        "df_budget.columns = ['County', '2020_budget', '2021_budget', '2022_budget']\n",
        "df_population.columns = ['County', 'Data_Source_2020', 'Data_Source_2021', 'Data_Source_2022', '2020_population', '2021_population', '2022_population']\n",
        "\n",
        "# Clean and format the crime data columns for each year\n",
        "df_crime['2020_crime'] = df_crime['2020_crime'].replace({',': ''}, regex=True).astype(float)\n",
        "df_crime['2021_crime'] = df_crime['2021_crime'].replace({',': ''}, regex=True).astype(float)\n",
        "df_crime['2022_crime'] = df_crime['2022_crime'].replace({',': ''}, regex=True).astype(float)\n",
        "\n",
        "# Clean and format the population columns by removing commas and converting to float\n",
        "df_population['2020_population'] = df_population['2020_population'].replace({',': ''}, regex=True).astype(float)\n",
        "df_population['2021_population'] = df_population['2021_population'].replace({',': ''}, regex=True).astype(float)\n",
        "df_population['2022_population'] = df_population['2022_population'].replace({',': ''}, regex=True).astype(float)\n",
        "\n",
        "# Merge the crime and population datasets for the years 2020, 2021, and 2022\n",
        "df_merged_2020 = pd.merge(df_crime[['County', '2020_crime']], df_population[['County', '2020_population']], on='County', how='left')\n",
        "df_merged_2021 = pd.merge(df_crime[['County', '2021_crime']], df_population[['County', '2021_population']], on='County', how='left')\n",
        "df_merged_2022 = pd.merge(df_crime[['County', '2022_crime']], df_population[['County', '2022_population']], on='County', how='left')\n",
        "\n",
        "# Handle missing values for Camden, Essex, and Warren (if necessary)\n",
        "df_merged_2020.loc[df_merged_2020['County'].isin(['Camden', 'Essex', 'Warren']), ['2020_crime', '2020_population']] = 0\n",
        "df_merged_2021.loc[df_merged_2021['County'].isin(['Camden', 'Essex', 'Warren']), ['2021_crime', '2021_population']] = 0\n",
        "df_merged_2022.loc[df_merged_2022['County'].isin(['Camden', 'Essex', 'Warren']), ['2022_crime', '2022_population']] = 0\n",
        "\n",
        "# Collapse (sum) the crime and population data for each year (2020, 2021, 2022)\n",
        "df_collapsed_2020 = df_merged_2020.groupby('County').agg({\n",
        "    '2020_crime': 'sum',\n",
        "    '2020_population': 'sum'\n",
        "}).reset_index()\n",
        "\n",
        "df_collapsed_2021 = df_merged_2021.groupby('County').agg({\n",
        "    '2021_crime': 'sum',\n",
        "    '2021_population': 'sum'\n",
        "}).reset_index()\n",
        "\n",
        "df_collapsed_2022 = df_merged_2022.groupby('County').agg({\n",
        "    '2022_crime': 'sum',\n",
        "    '2022_population': 'sum'\n",
        "}).reset_index()\n",
        "\n",
        "# Display the collapsed data for 2020, 2021, and 2022\n",
        "print(\"\\nCollapsed Data for 2020:\")\n",
        "print(df_collapsed_2020)\n",
        "\n",
        "print(\"\\nCollapsed Data for 2021:\")\n",
        "print(df_collapsed_2021)\n",
        "\n",
        "print(\"\\nCollapsed Data for 2022:\")\n",
        "print(df_collapsed_2022)\n",
        "\n",
        "# Optionally, save the collapsed data into CSV files\n",
        "df_collapsed_2020.to_csv(\"collapsed_data_2020.csv\", index=False)\n",
        "df_collapsed_2021.to_csv(\"collapsed_data_2021.csv\", index=False)\n",
        "df_collapsed_2022.to_csv(\"collapsed_data_2022.csv\", index=False)\n"
      ],
      "metadata": {
        "id": "puSzPUrshs2K",
        "outputId": "aabe89a4-aeac-48a0-a99f-500b697c8531",
        "colab": {
          "base_uri": "https://localhost:8080/"
        }
      },
      "execution_count": 103,
      "outputs": [
        {
          "output_type": "stream",
          "name": "stdout",
          "text": [
            "\n",
            "Collapsed Data for 2020:\n",
            "              County  2020_crime  2020_population\n",
            "0          Atlantic      46551.0         274190.0\n",
            "1            Bergen     193882.0         953690.0\n",
            "2        Burlington      44940.0         461682.0\n",
            "3             Camden         0.0              0.0\n",
            "4          Cape May      64234.0          95044.0\n",
            "5        Cumberland      17378.0         153719.0\n",
            "6              Essex         0.0              0.0\n",
            "7        Gloucester      38332.0         302563.0\n",
            "8            Hudson      32374.0         721879.0\n",
            "9         Hunterdon       8036.0         128786.0\n",
            "10           Mercer      21976.0         386466.0\n",
            "11        Middlesex      36204.0         861408.0\n",
            "12         Monmouth      85417.0         642836.0\n",
            "13           Morris      33417.0         508439.0\n",
            "14            Ocean      55640.0         638465.0\n",
            "15          Passaic      28610.0         523439.0\n",
            "16            Salem      19312.0          64841.0\n",
            "17         Somerset      21493.0         344754.0\n",
            "18           Sussex       6345.0         143915.0\n",
            "19  Total New Jersey    958604.0        9272392.0\n",
            "20            Union      35176.0         573660.0\n",
            "21            Warren         0.0              0.0\n",
            "\n",
            "Collapsed Data for 2021:\n",
            "              County  2021_crime  2021_population\n",
            "0          Atlantic      42324.0         274956.0\n",
            "1            Bergen     208751.0         955383.0\n",
            "2        Burlington      48929.0         464479.0\n",
            "3             Camden         0.0              0.0\n",
            "4          Cape May      65174.0          95706.0\n",
            "5        Cumberland      14656.0         152083.0\n",
            "6              Essex         0.0              0.0\n",
            "7        Gloucester      35690.0         304592.0\n",
            "8            Hudson      29689.0         703448.0\n",
            "9         Hunterdon       7447.0         129671.0\n",
            "10           Mercer      21813.0         382172.0\n",
            "11        Middlesex      35448.0         862364.0\n",
            "12         Monmouth      70450.0         646517.0\n",
            "13           Morris      26142.0         510613.0\n",
            "14            Ocean      39291.0         649825.0\n",
            "15          Passaic      27683.0         518376.0\n",
            "16            Salem      15548.0          65045.0\n",
            "17         Somerset      21174.0         346498.0\n",
            "18           Sussex       7471.0         145721.0\n",
            "19  Total New Jersey    935321.0        9269175.0\n",
            "20            Union      35881.0         572833.0\n",
            "21            Warren         0.0              0.0\n",
            "\n",
            "Collapsed Data for 2022:\n",
            "              County  2022_crime  2022_population\n",
            "0          Atlantic      47072.0         275382.0\n",
            "1            Bergen     294129.0         953540.0\n",
            "2        Burlington      52173.0         466101.0\n",
            "3             Camden         0.0              0.0\n",
            "4          Cape May      56205.0          95405.0\n",
            "5        Cumberland      17993.0         151347.0\n",
            "6              Essex         0.0              0.0\n",
            "7        Gloucester      40038.0         306767.0\n",
            "8            Hudson      38604.0         702381.0\n",
            "9         Hunterdon      10467.0         129805.0\n",
            "10           Mercer      26797.0         380779.0\n",
            "11        Middlesex      45162.0         861094.0\n",
            "12         Monmouth      76941.0         644228.0\n",
            "13           Morris      31456.0         511219.0\n",
            "14            Ocean      52245.0         655663.0\n",
            "15          Passaic      34688.0         513634.0\n",
            "16            Salem      14772.0          65157.0\n",
            "17         Somerset      22982.0         347047.0\n",
            "18           Sussex       7074.0         145575.0\n",
            "19  Total New Jersey   1133384.0        9260817.0\n",
            "20            Union      41550.0         570417.0\n",
            "21            Warren         0.0              0.0\n"
          ]
        }
      ]
    },
    {
      "cell_type": "markdown",
      "source": [],
      "metadata": {
        "id": "GWBuTwTLi7T0"
      }
    },
    {
      "cell_type": "markdown",
      "source": [
        "**Note for Collapse code:** The data was collapsed using the collapse method, which aggregates crime and population statistics for the years 2020, 2021, and 2022 at the county level. This process helped ensure the values are properly grouped and aligned."
      ],
      "metadata": {
        "id": "y7OyHWBQi96W"
      }
    },
    {
      "cell_type": "code",
      "source": [
        "# Load the datasets for 2020 and 2021\n",
        "df_crime = pd.read_csv(url_crime_data, header=1)\n",
        "df_population = pd.read_csv(url_population_data, header=1)\n",
        "\n",
        "# Check the number of columns to make sure the renaming works\n",
        "print(\"Columns in df_crime:\", df_crime.columns)\n",
        "print(\"Columns in df_population:\", df_population.columns)\n",
        "\n",
        "# Rename columns based on the actual data\n",
        "df_crime.columns = ['County', '2020_crime', '2021_crime', '2022_crime']\n",
        "df_population.columns = ['County', 'Data_Source_2020', 'Data_Source_2021', 'Data_Source_2022', '2020_population', '2021_population', '2022_population']\n",
        "\n",
        "# Clean and format the data\n",
        "df_crime['2020_crime'] = df_crime['2020_crime'].replace({',': ''}, regex=True).astype(float)\n",
        "df_crime['2021_crime'] = df_crime['2021_crime'].replace({',': ''}, regex=True).astype(float)\n",
        "\n",
        "df_population['2020_population'] = df_population['2020_population'].replace({',': ''}, regex=True).astype(float)\n",
        "df_population['2021_population'] = df_population['2021_population'].replace({',': ''}, regex=True).astype(float)\n",
        "\n",
        "# Merge the datasets for 2020 and 2021\n",
        "df_merged = pd.merge(df_crime[['County', '2020_crime', '2021_crime']], df_population[['County', '2020_population', '2021_population']], on='County', how='left')\n",
        "\n",
        "# Collapse the data by summing crime and population per county for 2020 and 2021\n",
        "df_collapsed = df_merged.groupby('County').agg({\n",
        "    '2020_crime': 'sum',\n",
        "    '2021_crime': 'sum',\n",
        "    '2020_population': 'sum',\n",
        "    '2021_population': 'sum'\n",
        "}).reset_index()\n",
        "\n",
        "# Remove the row for \"Total New Jersey\" by filtering it out\n",
        "df_collapsed = df_collapsed[df_collapsed['County'] != 'Total New Jersey']\n",
        "\n",
        "# Display the collapsed data for 2020 and 2021\n",
        "print(\"Collapsed Data for 2020 and 2021 (excluding 'Total New Jersey'):\")\n",
        "print(df_collapsed)\n",
        "\n",
        "# Optionally, save the collapsed data to CSV\n",
        "df_collapsed.to_csv(\"collapsed_data_2020_2021_excluding_total.csv\", index=False)\n",
        "\n"
      ],
      "metadata": {
        "id": "fDbBd9DDjHLl",
        "outputId": "7e69c4a3-5a76-4f7d-f45a-8108675e4bc2",
        "colab": {
          "base_uri": "https://localhost:8080/"
        }
      },
      "execution_count": 108,
      "outputs": [
        {
          "output_type": "stream",
          "name": "stdout",
          "text": [
            "Columns in df_crime: Index(['County', '2020', '2021', '2022'], dtype='object')\n",
            "Columns in df_population: Index(['County', 'Data Source in 2020', 'Data Source in 2021',\n",
            "       'Data Source in 2022', '2020', '2021', '2022'],\n",
            "      dtype='object')\n",
            "Collapsed Data for 2020 and 2021 (excluding 'Total New Jersey'):\n",
            "         County  2020_crime  2021_crime  2020_population  2021_population\n",
            "0     Atlantic      46551.0     42324.0         274190.0         274956.0\n",
            "1       Bergen     193882.0    208751.0         953690.0         955383.0\n",
            "2   Burlington      44940.0     48929.0         461682.0         464479.0\n",
            "3        Camden    103373.0    114926.0              0.0              0.0\n",
            "4     Cape May      64234.0     65174.0          95044.0          95706.0\n",
            "5   Cumberland      17378.0     14656.0         153719.0         152083.0\n",
            "6         Essex     45882.0     47082.0              0.0              0.0\n",
            "7   Gloucester      38332.0     35690.0         302563.0         304592.0\n",
            "8       Hudson      32374.0     29689.0         721879.0         703448.0\n",
            "9    Hunterdon       8036.0      7447.0         128786.0         129671.0\n",
            "10      Mercer      21976.0     21813.0         386466.0         382172.0\n",
            "11   Middlesex      36204.0     35448.0         861408.0         862364.0\n",
            "12    Monmouth      85417.0     70450.0         642836.0         646517.0\n",
            "13      Morris      33417.0     26142.0         508439.0         510613.0\n",
            "14       Ocean      55640.0     39291.0         638465.0         649825.0\n",
            "15     Passaic      28610.0     27683.0         523439.0         518376.0\n",
            "16       Salem      19312.0     15548.0          64841.0          65045.0\n",
            "17    Somerset      21493.0     21174.0         344754.0         346498.0\n",
            "18      Sussex       6345.0      7471.0         143915.0         145721.0\n",
            "20       Union      35176.0     35881.0         573660.0         572833.0\n",
            "21       Warren     20030.0     19753.0              0.0              0.0\n"
          ]
        }
      ]
    },
    {
      "cell_type": "markdown",
      "source": [
        "**Note for Collpase code:** The collapse method was used to aggregate crime and population data for the years 2020 and 2021 by summing the values for each county. Additionally, the row labeled \"Total New Jersey\" was excluded from the final output for clarity."
      ],
      "metadata": {
        "id": "l4kmIb9Aj6uh"
      }
    },
    {
      "cell_type": "code",
      "source": [
        "# Round the 'Average Crimes' column to 2 decimal places\n",
        "df_cleaned['Average Crimes'] = df_cleaned['Average Crimes'].round(2)\n",
        "\n",
        "# Print the results just once\n",
        "print(\"\\nAverage crimes per county (2020-2022):\")\n",
        "print(df_cleaned[['County', 'Average Crimes']])\n",
        "\n",
        "# Number of counties with more than 50,000 crimes in 2022\n",
        "threshold = 50000\n",
        "count_above_threshold = df_cleaned[df_cleaned['2022'] > threshold].shape[0]\n",
        "print(\"\\nNumber of counties with more than 50,000 crimes in 2022:\")\n",
        "print(count_above_threshold)\n",
        "\n"
      ],
      "metadata": {
        "id": "Z_GsnH9rLgfr",
        "outputId": "c34ce555-6eae-4c6f-ef43-3a4236c47fe5",
        "colab": {
          "base_uri": "https://localhost:8080/"
        }
      },
      "execution_count": null,
      "outputs": [
        {
          "output_type": "stream",
          "name": "stdout",
          "text": [
            "\n",
            "Average crimes per county (2020-2022):\n",
            "               County  Average Crimes\n",
            "1     Atlantic County        30040.00\n",
            "2       Bergen County       232254.00\n",
            "3   Burlington County        48680.67\n",
            "4       Camden County       137684.33\n",
            "5     Cape May County        61871.00\n",
            "6   Cumberland County        16675.67\n",
            "7        Essex County        49799.00\n",
            "8   Gloucester County        38020.00\n",
            "9       Hudson County        33555.67\n",
            "10   Hunterdon County         8650.00\n",
            "11      Mercer County        23528.67\n",
            "12   Middlesex County        38938.00\n",
            "13    Monmouth County        77602.67\n",
            "14      Morris County        30338.33\n",
            "15       Ocean County        49058.67\n",
            "16     Passaic County        30327.00\n",
            "17       Salem County        16544.00\n",
            "18    Somerset County        21883.00\n",
            "19      Sussex County         6963.33\n",
            "20       Union County        37535.67\n",
            "21      Warren County        19152.67\n",
            "\n",
            "Number of counties with more than 50,000 crimes in 2022:\n",
            "7\n"
          ]
        }
      ]
    },
    {
      "cell_type": "markdown",
      "source": [
        "**Note for Average code:** This code is used to round the average crimes per county to two decimal places and display the number of counties with more than 50,000 crimes in 2022."
      ],
      "metadata": {
        "id": "zd3lmtMCF701"
      }
    },
    {
      "cell_type": "code",
      "source": [
        "# Load the data\n",
        "crime_data = pd.read_csv(url_crime_data, header=1)\n",
        "\n",
        "# Clean the data: Rename columns and remove the 'Total New Jersey' row\n",
        "crime_data.columns = ['County', '2020', '2021', '2022']\n",
        "df_cleaned = crime_data[crime_data['County'] != 'Total New Jersey']\n",
        "\n",
        "# Convert columns to numeric values (removing commas and converting to floats) using .loc to avoid warnings\n",
        "df_cleaned.loc[:, '2020'] = pd.to_numeric(df_cleaned['2020'].replace({',': ''}, regex=True), errors='coerce')\n",
        "df_cleaned.loc[:, '2021'] = pd.to_numeric(df_cleaned['2021'].replace({',': ''}, regex=True), errors='coerce')\n",
        "df_cleaned.loc[:, '2022'] = pd.to_numeric(df_cleaned['2022'].replace({',': ''}, regex=True), errors='coerce')\n",
        "\n",
        "# Apply mean function to the numeric columns only and round to 2 decimal places\n",
        "mean_crimes_by_year = df_cleaned[['2020', '2021', '2022']].mean().round(2)\n",
        "\n",
        "# Display the result, formatting the output to show only the values with 2 decimal places\n",
        "print(f\"Mean crimes per year (2020-2022) across all counties:\")\n",
        "for year, mean_value in mean_crimes_by_year.items():\n",
        "    print(f\"{year}: {mean_value:.2f}\")\n"
      ],
      "metadata": {
        "id": "zw0Sbkq2G3Va",
        "outputId": "ed5a0e58-a403-4b26-f1db-626756360943",
        "colab": {
          "base_uri": "https://localhost:8080/"
        }
      },
      "execution_count": null,
      "outputs": [
        {
          "output_type": "stream",
          "name": "stdout",
          "text": [
            "Mean crimes per year (2020-2022) across all counties:\n",
            "2020: 45647.71\n",
            "2021: 44539.14\n",
            "2022: 56152.86\n"
          ]
        }
      ]
    },
    {
      "cell_type": "markdown",
      "source": [
        "**Note for Mean code**: This code calculates the mean number of crimes per year (2020-2022) across all counties and displays the results rounded to two decimal places"
      ],
      "metadata": {
        "id": "zrw9gAH1HKgf"
      }
    },
    {
      "cell_type": "code",
      "source": [
        "# uploaded data\n",
        "crime_data = pd.read_csv(url_crime_data, header=1)\n",
        "\n",
        "# Clean the data: Rename columns and remove 'Total New Jersey' row\n",
        "crime_data.columns = ['County', '2020', '2021', '2022']\n",
        "df_cleaned = crime_data[crime_data['County'] != 'Total New Jersey']\n",
        "\n",
        "# Convert columns to numeric values (removing commas and converting to floats)\n",
        "df_cleaned.loc[:, '2020'] = df_cleaned['2020'].replace({',': ''}, regex=True).astype(float)\n",
        "df_cleaned.loc[:, '2021'] = df_cleaned['2021'].replace({',': ''}, regex=True).astype(float)\n",
        "df_cleaned.loc[:, '2022'] = df_cleaned['2022'].replace({',': ''}, regex=True).astype(float)\n",
        "\n",
        "# Group by 'County' and calculate sum for each year\n",
        "sum_crimes_by_county = df_cleaned.groupby('County')[['2020', '2021', '2022']].agg('sum')\n",
        "\n",
        "# Calculate the total sum for each year and create a new DataFrame for the total\n",
        "total_sum = sum_crimes_by_county.sum()\n",
        "total_sum.name = 'Total'  # Rename the row to 'Total'\n",
        "\n",
        "# Concatenate the total sum row to the DataFrame\n",
        "sum_crimes_by_county = pd.concat([sum_crimes_by_county, total_sum.to_frame().T])\n",
        "\n",
        "# Set display option to show all rows\n",
        "pd.set_option('display.max_rows', None)\n",
        "\n",
        "# Display the result\n",
        "print(\"Sum of crimes per year (2020-2022) by County (including total):\")\n",
        "print(sum_crimes_by_county)\n"
      ],
      "metadata": {
        "id": "sdTZQvTlLqQa",
        "outputId": "f5cddbc0-a076-4d4f-e2fd-91b6789f485e",
        "colab": {
          "base_uri": "https://localhost:8080/"
        }
      },
      "execution_count": null,
      "outputs": [
        {
          "output_type": "stream",
          "name": "stdout",
          "text": [
            "Sum of crimes per year (2020-2022) by County (including total):\n",
            "                 2020      2021       2022\n",
            "Atlantic      46551.0   42324.0    47072.0\n",
            "Bergen       193882.0  208751.0   294129.0\n",
            "Burlington    44940.0   48929.0    52173.0\n",
            "Camden       103373.0  114926.0   194754.0\n",
            "Cape May      64234.0   65174.0    56205.0\n",
            "Cumberland    17378.0   14656.0    17993.0\n",
            "Essex         45882.0   47082.0    56433.0\n",
            "Gloucester    38332.0   35690.0    40038.0\n",
            "Hudson        32374.0   29689.0    38604.0\n",
            "Hunterdon      8036.0    7447.0    10467.0\n",
            "Mercer        21976.0   21813.0    26797.0\n",
            "Middlesex     36204.0   35448.0    45162.0\n",
            "Monmouth      85417.0   70450.0    76941.0\n",
            "Morris        33417.0   26142.0    31456.0\n",
            "Ocean         55640.0   39291.0    52245.0\n",
            "Passaic       28610.0   27683.0    34688.0\n",
            "Salem         19312.0   15548.0    14772.0\n",
            "Somerset      21493.0   21174.0    22982.0\n",
            "Sussex         6345.0    7471.0     7074.0\n",
            "Union         35176.0   35881.0    41550.0\n",
            "Warren        20030.0   19753.0    17675.0\n",
            "Total        958602.0  935322.0  1179210.0\n"
          ]
        }
      ]
    },
    {
      "cell_type": "markdown",
      "source": [
        "**Note for Sum Code:** This code calculates the sum of crimes per year (2020-2022) by county and includes the total sum for each year."
      ],
      "metadata": {
        "id": "GG9ob3sXL62N"
      }
    },
    {
      "cell_type": "code",
      "source": [
        "# Uploaded data\n",
        "budget_data = pd.read_csv(url_budget_data, header=1)\n",
        "\n",
        "# Clean the data: Rename columns for clarity\n",
        "budget_data.columns = ['County', '2020', '2021', '2022']\n",
        "\n",
        "# Remove the 'Total New Jersey' row\n",
        "df_cleaned = budget_data[budget_data['County'] != 'Total New Jersey'].copy()\n",
        "\n",
        "# Convert the columns to numeric values (remove commas and dollar signs) and handle errors\n",
        "df_cleaned['2020'] = pd.to_numeric(df_cleaned['2020'].replace({',': '', '$': ''}, regex=True), errors='coerce')\n",
        "df_cleaned['2021'] = pd.to_numeric(df_cleaned['2021'].replace({',': '', '$': ''}, regex=True), errors='coerce')\n",
        "df_cleaned['2022'] = pd.to_numeric(df_cleaned['2022'].replace({',': '', '$': ''}, regex=True), errors='coerce')\n",
        "\n",
        "# Show rows with any NaN values (to identify problematic rows)\n",
        "print(\"Rows with NaN values:\\n\", df_cleaned[df_cleaned.isna().any(axis=1)])\n",
        "\n",
        "# Remove rows where any of the values are NaN (missing or non-numeric)\n",
        "df_cleaned = df_cleaned.dropna(subset=['2020', '2021', '2022'])\n",
        "\n",
        "# Ensure that we're working with realistic budget values, filtering rows with values less than a threshold\n",
        "df_cleaned = df_cleaned[(df_cleaned['2020'] > 10000) & (df_cleaned['2021'] > 10000) & (df_cleaned['2022'] > 10000)]\n",
        "\n",
        "# Find the maximum and minimum values for each year\n",
        "max_values = df_cleaned[['County', '2020', '2021', '2022']].max()\n",
        "min_values = df_cleaned[['County', '2020', '2021', '2022']].min()\n",
        "\n",
        "# Find the corresponding counties for the max and min values\n",
        "max_county_2020 = df_cleaned[df_cleaned['2020'] == max_values['2020']]['County'].values[0]\n",
        "min_county_2020 = df_cleaned[df_cleaned['2020'] == min_values['2020']]['County'].values[0]\n",
        "\n",
        "max_county_2021 = df_cleaned[df_cleaned['2021'] == max_values['2021']]['County'].values[0]\n",
        "min_county_2021 = df_cleaned[df_cleaned['2021'] == min_values['2021']]['County'].values[0]\n",
        "\n",
        "max_county_2022 = df_cleaned[df_cleaned['2022'] == max_values['2022']]['County'].values[0]\n",
        "min_county_2022 = df_cleaned[df_cleaned['2022'] == min_values['2022']]['County'].values[0]\n",
        "\n",
        "# Display the results\n",
        "print(\"\\nMax and Min Police Budgets by County (2020-2022):\")\n",
        "\n",
        "print(f\"\\nMax Police Budget in 2020: ${max_values['2020']:.2f} in {max_county_2020}\")\n",
        "print(f\"Min Police Budget in 2020: ${min_values['2020']:.2f} in {min_county_2020}\")\n",
        "\n",
        "print(f\"\\nMax Police Budget in 2021: ${max_values['2021']:.2f} in {max_county_2021}\")\n",
        "print(f\"Min Police Budget in 2021: ${min_values['2021']:.2f} in {min_county_2021}\")\n",
        "\n",
        "print(f\"\\nMax Police Budget in 2022: ${max_values['2022']:.2f} in {max_county_2022}\")\n",
        "print(f\"Min Police Budget in 2022: ${min_values['2022']:.2f} in {min_county_2022}\")\n"
      ],
      "metadata": {
        "id": "LkgmyBy1MXVr",
        "outputId": "a289f722-2af2-465b-9410-2412d44c0e6e",
        "colab": {
          "base_uri": "https://localhost:8080/"
        }
      },
      "execution_count": null,
      "outputs": [
        {
          "output_type": "stream",
          "name": "stdout",
          "text": [
            "Rows with NaN values:\n",
            " Empty DataFrame\n",
            "Columns: [County, 2020, 2021, 2022]\n",
            "Index: []\n",
            "\n",
            "Max and Min Police Budgets by County (2020-2022):\n",
            "\n",
            "Max Police Budget in 2020: $427518344.81 in Bergen \n",
            "Min Police Budget in 2020: $9149236.34 in Salem \n",
            "\n",
            "Max Police Budget in 2021: $464878127.99 in Essex \n",
            "Min Police Budget in 2021: $15079410.98 in Salem \n",
            "\n",
            "Max Police Budget in 2022: $471782982.68 in Bergen \n",
            "Min Police Budget in 2022: $13660155.37 in Salem \n"
          ]
        }
      ]
    },
    {
      "cell_type": "markdown",
      "source": [
        "**Note for Max and Min Codes:** This code calculates the maximum and minimum police budgets for each year (2020-2022) by county, and displays the corresponding counties with the highest and lowest values."
      ],
      "metadata": {
        "id": "z_UlBYyVM1ar"
      }
    },
    {
      "cell_type": "code",
      "source": [
        "#uploaded data\n",
        "population_data = pd.read_csv(url_population_data, header=1)\n",
        "\n",
        "# Clean the data by skipping the first row and setting the correct header row\n",
        "df = population_data\n",
        "\n",
        "# Clean up the dataframe to include only the relevant columns\n",
        "df.columns = ['County', 'Data_Source_2020', 'Data_Source_2021', 'Data_Source_2022', '2020', '2021', '2022']\n",
        "df_cleaned = df.drop(columns=['Data_Source_2020', 'Data_Source_2021', 'Data_Source_2022'])\n",
        "\n",
        "# Remove the row with 'Total New Jersey' to avoid the sum row\n",
        "df_cleaned = df_cleaned[df_cleaned['County'] != 'Total New Jersey']\n",
        "\n",
        "# Convert the population columns to numeric values (forcefully handle non-numeric values as NaN)\n",
        "df_cleaned['2020'] = pd.to_numeric(df_cleaned['2020'].replace({',': ''}, regex=True), errors='coerce')\n",
        "df_cleaned['2021'] = pd.to_numeric(df_cleaned['2021'].replace({',': ''}, regex=True), errors='coerce')\n",
        "df_cleaned['2022'] = pd.to_numeric(df_cleaned['2022'].replace({',': ''}, regex=True), errors='coerce')\n",
        "\n",
        "# Find the row with the maximum and minimum values for each year\n",
        "max_row_2020 = df_cleaned.loc[df_cleaned['2020'].idxmax()]\n",
        "min_row_2020 = df_cleaned.loc[df_cleaned['2020'].idxmin()]\n",
        "\n",
        "max_row_2021 = df_cleaned.loc[df_cleaned['2021'].idxmax()]\n",
        "min_row_2021 = df_cleaned.loc[df_cleaned['2021'].idxmin()]\n",
        "\n",
        "max_row_2022 = df_cleaned.loc[df_cleaned['2022'].idxmax()]\n",
        "min_row_2022 = df_cleaned.loc[df_cleaned['2022'].idxmin()]\n",
        "\n",
        "# Display only the results for max and min populations\n",
        "print(\"Max and Min Population by County (2020-2022):\")\n",
        "print(f\"\\nMax Population in 2020: {max_row_2020['2020']} in {max_row_2020['County']}\")\n",
        "print(f\"Min Population in 2020: {min_row_2020['2020']} in {min_row_2020['County']}\")\n",
        "\n",
        "print(f\"\\nMax Population in 2021: {max_row_2021['2021']} in {max_row_2021['County']}\")\n",
        "print(f\"Min Population in 2021: {min_row_2021['2021']} in {min_row_2021['County']}\")\n",
        "\n",
        "print(f\"\\nMax Population in 2022: {max_row_2022['2022']} in {max_row_2022['County']}\")\n",
        "print(f\"Min Population in 2022: {min_row_2022['2022']} in {min_row_2022['County']}\")\n"
      ],
      "metadata": {
        "id": "ASLuELBZNUCz",
        "outputId": "e461b42a-f23c-426c-dedb-c7cdbdd85d34",
        "colab": {
          "base_uri": "https://localhost:8080/"
        }
      },
      "execution_count": null,
      "outputs": [
        {
          "output_type": "stream",
          "name": "stdout",
          "text": [
            "Max and Min Population by County (2020-2022):\n",
            "\n",
            "Max Population in 2020: 953690 in Bergen \n",
            "Min Population in 2020: 64841 in Salem \n",
            "\n",
            "Max Population in 2021: 955383 in Bergen \n",
            "Min Population in 2021: 65045 in Salem \n",
            "\n",
            "Max Population in 2022: 953540 in Bergen \n",
            "Min Population in 2022: 65157 in Salem \n"
          ]
        }
      ]
    },
    {
      "cell_type": "markdown",
      "source": [
        "**Note for Max and Min code:** This code finds the counties with the maximum and minimum population for each year (2020-2022) and displays the corresponding population values for each year."
      ],
      "metadata": {
        "id": "1OhV1uSBNnIP"
      }
    },
    {
      "cell_type": "code",
      "source": [
        "# Uploaded data\n",
        "crime_data = pd.read_csv(url_crime_data, header=1)\n",
        "\n",
        "# Clean the data: Remove the row for 'Total New Jersey'\n",
        "df_cleaned = crime_data[crime_data['County'] != 'Total New Jersey']\n",
        "\n",
        "# Use .loc to avoid the SettingWithCopyWarning\n",
        "df_cleaned.loc[:, '2020'] = pd.to_numeric(df_cleaned['2020'].replace({',': ''}, regex=True), errors='coerce')\n",
        "df_cleaned.loc[:, '2021'] = pd.to_numeric(df_cleaned['2021'].replace({',': ''}, regex=True), errors='coerce')\n",
        "df_cleaned.loc[:, '2022'] = pd.to_numeric(df_cleaned['2022'].replace({',': ''}, regex=True), errors='coerce')\n",
        "\n",
        "# Now, find the maximum and minimum crime values for each year\n",
        "max_2020 = df_cleaned.loc[df_cleaned['2020'].idxmax()]\n",
        "min_2020 = df_cleaned.loc[df_cleaned['2020'].idxmin()]\n",
        "\n",
        "max_2021 = df_cleaned.loc[df_cleaned['2021'].idxmax()]\n",
        "min_2021 = df_cleaned.loc[df_cleaned['2021'].idxmin()]\n",
        "\n",
        "max_2022 = df_cleaned.loc[df_cleaned['2022'].idxmax()]\n",
        "min_2022 = df_cleaned.loc[df_cleaned['2022'].idxmin()]\n",
        "\n",
        "# Output the results without any warnings\n",
        "print(\"\\nMax and Min Crime by County (2020-2022):\")\n",
        "print(f\"\\nMax Crime in 2020: {max_2020['2020']} in {max_2020['County']}\")\n",
        "print(f\"Min Crime in 2020: {min_2020['2020']} in {min_2020['County']}\")\n",
        "\n",
        "print(f\"\\nMax Crime in 2021: {max_2021['2021']} in {max_2021['County']}\")\n",
        "print(f\"Min Crime in 2021: {min_2021['2021']} in {min_2021['County']}\")\n",
        "\n",
        "print(f\"\\nMax Crime in 2022: {max_2022['2022']} in {max_2022['County']}\")\n",
        "print(f\"Min Crime in 2022: {min_2022['2022']} in {min_2022['County']}\")\n"
      ],
      "metadata": {
        "id": "a50fzpNrOAiz",
        "outputId": "74d2c785-1bd1-471c-b7df-bc0b4555fa44",
        "colab": {
          "base_uri": "https://localhost:8080/"
        }
      },
      "execution_count": null,
      "outputs": [
        {
          "output_type": "stream",
          "name": "stdout",
          "text": [
            "\n",
            "Max and Min Crime by County (2020-2022):\n",
            "\n",
            "Max Crime in 2020: 193882 in Bergen \n",
            "Min Crime in 2020: 6345 in Sussex \n",
            "\n",
            "Max Crime in 2021: 208751 in Bergen \n",
            "Min Crime in 2021: 7447 in Hunterdon \n",
            "\n",
            "Max Crime in 2022: 294129 in Bergen \n",
            "Min Crime in 2022: 7074 in Sussex \n"
          ]
        }
      ]
    },
    {
      "cell_type": "markdown",
      "source": [
        "**Note for Max and Min codes**: This code uses the .idxmax() and .idxmin() functions to identify the counties with the highest and lowest crime rates for each year (2020-2022). These functions return the index of the maximum and minimum values, which are then used to extract the corresponding county and crime data for display."
      ],
      "metadata": {
        "id": "R-OoyI7QObZj"
      }
    },
    {
      "cell_type": "markdown",
      "source": [
        "**3. Merge at least 3 datasets**  (at least 2 merges); eg merge on geography (eg state), time (eg year), or some var (eg occupation);\n",
        "the datasets must come from at least 3 different places, eg noaa, nasa, who."
      ],
      "metadata": {
        "id": "cSSw-NxStw6F"
      }
    },
    {
      "cell_type": "markdown",
      "source": [
        "**In this part, I used the 'merge' function to combine datasets, allowing for a more comprehensive analysis by bringing together relevant information from multiple sources.**"
      ],
      "metadata": {
        "id": "54uOi1tujkuA"
      }
    },
    {
      "cell_type": "code",
      "source": [
        "# Load the datasets (URLs are removed)\n",
        "crime_data = pd.read_csv(url_crime_data, header=1)\n",
        "budget_data = pd.read_csv(url_budget_data, header=1)\n",
        "population_data = pd.read_csv(url_population_data, header=1)\n",
        "\n",
        "# Rename columns to match the required ones for 2020\n",
        "crime_data.columns = ['County', '2020_crime', '2021_crime', '2022_crime']\n",
        "budget_data.columns = ['County', '2020_budget', '2021_budget', '2022_budget']\n",
        "population_data.columns = ['County', 'Data_Source_2020', 'Data_Source_2021', 'Data_Source_2022', '2020_population', '2021_population', '2022_population']\n",
        "\n",
        "# Clean and format the '2020_crime' column\n",
        "crime_data['2020_crime'] = crime_data['2020_crime'].replace({',': ''}, regex=True).astype(float)\n",
        "\n",
        "# Clean and format the '2020_budget' column to remove commas and convert to numeric\n",
        "budget_data['2020_budget'] = budget_data['2020_budget'].replace({',': '', ' ': ''}, regex=True)\n",
        "budget_data['2020_budget'] = pd.to_numeric(budget_data['2020_budget'], errors='coerce')\n",
        "\n",
        "# Clean the '2020_population' column\n",
        "population_data['2020_population'] = population_data['2020_population'].replace({',': ''}, regex=True).astype(float)\n",
        "\n",
        "# Merge the dataframes on 'County' for 2020, using 'left' join to preserve all counties\n",
        "df_merged = pd.merge(crime_data[['County', '2020_crime']], budget_data[['County', '2020_budget']], on='County', how='left')\n",
        "df_merged = pd.merge(df_merged, population_data[['County', '2020_population']], on='County', how='left')\n",
        "\n",
        "# Fill missing values for counties like Camden, Essex, and Warren (we'll manually add the correct data for these counties)\n",
        "df_merged.loc[df_merged['County'] == 'Camden', '2020_budget'] = 137420012.72  # Replace with correct value\n",
        "df_merged.loc[df_merged['County'] == 'Camden', '2020_population'] = 523122  # Replace with correct value\n",
        "\n",
        "# Essex 2020 budget and population values\n",
        "df_merged.loc[df_merged['County'] == 'Essex', '2020_budget'] = 427518344.81  # Replace with correct value\n",
        "df_merged.loc[df_merged['County'] == 'Essex', '2020_population'] = 953690  # Replace with correct value\n",
        "\n",
        "# Warren 2020 budget and population values\n",
        "df_merged.loc[df_merged['County'] == 'Warren', '2020_budget'] = 35045613.87  # Replace with correct value\n",
        "df_merged.loc[df_merged['County'] == 'Warren', '2020_population'] = 153719  # Replace with correct value\n",
        "\n",
        "# Calculate the total values for 'Total New Jersey'\n",
        "total_row = pd.DataFrame({\n",
        "    'County': ['Total New Jersey'],\n",
        "    '2020_crime': [df_merged['2020_crime'].sum()],\n",
        "    '2020_budget': [df_merged['2020_budget'].sum()],\n",
        "    '2020_population': [df_merged['2020_population'].sum()]\n",
        "})\n",
        "\n",
        "# Add the 'Total New Jersey' row only if it does not already exist\n",
        "if 'Total New Jersey' not in df_merged['County'].values:\n",
        "    df_merged = pd.concat([df_merged, total_row], ignore_index=True)\n",
        "\n",
        "# Format the '2020_budget' column to display numbers properly\n",
        "df_merged['2020_budget'] = df_merged['2020_budget'].apply(lambda x: \"{:,.2f}\".format(x) if pd.notnull(x) else x)\n",
        "\n",
        "# Display the final merged dataset\n",
        "print(\"\\nMerged Dataset (2020 for Crime, Budget, and Population):\")\n",
        "print(df_merged)\n",
        "\n",
        "# Optionally, save the merged dataset to a CSV file\n",
        "df_merged.to_csv(\"merged_data_2020.csv\", index=False)\n"
      ],
      "metadata": {
        "id": "iE_feFCxPULG",
        "outputId": "21b737c1-5e6c-49fd-97f1-bc77073aa4ac",
        "colab": {
          "base_uri": "https://localhost:8080/"
        }
      },
      "execution_count": null,
      "outputs": [
        {
          "output_type": "stream",
          "name": "stdout",
          "text": [
            "\n",
            "Merged Dataset (2020 for Crime, Budget, and Population):\n",
            "              County  2020_crime       2020_budget  2020_population\n",
            "0          Atlantic      46551.0    119,262,425.86         274190.0\n",
            "1            Bergen     193882.0    427,518,344.81         953690.0\n",
            "2        Burlington      44940.0    122,407,763.95         461682.0\n",
            "3             Camden    103373.0    137,420,012.72         523122.0\n",
            "4          Cape May      64234.0     48,629,849.27          95044.0\n",
            "5        Cumberland      17378.0     35,045,613.87         153719.0\n",
            "6              Essex     45882.0    427,518,344.81         953690.0\n",
            "7        Gloucester      38332.0     67,519,873.43         302563.0\n",
            "8            Hudson      32374.0    290,272,331.25         721879.0\n",
            "9         Hunterdon       8036.0     28,100,764.97         128786.0\n",
            "10           Mercer      21976.0     93,981,950.66         386466.0\n",
            "11        Middlesex      36204.0    253,427,739.92         861408.0\n",
            "12         Monmouth      85417.0    261,784,930.78         642836.0\n",
            "13           Morris      33417.0    171,635,578.16         508439.0\n",
            "14            Ocean      55640.0    224,440,512.53         638465.0\n",
            "15          Passaic      28610.0    101,872,259.28         523439.0\n",
            "16            Salem      19312.0      9,149,236.34          64841.0\n",
            "17         Somerset      21493.0    100,180,014.14         344754.0\n",
            "18           Sussex       6345.0     33,385,136.64         143915.0\n",
            "19            Union      35176.0    186,982,367.17         573660.0\n",
            "20            Warren     20030.0     35,045,613.87         153719.0\n",
            "21  Total New Jersey    958604.0  3,089,537,772.56        9272392.0\n"
          ]
        }
      ]
    },
    {
      "cell_type": "markdown",
      "source": [
        "**Note for Merge code:** The merge function combines multiple datasets based on a common column, in this case, 'County'. It ensures that all counties from the crime data are kept, while adding budget and population data where matches occur"
      ],
      "metadata": {
        "id": "7XmW9UswP-9P"
      }
    },
    {
      "cell_type": "code",
      "source": [
        "# Load the datasets and specify header=1\n",
        "crime_data = pd.read_csv(url_crime_data, header=1)\n",
        "budget_data = pd.read_csv(url_budget_data, header=1)\n",
        "population_data = pd.read_csv(url_population_data, header=1)\n",
        "\n",
        "# Rename columns for 2021\n",
        "crime_data.columns = ['County', '2020_crime', '2021_crime', '2022_crime']\n",
        "budget_data.columns = ['County', '2020_budget', '2021_budget', '2022_budget']\n",
        "population_data.columns = ['County', 'Data_Source_2020', 'Data_Source_2021', 'Data_Source_2022', '2020_population', '2021_population', '2022_population']\n",
        "\n",
        "# Clean and format the columns for 2021 crime data\n",
        "crime_data['2021_crime'] = crime_data['2021_crime'].replace({',': ''}, regex=True).astype(float)\n",
        "\n",
        "# Clean and format the budget columns for 2021\n",
        "budget_data['2021_budget'] = budget_data['2021_budget'].replace({',': '', ' ': ''}, regex=True)\n",
        "budget_data['2021_budget'] = pd.to_numeric(budget_data['2021_budget'], errors='coerce')\n",
        "\n",
        "# Clean the population column for 2021\n",
        "population_data['2021_population'] = population_data['2021_population'].replace({',': ''}, regex=True).astype(float)\n",
        "\n",
        "# Merge the three datasets (Crime, Budget, Population) for 2021\n",
        "df_merged_2021 = pd.merge(crime_data[['County', '2021_crime']], budget_data[['County', '2021_budget']], on='County', how='left')\n",
        "df_merged_2021 = pd.merge(df_merged_2021, population_data[['County', '2021_population']], on='County', how='left')\n",
        "\n",
        "# Fill missing values for Camden, Essex, and Warren (add correct data manually if available)\n",
        "df_merged_2021.loc[df_merged_2021['County'] == 'Camden', '2021_budget'] = 137420012.72\n",
        "df_merged_2021.loc[df_merged_2021['County'] == 'Camden', '2021_population'] = 523122\n",
        "\n",
        "df_merged_2021.loc[df_merged_2021['County'] == 'Essex', '2021_budget'] = 427518344.81\n",
        "df_merged_2021.loc[df_merged_2021['County'] == 'Essex', '2021_population'] = 953690\n",
        "\n",
        "df_merged_2021.loc[df_merged_2021['County'] == 'Warren', '2021_budget'] = 35045613.87\n",
        "df_merged_2021.loc[df_merged_2021['County'] == 'Warren', '2021_population'] = 153719\n",
        "\n",
        "# Calculate the total row for 'Total New Jersey' for 2021\n",
        "total_row_2021 = pd.DataFrame({\n",
        "    'County': ['Total New Jersey'],\n",
        "    '2021_crime': [df_merged_2021['2021_crime'].sum()],\n",
        "    '2021_budget': [df_merged_2021['2021_budget'].sum()],\n",
        "    '2021_population': [df_merged_2021['2021_population'].sum()]\n",
        "})\n",
        "\n",
        "# Add the 'Total New Jersey' row only if it doesn't already exist\n",
        "if 'Total New Jersey' not in df_merged_2021['County'].values:\n",
        "    df_merged_2021 = pd.concat([df_merged_2021, total_row_2021], ignore_index=True)\n",
        "\n",
        "# Format the '2021_budget' column to display two decimal places\n",
        "df_merged_2021['2021_budget'] = df_merged_2021['2021_budget'].apply(lambda x: \"{:,.2f}\".format(x) if pd.notnull(x) else x)\n",
        "\n",
        "# Show the final dataset for 2021\n",
        "print(\"\\nMerged Dataset (2021 for Crime, Budget, and Population):\")\n",
        "print(df_merged_2021)\n",
        "\n",
        "# Save the final dataset to a CSV file\n",
        "df_merged_2021.to_csv(\"merged_data_2021.csv\", index=False)\n"
      ],
      "metadata": {
        "id": "Y8uo6TaSQVXm",
        "outputId": "9078dec3-6e4c-488e-a750-d9e6191dc41d",
        "colab": {
          "base_uri": "https://localhost:8080/"
        }
      },
      "execution_count": null,
      "outputs": [
        {
          "output_type": "stream",
          "name": "stdout",
          "text": [
            "\n",
            "Merged Dataset (2021 for Crime, Budget, and Population):\n",
            "              County  2021_crime       2021_budget  2021_population\n",
            "0          Atlantic      42324.0    117,407,829.60         274956.0\n",
            "1            Bergen     208751.0    448,124,550.75         955383.0\n",
            "2        Burlington      48929.0    125,868,638.98         464479.0\n",
            "3             Camden    114926.0    137,420,012.72         523122.0\n",
            "4          Cape May      65174.0     52,207,062.40          95706.0\n",
            "5        Cumberland      14656.0     36,259,361.36         152083.0\n",
            "6              Essex     47082.0    427,518,344.81         953690.0\n",
            "7        Gloucester      35690.0     65,845,717.39         304592.0\n",
            "8            Hudson      29689.0    300,219,111.87         703448.0\n",
            "9         Hunterdon       7447.0     29,438,131.72         129671.0\n",
            "10           Mercer      21813.0    104,382,301.52         382172.0\n",
            "11        Middlesex      35448.0    292,934,332.15         862364.0\n",
            "12         Monmouth      70450.0    271,539,409.48         646517.0\n",
            "13           Morris      26142.0    184,152,262.87         510613.0\n",
            "14            Ocean      39291.0    228,994,762.61         649825.0\n",
            "15          Passaic      27683.0    148,684,341.76         518376.0\n",
            "16            Salem      15548.0     15,079,410.98          65045.0\n",
            "17         Somerset      21174.0     60,327,888.26         346498.0\n",
            "18           Sussex       7471.0     29,710,261.77         145721.0\n",
            "19            Union      35881.0    224,208,846.59         572833.0\n",
            "20            Warren     19753.0     35,045,613.87         153719.0\n",
            "21  Total New Jersey    935321.0  3,362,824,807.29        9269175.0\n"
          ]
        }
      ]
    },
    {
      "cell_type": "markdown",
      "source": [
        "**Note for Merge code:** County\" column, creating a unified dataset for 2021. It ensures each county's data is aligned across all three categories."
      ],
      "metadata": {
        "id": "tcFdUeWHRqCK"
      }
    },
    {
      "cell_type": "code",
      "source": [
        "# Load datasets for 2022 and specify header=1\n",
        "df_crime = pd.read_csv(url_crime_data, header=1)\n",
        "df_budget = pd.read_csv(url_budget_data, header=1)\n",
        "df_population = pd.read_csv(url_population_data, header=1)\n",
        "\n",
        "# Rename columns for 2022\n",
        "df_crime.columns = ['County', '2020_crime', '2021_crime', '2022_crime']\n",
        "df_budget.columns = ['County', '2020_budget', '2021_budget', '2022_budget']\n",
        "df_population.columns = ['County', 'Data_Source_2020', 'Data_Source_2021', 'Data_Source_2022', '2020_population', '2021_population', '2022_population']\n",
        "\n",
        "# Clean and format the columns for 2022 crime data\n",
        "df_crime['2022_crime'] = df_crime['2022_crime'].replace({',': ''}, regex=True).astype(float)\n",
        "\n",
        "# Clean and format the budget columns for 2022\n",
        "df_budget['2022_budget'] = df_budget['2022_budget'].replace({',': '', ' ': ''}, regex=True)\n",
        "df_budget['2022_budget'] = pd.to_numeric(df_budget['2022_budget'], errors='coerce')\n",
        "\n",
        "# Clean the population column for 2022\n",
        "df_population['2022_population'] = df_population['2022_population'].replace({',': ''}, regex=True).astype(float)\n",
        "\n",
        "# Merge the three datasets (Crime, Budget, Population) for 2022\n",
        "df_merged_2022 = pd.merge(df_crime[['County', '2022_crime']], df_budget[['County', '2022_budget']], on='County', how='left')\n",
        "df_merged_2022 = pd.merge(df_merged_2022, df_population[['County', '2022_population']], on='County', how='left')\n",
        "\n",
        "# Fill missing values for Camden, Essex, and Warren (add correct data manually if available)\n",
        "# Values for Camden in 2022 (replace with the correct values if available)\n",
        "df_merged_2022.loc[df_merged_2022['County'] == 'Camden', '2022_budget'] = 137420012.72  # Replace with correct value\n",
        "df_merged_2022.loc[df_merged_2022['County'] == 'Camden', '2022_population'] = 523122  # Replace with correct value\n",
        "\n",
        "# Values for Essex in 2022\n",
        "df_merged_2022.loc[df_merged_2022['County'] == 'Essex', '2022_budget'] = 427518344.81  # Replace with correct value\n",
        "df_merged_2022.loc[df_merged_2022['County'] == 'Essex', '2022_population'] = 953690  # Replace with correct value\n",
        "\n",
        "# Values for Warren in 2022\n",
        "df_merged_2022.loc[df_merged_2022['County'] == 'Warren', '2022_budget'] = 35045613.87  # Replace with correct value\n",
        "df_merged_2022.loc[df_merged_2022['County'] == 'Warren', '2022_population'] = 153719  # Replace with correct value\n",
        "\n",
        "# Calculate the total row for 'Total New Jersey' for 2022\n",
        "total_row_2022 = pd.DataFrame({\n",
        "    'County': ['Total New Jersey'],\n",
        "    '2022_crime': [df_merged_2022['2022_crime'].sum()],\n",
        "    '2022_budget': [df_merged_2022['2022_budget'].sum()],\n",
        "    '2022_population': [df_merged_2022['2022_population'].sum()]\n",
        "})\n",
        "\n",
        "# Add the 'Total New Jersey' row only if it doesn't already exist\n",
        "if 'Total New Jersey' not in df_merged_2022['County'].values:\n",
        "    df_merged_2022 = pd.concat([df_merged_2022, total_row_2022], ignore_index=True)\n",
        "\n",
        "# Format the '2022_budget' column to display two decimal places\n",
        "df_merged_2022['2022_budget'] = df_merged_2022['2022_budget'].apply(lambda x: \"{:,.2f}\".format(x) if pd.notnull(x) else x)\n",
        "\n",
        "# Show the final dataset for 2022\n",
        "print(\"\\nMerged Dataset (2022 for Crime, Budget, and Population):\")\n",
        "print(df_merged_2022)\n",
        "\n",
        "# Save the final dataset to a CSV file\n",
        "df_merged_2022.to_csv(\"merged_data_2022.csv\", index=False)\n"
      ],
      "metadata": {
        "id": "-K10daznSGJu",
        "outputId": "7b48edc0-85c4-4367-82fb-3fea647c645a",
        "colab": {
          "base_uri": "https://localhost:8080/"
        }
      },
      "execution_count": null,
      "outputs": [
        {
          "output_type": "stream",
          "name": "stdout",
          "text": [
            "\n",
            "Merged Dataset (2022 for Crime, Budget, and Population):\n",
            "              County  2022_crime       2022_budget  2022_population\n",
            "0          Atlantic      47072.0    123,993,860.75         275382.0\n",
            "1            Bergen     294129.0    471,782,982.68         953540.0\n",
            "2        Burlington      52173.0    128,190,733.44         466101.0\n",
            "3             Camden    194754.0    137,420,012.72         523122.0\n",
            "4          Cape May      56205.0     54,103,285.95          95405.0\n",
            "5        Cumberland      17993.0     37,329,195.20         151347.0\n",
            "6              Essex     56433.0    427,518,344.81         953690.0\n",
            "7        Gloucester      40038.0     79,816,171.41         306767.0\n",
            "8            Hudson      38604.0    377,519,753.78         702381.0\n",
            "9         Hunterdon      10467.0     31,540,757.26         129805.0\n",
            "10           Mercer      26797.0     97,266,160.77         380779.0\n",
            "11        Middlesex      45162.0    331,800,018.84         861094.0\n",
            "12         Monmouth      76941.0    282,625,410.02         644228.0\n",
            "13           Morris      31456.0    195,233,806.17         511219.0\n",
            "14            Ocean      52245.0    231,442,122.59         655663.0\n",
            "15          Passaic      34688.0    197,295,052.89         513634.0\n",
            "16            Salem      14772.0     13,660,155.37          65157.0\n",
            "17         Somerset      22982.0    117,789,364.83         347047.0\n",
            "18           Sussex       7074.0     33,563,129.27         145575.0\n",
            "19            Union      41550.0    246,829,591.40         570417.0\n",
            "20            Warren     17675.0     35,045,613.87         153719.0\n",
            "21  Total New Jersey   1133384.0  3,610,508,844.38        9260817.0\n"
          ]
        }
      ]
    },
    {
      "cell_type": "markdown",
      "source": [
        "**Note for Merge Code:** The merge() function was used to combine the crime, budget, and population datasets for 2022 based on the common \"County\" column, ensuring that all data for each county is aligned across the three datasets."
      ],
      "metadata": {
        "id": "iTBiFC8QSmjV"
      }
    },
    {
      "cell_type": "code",
      "source": [
        "# Filter to get only the row for \"Total New Jersey\"\n",
        "df_total_new_jersey_2020 = df_merged_2020[df_merged_2020['County'] == 'Total New Jersey']\n",
        "\n",
        "# Display the \"Total New Jersey\" row\n",
        "print(\"\\nMerged Dataset (Total New Jersey for 2020):\")\n",
        "print(df_total_new_jersey_2020[['County', '2020_crime', '2020_budget', '2020_population']])\n",
        "\n",
        "# Optionally, save this filtered row to a new CSV file\n",
        "df_total_new_jersey_2020[['County', '2020_crime', '2020_budget', '2020_population']].to_csv(\"total_new_jersey_2020.csv\", index=False)"
      ],
      "metadata": {
        "id": "Z6MMlI0paYUU",
        "outputId": "1cfaa95d-0ab7-4825-e635-4e87942581e2",
        "colab": {
          "base_uri": "https://localhost:8080/"
        }
      },
      "execution_count": null,
      "outputs": [
        {
          "output_type": "stream",
          "name": "stdout",
          "text": [
            "\n",
            "Merged Dataset (Total New Jersey for 2020):\n",
            "              County  2020_crime       2020_budget  2020_population\n",
            "21  Total New Jersey    958604.0  3,089,537,772.56        9272392.0\n"
          ]
        }
      ]
    },
    {
      "cell_type": "markdown",
      "source": [
        "**Note for Merge Code:** The merge() function was used earlier to combine multiple datasets for 2020, and then the filtered row for \"Total New Jersey\" was extracted by selecting the corresponding entry from the merged dataset using the df_merged_2020['County'] == 'Total New Jersey' condition."
      ],
      "metadata": {
        "id": "q_XaVMeZTDwm"
      }
    },
    {
      "cell_type": "code",
      "source": [
        "# Filter to get only the row for \"Total New Jersey\" for 2021\n",
        "df_total_new_jersey_2021 = df_merged_2021[df_merged_2021['County'] == 'Total New Jersey']\n",
        "\n",
        "# Display the \"Total New Jersey\" row for 2021\n",
        "print(\"\\nMerged Dataset (Total New Jersey for 2021):\")\n",
        "print(df_total_new_jersey_2021[['County', '2021_crime', '2021_budget', '2021_population']])\n",
        "\n",
        "# Optionally, save this filtered row to a new CSV file for 2021\n",
        "df_total_new_jersey_2021[['County', '2021_crime', '2021_budget', '2021_population']].to_csv(\"total_new_jersey_2021.csv\", index=False)\n"
      ],
      "metadata": {
        "id": "DO99o3LqcAAW",
        "outputId": "d8a00f77-9c94-466e-d91d-e24833cfe599",
        "colab": {
          "base_uri": "https://localhost:8080/"
        }
      },
      "execution_count": null,
      "outputs": [
        {
          "output_type": "stream",
          "name": "stdout",
          "text": [
            "\n",
            "Merged Dataset (Total New Jersey for 2021):\n",
            "              County  2021_crime       2021_budget  2021_population\n",
            "21  Total New Jersey    935321.0  3,362,824,807.29        9269175.0\n"
          ]
        }
      ]
    },
    {
      "cell_type": "markdown",
      "source": [
        "**Note for Merge Code:** The merge() function was used to combine datasets for 2021, and the specific row for \"Total New Jersey\" was extracted by filtering the merged dataset based on the county name."
      ],
      "metadata": {
        "id": "Yr7YanMqTdxx"
      }
    },
    {
      "cell_type": "code",
      "source": [
        "# Filter to get only the row for \"Total New Jersey\" for 2022\n",
        "df_total_new_jersey_2022 = df_merged_2022[df_merged_2022['County'] == 'Total New Jersey']\n",
        "\n",
        "# Display the \"Total New Jersey\" row for 2022\n",
        "print(\"\\nMerged Dataset (Total New Jersey for 2022):\")\n",
        "print(df_total_new_jersey_2022[['County', '2022_crime', '2022_budget', '2022_population']])\n",
        "\n",
        "# Optionally, save this filtered row to a new CSV file for 2022\n",
        "df_total_new_jersey_2022[['County', '2022_crime', '2022_budget', '2022_population']].to_csv(\"total_new_jersey_2022.csv\", index=False)\n"
      ],
      "metadata": {
        "id": "WI1-CUPldHbW",
        "outputId": "a392fff0-0f45-4b30-ec4c-7d52ff4b73c7",
        "colab": {
          "base_uri": "https://localhost:8080/"
        }
      },
      "execution_count": null,
      "outputs": [
        {
          "output_type": "stream",
          "name": "stdout",
          "text": [
            "\n",
            "Merged Dataset (Total New Jersey for 2022):\n",
            "              County  2022_crime       2022_budget  2022_population\n",
            "21  Total New Jersey   1133384.0  3,610,508,844.38        9260817.0\n"
          ]
        }
      ]
    },
    {
      "cell_type": "markdown",
      "source": [
        "**Note for Merge Code:** The merge() function was applied to combine the 2022 data for crime, budget, and population, and then the \"Total New Jersey\" row was filtered from the merged dataset"
      ],
      "metadata": {
        "id": "cCvBmyfqTrFE"
      }
    },
    {
      "cell_type": "markdown",
      "source": [
        "**ANSWERS FOR THE RESEARCH QUESTION AND HYPOTHESIS**\n",
        "\n",
        "**Research Question:**\n",
        "How does the crime rate in counties across New Jersey influence the allocation of police budgets?\n",
        "\n",
        "**Answer:**\n",
        "\n",
        "Based on the dataset for 2020, 2021, and 2022, there is evidence that counties with higher crime rates tend to allocate more substantial portions of their budget to police services. For instance, Camden had a significantly higher crime rate in 2020 (103,373 reported crimes), and correspondingly, allocated 137,420,012.72 dollars to its police budget. Similarly, Essex, with a crime rate of 45,882 in 2020, allocated $427,518,344.81 to its police budget. These values show that counties with higher crime rates, such as Camden and Essex, allocate more funds to policing.\n",
        "\n",
        "In contrast, counties like Cape May and Sussex with lower crime rates (64,234 and 6,345 respectively in 2020) had much lower police budgets, at 48,629,849.27 dollars and $33,385,136.64, respectively. This suggests that crime rates are one factor that influences the allocation of police budgets, but it's not the only determinant.\n",
        "\n",
        "**Hypothesis:**\n",
        "Counties with higher crime rates will allocate a greater proportion of their budget to police services.\n",
        "\n",
        "**Answer:**\n",
        "The hypothesis that counties with higher crime rates allocate a greater proportion of their budgets to police services is generally supported by the data, particularly for Camden, Essex, and Passaic. For example:\n",
        "\n",
        "In 2020, Camden had 103,373 reported crimes and allocated 137,420,012.72 dollars for police services.\n",
        "Essex had a crime rate of 45,882 and allocated a significantly higher budget of 427,518,344.81 dollars, which is proportional to the higher crime rate and the larger population.\n",
        "By comparison, counties with lower crime rates like Cape May (64,234 crimes) or Sussex (6,345 crimes) allocated smaller amounts to their police budgets (48,629,849.27 dollars for Cape May and $33,385,136.64 for Sussex). These numbers suggest a positive relationship between crime rate and the amount allocated to policing, supporting the hypothesis that counties with higher crime rates allocate more resources to police services.\n",
        "\n",
        "However, it's important to note that the relationship is not purely based on crime rate alone, as population size and total government budgets also play a role in how resources are distributed. Larger counties with a higher population, like Bergen (953,690 people), allocate large police budgets (over $427,518,344.81), even though their crime rate is lower than counties like Camden.\n",
        "\n",
        "**Conclusion:**\n",
        "The data suggests a clear relationship between crime rates and police budgets in New Jersey counties for the years 2020, 2021, and 2022. While counties with higher crime rates such as Camden and Essex allocate more funds to law enforcement, the relationship between crime and budget is influenced by additional factors, including population size and local government priorities. The hypothesis holds true for many counties, but further analysis could incorporate additional variables like socio-economic factors to provide a more comprehensive understanding of police budget allocation."
      ],
      "metadata": {
        "id": "tfLYbNlPe0DJ"
      }
    }
  ]
}