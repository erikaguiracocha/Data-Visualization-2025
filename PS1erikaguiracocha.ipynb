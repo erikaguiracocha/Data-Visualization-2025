{
  "nbformat": 4,
  "nbformat_minor": 0,
  "metadata": {
    "colab": {
      "provenance": [],
      "authorship_tag": "ABX9TyNftke6XV5ek6jZHMrJSE/Q",
      "include_colab_link": true
    },
    "kernelspec": {
      "name": "python3",
      "display_name": "Python 3"
    },
    "language_info": {
      "name": "python"
    }
  },
  "cells": [
    {
      "cell_type": "markdown",
      "metadata": {
        "id": "view-in-github",
        "colab_type": "text"
      },
      "source": [
        "<a href=\"https://colab.research.google.com/github/erikaguiracocha/Data-Visualization-2025/blob/main/PS1erikaguiracocha.ipynb\" target=\"_parent\"><img src=\"https://colab.research.google.com/assets/colab-badge.svg\" alt=\"Open In Colab\"/></a>"
      ]
    },
    {
      "cell_type": "markdown",
      "source": [
        "**PS 1**\n",
        "1.  In few sentences explain why you use datasets you’re using: like a mini abstract with res q and hypotheses; extend and improve\n",
        "as we go\n",
        "over time the writeup must be longer and include at least: why these data, what’s the research questions, hypotheses and specific\n",
        "variables you are interested in and why?; and as always– give exact url for data!\n",
        "**Dataset Overview and Research Focus:**\n",
        "For this analysis, I am examining data from 21 counties in New Jersey over the years 2020, 2021, and 2022 to explore the relationship between crime rates and police budget allocation.\n",
        "\n",
        "**Research Question:**\n",
        "How does the crime rate in counties across New Jersey influence the allocation of police budgets?\n",
        "\n",
        "**Hypothesis:**\n",
        "I hypothesize that counties with higher crime rates will allocate a greater proportion of their budget to police services. This is because counties with higher crime rates will need to direct more resources toward law enforcement to manage the increased demand for police intervention and services.\n",
        "\n",
        "**Variables of Interest**:\n",
        "1. **Crime Data:** The total number of crimes reported in each county per year. This variable serves as a proxy for the level of crime in the area and is expected to influence budget allocation for law enforcement.\n",
        "2. **Police Budget:**  The total amount of money allocated to the police department in each county. This budget is critical for understanding how local governments prioritize law enforcement funding relative to other services.\n",
        "3. **County:**The name of each county in New Jersey. This variable is important for comparing trends across different regions within the state.\n",
        "4. **Year:** The year in which the data was collected (2020, 2021, 2022). Temporal trends will be considered, as changes over time may affect the budget allocation or crime rates due to policy changes, economic factors, or other influences.\n",
        "**Data Sources:**\n",
        "1.\t**Crime Data:** The crime data will be obtained from the State of New Jersey Department of Law and Public Safety Office of Attorney General. This office provides crime statistics from municipalities and counties across the state as part of the Uniform Crime Reporting (UCR) program. The data will include reported crime numbers, categorized by crime type, and provide an insight into crime trends across New Jersey.\n",
        "\n",
        "Source: State of New Jersey Department of Law and Public Safety Office of Attorney General.\n",
        "\n",
        "URLs:\n",
        "-\t2020_Uniform_Crime_Report.xlsx\n",
        "-\t20241101_2021_Uniform_Crime_Report.xlsx\n",
        "-\t20241101_2022_Uniform_Crime_Report.xlsx\n",
        "\n",
        "2.\t**Police Budget Data:** The New Jersey Division of Local Government Services provides annual budget reports that detail county spending, including allocations for the police department. These reports are publicly available and provide valuable data on how counties allocate funds, including for law enforcement.\n",
        "o\tSource: State of New Jersey Department of Community Affairs, Division of Local Government Services\n",
        "URL: https://www.nj.gov/dca/divisions/dlgs/resources/fiscal_rpts.shtml\n",
        "\n",
        "3.\t**Socioeconomic Data:** The New Jersey Department of Labor and Workforce Development provides population data, including county-level population estimates. This socioeconomic data will be useful for understanding the context in which crime and budget data are situated, as demographic factors can impact crime rates and budget allocations.\n",
        "\n",
        "Source: New Jersey Department of Labor and Workforce Development\n",
        "\n",
        "URL: https://www.nj.gov/labor/labormarketinformation/assetsPDFs/dmograh/est/copest23.htm\n",
        "\n",
        "**Data Justification:**\n",
        "The datasets selected are relevant because they directly address the research question of how crime rates correlate with police budget allocation. The crime data from the UCR database will provide a comprehensive view of crime in New Jersey’s counties, while the police budget data will allow us to analyze the financial resources allocated to law enforcement. Socioeconomic data, such as population size, will help contextualize the findings, as larger populations might inherently require more policing resources.\n",
        "By using data from multiple years (2020, 2021, and 2022), this analysis can identify any trends or shifts in how counties respond to changes in crime rates over time and the effect of these changes on budget allocation.\n"
      ],
      "metadata": {
        "id": "0bGgnSDFefVi"
      }
    },
    {
      "cell_type": "markdown",
      "source": [
        "2. Use at least 2 times each of the following in a way that makes sense and is useful:\n",
        "\n",
        "• rename var\n",
        "\n",
        "• replace vals\n",
        "\n",
        "• drop or keep vars\n",
        "\n",
        "• collabse data (groupby agg)\n"
      ],
      "metadata": {
        "id": "02VPUtwtYrps"
      }
    },
    {
      "cell_type": "markdown",
      "source": [],
      "metadata": {
        "id": "NVMwoBkJfcwH"
      }
    },
    {
      "cell_type": "code",
      "source": [
        "import pandas as pd #original crime data uploaded\n",
        "url_crime_data = 'https://raw.githubusercontent.com/erikaguiracocha/Data-Visualization-2025/refs/heads/main/crime%20by%20county%20New%20Jersey.csv'\n",
        "crime_data = pd.read_csv(url_crime_data, header=1)\n",
        "print(\"Original Crime Data:\")\n",
        "print(crime_data.head(30))\n"
      ],
      "metadata": {
        "colab": {
          "base_uri": "https://localhost:8080/"
        },
        "id": "rHm7KzNNge2S",
        "outputId": "dec04fc9-358b-4b96-d476-55d116b2ba31"
      },
      "execution_count": null,
      "outputs": [
        {
          "output_type": "stream",
          "name": "stdout",
          "text": [
            "Original Crime Data:\n",
            "               County     2020     2021       2022\n",
            "0    Total New Jersey  958,604  935,321  1,133,384\n",
            "1     Atlantic County   46,551   42,324      1,245\n",
            "2       Bergen County  193,882  208,751    294,129\n",
            "3   Burlington County   44,940   48,929     52,173\n",
            "4       Camden County  103,373  114,926    194,754\n",
            "5     Cape May County   64,234   65,174     56,205\n",
            "6   Cumberland County   17,378   14,656     17,993\n",
            "7        Essex County   45,882   47,082     56,433\n",
            "8   Gloucester County   38,332   35,690     40,038\n",
            "9       Hudson County   32,374   29,689     38,604\n",
            "10   Hunterdon County    8,036    7,447     10,467\n",
            "11      Mercer County   21,976   21,813     26,797\n",
            "12   Middlesex County   36,204   35,448     45,162\n",
            "13    Monmouth County   85,417   70,450     76,941\n",
            "14      Morris County   33,417   26,142     31,456\n",
            "15       Ocean County   55,640   39,291     52,245\n",
            "16     Passaic County   28,610   27,683     34,688\n",
            "17       Salem County   19,312   15,548     14,772\n",
            "18    Somerset County   21,493   21,174     22,982\n",
            "19      Sussex County    6,345    7,471      7,074\n",
            "20       Union County   35,176   35,881     41,550\n",
            "21      Warren County   20,030   19,753     17,675\n"
          ]
        }
      ]
    },
    {
      "cell_type": "code",
      "source": [
        "#original budget data uploaded\n",
        "url_budget_data = 'https://raw.githubusercontent.com/erikaguiracocha/Data-Visualization-2025/refs/heads/main/police%20budgets%20by%20county%20New%20Jersey.csv'\n",
        "budget_data = pd.read_csv(url_budget_data, header=1)\n",
        "print(\"Original Budget Data:\")\n",
        "print(budget_data.head(30))"
      ],
      "metadata": {
        "id": "ZWWknGg_ivx9",
        "outputId": "0e9f92eb-e4be-4a74-f18c-5f4a5b78246e",
        "colab": {
          "base_uri": "https://localhost:8080/"
        }
      },
      "execution_count": null,
      "outputs": [
        {
          "output_type": "stream",
          "name": "stdout",
          "text": [
            "Original Budget Data:\n",
            "               County                2020                2021                2022\n",
            "0    Total New Jersey  $3,089,537,772.56   $3,362,824,807.29   $3,610,508,844.38 \n",
            "1     Atlantic County    $119,262,425.86     $117,407,829.60     $123,993,860.75 \n",
            "2       Bergen County    $427,518,344.81     $448,124,550.75     $471,782,982.68 \n",
            "3   Burlington County    $122,407,763.95     $125,868,638.98     $128,190,733.44 \n",
            "4       Camden County    $137,420,012.72     $135,626,159.37     $147,391,782.25 \n",
            "5     Cape May County     $48,629,849.27      $52,207,062.40      $54,103,285.95 \n",
            "6   Cumberland County     $35,045,613.87      $36,259,361.36      $37,329,195.20 \n",
            "7        Essex County    $350,382,509.60     $464,878,127.99     $381,983,364.75 \n",
            "8   Gloucester County     $67,519,873.43      $65,845,717.39      $79,816,171.41 \n",
            "9       Hudson County    $290,272,331.25     $300,219,111.87     $377,519,753.78 \n",
            "10   Hunterdon County     $28,100,764.97      $29,438,131.72      $31,540,757.26 \n",
            "11      Mercer County     $93,981,950.66     $104,382,301.52      $97,266,160.77 \n",
            "12   Middlesex County    $253,427,739.92     $292,934,332.15     $331,800,018.84 \n",
            "13    Monmouth County    $261,784,930.78     $271,539,409.48     $282,625,410.02 \n",
            "14      Morris County    $171,635,578.16     $184,152,262.87     $195,233,806.17 \n",
            "15       Ocean County    $224,440,512.53     $228,994,762.61     $231,442,122.59 \n",
            "16     Passaic County    $101,872,259.28     $148,684,341.76     $197,295,052.89 \n",
            "17       Salem County      $9,149,236.34      $15,079,410.98      $13,660,155.37 \n",
            "18    Somerset County    $100,180,014.14      $60,327,888.26     $117,789,364.83 \n",
            "19      Sussex County     $33,385,136.64      $29,710,261.77      $33,563,129.27 \n",
            "20       Union County    $186,982,367.17     $224,208,846.59     $246,829,591.40 \n",
            "21      Warren County     $26,138,557.21      $26,936,297.87      $29,352,144.76 \n"
          ]
        }
      ]
    },
    {
      "cell_type": "code",
      "source": [
        "#original population data uploaded\n",
        "url_population_data = 'https://raw.githubusercontent.com/erikaguiracocha/Data-Visualization-2025/refs/heads/main/population%20by%20county%20New%20Jersey.csv'\n",
        "population_data = pd.read_csv(url_population_data, header=1)\n",
        "print(\"Original Population Data:\")\n",
        "print(population_data.head(30))"
      ],
      "metadata": {
        "id": "IAy8txHLjPVj",
        "outputId": "2f98170a-88e1-47b6-8058-dc07eb733b83",
        "colab": {
          "base_uri": "https://localhost:8080/"
        }
      },
      "execution_count": null,
      "outputs": [
        {
          "output_type": "stream",
          "name": "stdout",
          "text": [
            "Original Population Data:\n",
            "               County       2020       2021       2022\n",
            "0    Total New Jersey  9,272,392  9,269,175  9,260,817\n",
            "1     Atlantic County    274,190    274,956    275,382\n",
            "2       Bergen County    953,690    955,383    953,540\n",
            "3   Burlington County    461,682    464,479    466,101\n",
            "4       Camden County    523,122    524,093    524,649\n",
            "5     Cape May County     95,044     95,706     95,405\n",
            "6   Cumberland County    153,719    152,083    151,347\n",
            "7        Essex County    859,974    854,233    849,724\n",
            "8   Gloucester County    302,563    304,592    306,767\n",
            "9       Hudson County    721,879    703,448    702,381\n",
            "10   Hunterdon County    128,786    129,671    129,805\n",
            "11      Mercer County    386,466    382,172    380,779\n",
            "12   Middlesex County    861,408    862,364    861,094\n",
            "13    Monmouth County    642,836    646,517    644,228\n",
            "14      Morris County    508,439    510,613    511,219\n",
            "15       Ocean County    638,465    649,825    655,663\n",
            "16     Passaic County    523,439    518,376    513,634\n",
            "17       Salem County     64,841     65,045     65,157\n",
            "18    Somerset County    344,754    346,498    347,047\n",
            "19      Sussex County    143,915    145,721    145,575\n",
            "20       Union County    573,660    572,833    570,417\n",
            "21      Warren County    109,520    110,567    110,903\n"
          ]
        }
      ]
    },
    {
      "cell_type": "code",
      "source": [
        "#rename crime\n",
        "crime_data.rename(columns={\n",
        "    'Unnamed: 1': 'county',\n",
        "    '2020': 'crime_2020',\n",
        "    '2021': 'crime_2021',\n",
        "    '2022': 'crime_2022'\n",
        "}, inplace=True)\n",
        "crime_data = crime_data.dropna(subset=['county'])\n",
        "crime_data['county'] = crime_data['county'].str.strip()\n",
        "print(\"Renamed Crime Data:\")\n",
        "print(crime_data.head(30))\n",
        "\n",
        "\n"
      ],
      "metadata": {
        "id": "1k2E-3hMk0qq",
        "outputId": "d3279399-891b-475c-8d06-2d9b729d3443",
        "colab": {
          "base_uri": "https://localhost:8080/"
        }
      },
      "execution_count": null,
      "outputs": [
        {
          "output_type": "stream",
          "name": "stdout",
          "text": [
            "Renamed Crime Data:\n",
            "               county crime_2020 crime_2021 crime_2022\n",
            "0    Total New Jersey    958,604    935,321  1,133,384\n",
            "1     Atlantic County     46,551     42,324      1,245\n",
            "2       Bergen County    193,882    208,751    294,129\n",
            "3   Burlington County     44,940     48,929     52,173\n",
            "4       Camden County    103,373    114,926    194,754\n",
            "5     Cape May County     64,234     65,174     56,205\n",
            "6   Cumberland County     17,378     14,656     17,993\n",
            "7        Essex County     45,882     47,082     56,433\n",
            "8   Gloucester County     38,332     35,690     40,038\n",
            "9       Hudson County     32,374     29,689     38,604\n",
            "10   Hunterdon County      8,036      7,447     10,467\n",
            "11      Mercer County     21,976     21,813     26,797\n",
            "12   Middlesex County     36,204     35,448     45,162\n",
            "13    Monmouth County     85,417     70,450     76,941\n",
            "14      Morris County     33,417     26,142     31,456\n",
            "15       Ocean County     55,640     39,291     52,245\n",
            "16     Passaic County     28,610     27,683     34,688\n",
            "17       Salem County     19,312     15,548     14,772\n",
            "18    Somerset County     21,493     21,174     22,982\n",
            "19      Sussex County      6,345      7,471      7,074\n",
            "20       Union County     35,176     35,881     41,550\n",
            "21      Warren County     20,030     19,753     17,675\n"
          ]
        }
      ]
    },
    {
      "cell_type": "code",
      "source": [
        "#rename budget\n",
        "budget_data.rename(columns={\n",
        "    'Unnamed: 1': 'county',\n",
        "    '2020': 'police_budget_2020',\n",
        "    '2021': 'police_budget_2021',\n",
        "    '2022': 'police_budget_2022'\n",
        "}, inplace=True)\n",
        "budget_data = budget_data.dropna(subset=['county'])\n",
        "budget_data['county'] = budget_data['county'].str.strip() #clean\n",
        "print(\"Renamed Budget Data:\")#see results\n",
        "print(budget_data.head(30))"
      ],
      "metadata": {
        "id": "t6FbNsa5epRx",
        "outputId": "928aa9c1-d9ed-41d6-cb22-70a9dbfad3fc",
        "colab": {
          "base_uri": "https://localhost:8080/"
        }
      },
      "execution_count": null,
      "outputs": [
        {
          "output_type": "stream",
          "name": "stdout",
          "text": [
            "Renamed Budget Data:\n",
            "               county  police_budget_2020  police_budget_2021  \\\n",
            "0    Total New Jersey  $3,089,537,772.56   $3,362,824,807.29    \n",
            "1     Atlantic County    $119,262,425.86     $117,407,829.60    \n",
            "2       Bergen County    $427,518,344.81     $448,124,550.75    \n",
            "3   Burlington County    $122,407,763.95     $125,868,638.98    \n",
            "4       Camden County    $137,420,012.72     $135,626,159.37    \n",
            "5     Cape May County     $48,629,849.27      $52,207,062.40    \n",
            "6   Cumberland County     $35,045,613.87      $36,259,361.36    \n",
            "7        Essex County    $350,382,509.60     $464,878,127.99    \n",
            "8   Gloucester County     $67,519,873.43      $65,845,717.39    \n",
            "9       Hudson County    $290,272,331.25     $300,219,111.87    \n",
            "10   Hunterdon County     $28,100,764.97      $29,438,131.72    \n",
            "11      Mercer County     $93,981,950.66     $104,382,301.52    \n",
            "12   Middlesex County    $253,427,739.92     $292,934,332.15    \n",
            "13    Monmouth County    $261,784,930.78     $271,539,409.48    \n",
            "14      Morris County    $171,635,578.16     $184,152,262.87    \n",
            "15       Ocean County    $224,440,512.53     $228,994,762.61    \n",
            "16     Passaic County    $101,872,259.28     $148,684,341.76    \n",
            "17       Salem County      $9,149,236.34      $15,079,410.98    \n",
            "18    Somerset County    $100,180,014.14      $60,327,888.26    \n",
            "19      Sussex County     $33,385,136.64      $29,710,261.77    \n",
            "20       Union County    $186,982,367.17     $224,208,846.59    \n",
            "21      Warren County     $26,138,557.21      $26,936,297.87    \n",
            "\n",
            "    police_budget_2022  \n",
            "0   $3,610,508,844.38   \n",
            "1     $123,993,860.75   \n",
            "2     $471,782,982.68   \n",
            "3     $128,190,733.44   \n",
            "4     $147,391,782.25   \n",
            "5      $54,103,285.95   \n",
            "6      $37,329,195.20   \n",
            "7     $381,983,364.75   \n",
            "8      $79,816,171.41   \n",
            "9     $377,519,753.78   \n",
            "10     $31,540,757.26   \n",
            "11     $97,266,160.77   \n",
            "12    $331,800,018.84   \n",
            "13    $282,625,410.02   \n",
            "14    $195,233,806.17   \n",
            "15    $231,442,122.59   \n",
            "16    $197,295,052.89   \n",
            "17     $13,660,155.37   \n",
            "18    $117,789,364.83   \n",
            "19     $33,563,129.27   \n",
            "20    $246,829,591.40   \n",
            "21     $29,352,144.76   \n"
          ]
        }
      ]
    },
    {
      "cell_type": "code",
      "source": [
        "# raname population\n",
        "url_population_data = 'https://raw.githubusercontent.com/erikaguiracocha/Data-Visualization-2025/refs/heads/main/population%20by%20county%20New%20Jersey.csv'\n",
        "population_data = pd.read_csv(url_population_data, header=1)\n",
        "population_data.rename(columns={\n",
        "    'Unnamed: 1': 'County',  # Rename column'Unnamed: 1' to 'County'\n",
        "    '2020': 'population_2020',\n",
        "    '2021': 'population_2021',\n",
        "    '2022': 'population_2022'\n",
        "}, inplace=True)\n",
        "population_data = population_data.dropna(subset=['County'])\n",
        "population_data['County'] = population_data['County'].str.strip()\n",
        "print(\"Renamed Population Data:\")\n",
        "print(population_data.head(30))"
      ],
      "metadata": {
        "id": "Vg5t-VRufSw5",
        "outputId": "8d1b8f8b-e645-4068-a2da-f04c4a615aa9",
        "colab": {
          "base_uri": "https://localhost:8080/"
        }
      },
      "execution_count": null,
      "outputs": [
        {
          "output_type": "stream",
          "name": "stdout",
          "text": [
            "Renamed Population Data:\n",
            "               County population_2020 population_2021 population_2022\n",
            "0    Total New Jersey       9,272,392       9,269,175       9,260,817\n",
            "1     Atlantic County         274,190         274,956         275,382\n",
            "2       Bergen County         953,690         955,383         953,540\n",
            "3   Burlington County         461,682         464,479         466,101\n",
            "4       Camden County         523,122         524,093         524,649\n",
            "5     Cape May County          95,044          95,706          95,405\n",
            "6   Cumberland County         153,719         152,083         151,347\n",
            "7        Essex County         859,974         854,233         849,724\n",
            "8   Gloucester County         302,563         304,592         306,767\n",
            "9       Hudson County         721,879         703,448         702,381\n",
            "10   Hunterdon County         128,786         129,671         129,805\n",
            "11      Mercer County         386,466         382,172         380,779\n",
            "12   Middlesex County         861,408         862,364         861,094\n",
            "13    Monmouth County         642,836         646,517         644,228\n",
            "14      Morris County         508,439         510,613         511,219\n",
            "15       Ocean County         638,465         649,825         655,663\n",
            "16     Passaic County         523,439         518,376         513,634\n",
            "17       Salem County          64,841          65,045          65,157\n",
            "18    Somerset County         344,754         346,498         347,047\n",
            "19      Sussex County         143,915         145,721         145,575\n",
            "20       Union County         573,660         572,833         570,417\n",
            "21      Warren County         109,520         110,567         110,903\n"
          ]
        }
      ]
    },
    {
      "cell_type": "markdown",
      "source": [],
      "metadata": {
        "id": "1N789REVuBcg"
      }
    },
    {
      "cell_type": "code",
      "source": [
        "\n",
        "# budget data uploaded\n",
        "url_budget_data = 'https://raw.githubusercontent.com/erikaguiracocha/Data-Visualization-2025/refs/heads/main/police%20budgets%20by%20county%20New%20Jersey.csv'\n",
        "budget_data = pd.read_csv(url_budget_data, header=1)\n",
        "\n",
        "# Rename column\n",
        "budget_data.rename(columns={\n",
        "    'Unnamed: 1': 'County',\n",
        "    '2020': 'budget_2020',\n",
        "    '2021': 'budget_2021',\n",
        "    '2022': 'budget_2022'\n",
        "}, inplace=True)\n",
        "\n",
        "# Replace from 'Bergen County' to 'New Bergen County'\n",
        "budget_data['County'] = budget_data['County'].replace('Bergen County', 'New Bergen County')\n",
        "\n",
        "# clean\n",
        "budget_data['County'] = budget_data['County'].str.strip()\n",
        "\n",
        "# show\n",
        "print(budget_data.head(10))"
      ],
      "metadata": {
        "id": "FhyrizO3uB-A",
        "outputId": "ca90c2ec-5eb6-4ffb-d02f-09fa181cab54",
        "colab": {
          "base_uri": "https://localhost:8080/"
        }
      },
      "execution_count": null,
      "outputs": [
        {
          "output_type": "stream",
          "name": "stdout",
          "text": [
            "              County         budget_2020         budget_2021         budget_2022\n",
            "0   Total New Jersey  $3,089,537,772.56   $3,362,824,807.29   $3,610,508,844.38 \n",
            "1    Atlantic County    $119,262,425.86     $117,407,829.60     $123,993,860.75 \n",
            "2  New Bergen County    $427,518,344.81     $448,124,550.75     $471,782,982.68 \n",
            "3  Burlington County    $122,407,763.95     $125,868,638.98     $128,190,733.44 \n",
            "4      Camden County    $137,420,012.72     $135,626,159.37     $147,391,782.25 \n",
            "5    Cape May County     $48,629,849.27      $52,207,062.40      $54,103,285.95 \n",
            "6  Cumberland County     $35,045,613.87      $36,259,361.36      $37,329,195.20 \n",
            "7       Essex County    $350,382,509.60     $464,878,127.99     $381,983,364.75 \n",
            "8  Gloucester County     $67,519,873.43      $65,845,717.39      $79,816,171.41 \n",
            "9      Hudson County    $290,272,331.25     $300,219,111.87     $377,519,753.78 \n"
          ]
        }
      ]
    },
    {
      "cell_type": "code",
      "source": [
        "import pandas as pd\n",
        "\n",
        "# Load the crime data\n",
        "url_crime_data = 'https://raw.githubusercontent.com/erikaguiracocha/Data-Visualization-2025/refs/heads/main/crime%20by%20county%20New%20Jersey.csv'\n",
        "crime_data = pd.read_csv(url_crime_data, header=1)\n",
        "\n",
        "# Print the original data to see the content\n",
        "print(\"Original Crime Data:\")\n",
        "print(crime_data.head(10))\n",
        "\n",
        "# ---- Replace 'County' with 'New Jersey' in the 'County' column ----\n",
        "crime_data['County'] = crime_data['County'].replace('County', 'New Jersey')\n",
        "\n",
        "# ---- If you want to replace 'County' in the entire dataframe ----\n",
        "crime_data = crime_data.replace('County', 'New Jersey', regex=True)\n",
        "\n",
        "# Print the updated data to check the changes\n",
        "print(\"\\nUpdated Crime Data (After Replacing 'County' with 'New Jersey'):\")\n",
        "print(crime_data.head(10))"
      ],
      "metadata": {
        "id": "ZHw3KiqAaRzn",
        "outputId": "9e6918b2-2d9d-4596-f361-2d873ea482dd",
        "colab": {
          "base_uri": "https://localhost:8080/"
        }
      },
      "execution_count": 5,
      "outputs": [
        {
          "output_type": "stream",
          "name": "stdout",
          "text": [
            "Original Crime Data:\n",
            "              County     2020     2021       2022\n",
            "0   Total New Jersey  958,604  935,321  1,133,384\n",
            "1    Atlantic County   46,551   42,324      1,245\n",
            "2      Bergen County  193,882  208,751    294,129\n",
            "3  Burlington County   44,940   48,929     52,173\n",
            "4      Camden County  103,373  114,926    194,754\n",
            "5    Cape May County   64,234   65,174     56,205\n",
            "6  Cumberland County   17,378   14,656     17,993\n",
            "7       Essex County   45,882   47,082     56,433\n",
            "8  Gloucester County   38,332   35,690     40,038\n",
            "9      Hudson County   32,374   29,689     38,604\n",
            "\n",
            "Updated Crime Data (After Replacing 'County' with 'New Jersey'):\n",
            "                  County     2020     2021       2022\n",
            "0       Total New Jersey  958,604  935,321  1,133,384\n",
            "1    Atlantic New Jersey   46,551   42,324      1,245\n",
            "2      Bergen New Jersey  193,882  208,751    294,129\n",
            "3  Burlington New Jersey   44,940   48,929     52,173\n",
            "4      Camden New Jersey  103,373  114,926    194,754\n",
            "5    Cape May New Jersey   64,234   65,174     56,205\n",
            "6  Cumberland New Jersey   17,378   14,656     17,993\n",
            "7       Essex New Jersey   45,882   47,082     56,433\n",
            "8  Gloucester New Jersey   38,332   35,690     40,038\n",
            "9      Hudson New Jersey   32,374   29,689     38,604\n"
          ]
        }
      ]
    }
  ]
}