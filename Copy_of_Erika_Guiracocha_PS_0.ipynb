{
  "nbformat": 4,
  "nbformat_minor": 0,
  "metadata": {
    "colab": {
      "provenance": []
    },
    "kernelspec": {
      "name": "python3",
      "display_name": "Python 3"
    },
    "language_info": {
      "name": "python"
    }
  },
  "cells": [
    {
      "cell_type": "markdown",
      "source": [
        "**Datasets and Variables:**\n",
        "\n",
        "For this research, I will use datasets containing municipal budget allocation data for emergency services in Hamilton Township and Trenton, NJ, spanning the years 2013 to 2017. The key variables for this analysis include:\n",
        "\n",
        "**Total Police Division Budget:** The annual budget allocated for police services in each municipality.\n",
        "\n",
        "**Total Fire Division Budget:** The annual budget allocated for fire services.\n",
        "\n",
        "**Population Data:** Annual data on the population size of Hamilton Township and Trenton.\n",
        "\n",
        "**Median Household Income:** Annual data on the median income of households in both municipalities.\n",
        "\n",
        "These variables will be analyzed to assess the impact of budget allocations on the efficiency and effectiveness of emergency services, such as response times, service capacity, and coverage.\n",
        "\n",
        "**Research Questions and Hypotheses:**\n",
        "\n",
        "The main research question is:\n",
        "\n",
        "How do municipal budget allocations impact the efficiency and effectiveness of emergency services in Hamilton Township and Trenton, NJ, between 2013 and 2017?\n",
        "\n",
        "**Specific research questions include:**\n",
        "\n",
        "1. What factors influence budget decisions for emergency services in Hamilton Township and Trenton?\n",
        "\n",
        "  This question will explore governance structures, community needs, and historical spending patterns in both municipalities.\n",
        "\n",
        "2. How do variations in budget allocation affect emergency response times and service coverage?\n",
        "\n",
        "  We will examine the quantitative relationship between budget increases/decreases and emergency service performance.\n",
        "\n",
        "3. Are there significant correlations between budget allocations and emergency service performance metrics (e.g., response times, service capacity)?\n",
        "\n",
        "   Statistical analysis will be used to identify patterns and correlations in the data.\n",
        "\n",
        "4. How do demographic factors (such as population density, income levels, and age distribution) influence the relationship between budget allocations and emergency service efficiency?\n",
        "\n",
        "  This question will explore whether variables like population size and income levels moderate the effects of budget changes on service efficiency.\n",
        "\n",
        "**Hypothesis:**\n",
        "\n",
        "The primary hypothesis is that increased budget allocations will lead to improved performance in emergency services, such as faster response times and broader service coverage. Additionally, we hypothesize that budget increases may have a more significant impact in Hamilton Township due to its smaller population size and potentially less complex service needs, compared to Trenton's larger and more diverse population.\n",
        "\n",
        "**Reason for Using These Datasets and Variables:**\n",
        "\n",
        "These datasets are critical for understanding the relationship between public funding and the quality of emergency services. By examining how budget allocations affect performance metrics, this study aims to provide valuable insights into the effectiveness of financial resource distribution. The comparison between Hamilton Township and Trenton will highlight different approaches to managing public safety services, which can inform future policy decisions and strategies for more efficient resource allocation. Moreover, the use of demographic data will help us understand how factors like population density and income influence service outcomes. Ultimately, the findings could guide future budgeting decisions to optimize emergency service delivery and improve community safety."
      ],
      "metadata": {
        "id": "fcWue2xNnXXO"
      }
    },
    {
      "cell_type": "code",
      "execution_count": null,
      "metadata": {
        "colab": {
          "base_uri": "https://localhost:8080/",
          "height": 258
        },
        "id": "i3zVOYVlXw98",
        "outputId": "8d767ffc-9e10-4435-a082-436e62fea644"
      },
      "outputs": [
        {
          "output_type": "execute_result",
          "data": {
            "text/plain": [
              "   Year Total Police Division Annual Budget - Hamilton, NJ  \\\n",
              "0  2013                                    $23,855,414.57    \n",
              "1  2014                                    $23,480,796.19    \n",
              "2  2015                                    $23,963,229.75    \n",
              "3  2016                                    $24,558,184.00    \n",
              "4  2017                                    $25,283,495.00    \n",
              "\n",
              "  Total Fire Division Annual Budget - Hamilton, NJ Population of Hamilton, NJ  \\\n",
              "0                                   $4,494,789.00                      88,600   \n",
              "1                                   $4,301,152.00                      88,800   \n",
              "2                                   $4,353,448.00                      89,000   \n",
              "3                                   $4,742,449.00                      89,200   \n",
              "4                                   $4,758,183.00                      89,400   \n",
              "\n",
              "  Media Household Income Hamilton, NJ  \\\n",
              "0                         $76,000.00    \n",
              "1                         $77,000.00    \n",
              "2                         $78,000.00    \n",
              "3                         $80,000.00    \n",
              "4                         $82,000.00    \n",
              "\n",
              "  Total Police Division Annual Budget - Trenton, NJ  \\\n",
              "0                                   $28,458,963.00    \n",
              "1                                   $29,286,689.00    \n",
              "2                                   $31,677,855.92    \n",
              "3                                   $31,996,798.42    \n",
              "4                                   $34,207,198.80    \n",
              "\n",
              "  Total Fire Division Annual Budget - Trenton, NJ Population of Trenton, NJ  \\\n",
              "0                                 $35,915,808.06                  85,000.00   \n",
              "1                                 $33,687,033.00                  85,200.00   \n",
              "2                                 $36,573,526.51                  85,500.00   \n",
              "3                                 $37,485,599.87                  85,800.00   \n",
              "4                                 $36,545,633.06                  86,100.00   \n",
              "\n",
              "  Media Household Income Trenton, NJ  \n",
              "0                        $38,000.00   \n",
              "1                        $39,000.00   \n",
              "2                        $40,000.00   \n",
              "3                        $41,000.00   \n",
              "4                        $43,000.00   "
            ],
            "text/html": [
              "\n",
              "  <div id=\"df-84a74c90-e522-4cfe-980c-56dc7f793861\" class=\"colab-df-container\">\n",
              "    <div>\n",
              "<style scoped>\n",
              "    .dataframe tbody tr th:only-of-type {\n",
              "        vertical-align: middle;\n",
              "    }\n",
              "\n",
              "    .dataframe tbody tr th {\n",
              "        vertical-align: top;\n",
              "    }\n",
              "\n",
              "    .dataframe thead th {\n",
              "        text-align: right;\n",
              "    }\n",
              "</style>\n",
              "<table border=\"1\" class=\"dataframe\">\n",
              "  <thead>\n",
              "    <tr style=\"text-align: right;\">\n",
              "      <th></th>\n",
              "      <th>Year</th>\n",
              "      <th>Total Police Division Annual Budget - Hamilton, NJ</th>\n",
              "      <th>Total Fire Division Annual Budget - Hamilton, NJ</th>\n",
              "      <th>Population of Hamilton, NJ</th>\n",
              "      <th>Media Household Income Hamilton, NJ</th>\n",
              "      <th>Total Police Division Annual Budget - Trenton, NJ</th>\n",
              "      <th>Total Fire Division Annual Budget - Trenton, NJ</th>\n",
              "      <th>Population of Trenton, NJ</th>\n",
              "      <th>Media Household Income Trenton, NJ</th>\n",
              "    </tr>\n",
              "  </thead>\n",
              "  <tbody>\n",
              "    <tr>\n",
              "      <th>0</th>\n",
              "      <td>2013</td>\n",
              "      <td>$23,855,414.57</td>\n",
              "      <td>$4,494,789.00</td>\n",
              "      <td>88,600</td>\n",
              "      <td>$76,000.00</td>\n",
              "      <td>$28,458,963.00</td>\n",
              "      <td>$35,915,808.06</td>\n",
              "      <td>85,000.00</td>\n",
              "      <td>$38,000.00</td>\n",
              "    </tr>\n",
              "    <tr>\n",
              "      <th>1</th>\n",
              "      <td>2014</td>\n",
              "      <td>$23,480,796.19</td>\n",
              "      <td>$4,301,152.00</td>\n",
              "      <td>88,800</td>\n",
              "      <td>$77,000.00</td>\n",
              "      <td>$29,286,689.00</td>\n",
              "      <td>$33,687,033.00</td>\n",
              "      <td>85,200.00</td>\n",
              "      <td>$39,000.00</td>\n",
              "    </tr>\n",
              "    <tr>\n",
              "      <th>2</th>\n",
              "      <td>2015</td>\n",
              "      <td>$23,963,229.75</td>\n",
              "      <td>$4,353,448.00</td>\n",
              "      <td>89,000</td>\n",
              "      <td>$78,000.00</td>\n",
              "      <td>$31,677,855.92</td>\n",
              "      <td>$36,573,526.51</td>\n",
              "      <td>85,500.00</td>\n",
              "      <td>$40,000.00</td>\n",
              "    </tr>\n",
              "    <tr>\n",
              "      <th>3</th>\n",
              "      <td>2016</td>\n",
              "      <td>$24,558,184.00</td>\n",
              "      <td>$4,742,449.00</td>\n",
              "      <td>89,200</td>\n",
              "      <td>$80,000.00</td>\n",
              "      <td>$31,996,798.42</td>\n",
              "      <td>$37,485,599.87</td>\n",
              "      <td>85,800.00</td>\n",
              "      <td>$41,000.00</td>\n",
              "    </tr>\n",
              "    <tr>\n",
              "      <th>4</th>\n",
              "      <td>2017</td>\n",
              "      <td>$25,283,495.00</td>\n",
              "      <td>$4,758,183.00</td>\n",
              "      <td>89,400</td>\n",
              "      <td>$82,000.00</td>\n",
              "      <td>$34,207,198.80</td>\n",
              "      <td>$36,545,633.06</td>\n",
              "      <td>86,100.00</td>\n",
              "      <td>$43,000.00</td>\n",
              "    </tr>\n",
              "  </tbody>\n",
              "</table>\n",
              "</div>\n",
              "    <div class=\"colab-df-buttons\">\n",
              "\n",
              "  <div class=\"colab-df-container\">\n",
              "    <button class=\"colab-df-convert\" onclick=\"convertToInteractive('df-84a74c90-e522-4cfe-980c-56dc7f793861')\"\n",
              "            title=\"Convert this dataframe to an interactive table.\"\n",
              "            style=\"display:none;\">\n",
              "\n",
              "  <svg xmlns=\"http://www.w3.org/2000/svg\" height=\"24px\" viewBox=\"0 -960 960 960\">\n",
              "    <path d=\"M120-120v-720h720v720H120Zm60-500h600v-160H180v160Zm220 220h160v-160H400v160Zm0 220h160v-160H400v160ZM180-400h160v-160H180v160Zm440 0h160v-160H620v160ZM180-180h160v-160H180v160Zm440 0h160v-160H620v160Z\"/>\n",
              "  </svg>\n",
              "    </button>\n",
              "\n",
              "  <style>\n",
              "    .colab-df-container {\n",
              "      display:flex;\n",
              "      gap: 12px;\n",
              "    }\n",
              "\n",
              "    .colab-df-convert {\n",
              "      background-color: #E8F0FE;\n",
              "      border: none;\n",
              "      border-radius: 50%;\n",
              "      cursor: pointer;\n",
              "      display: none;\n",
              "      fill: #1967D2;\n",
              "      height: 32px;\n",
              "      padding: 0 0 0 0;\n",
              "      width: 32px;\n",
              "    }\n",
              "\n",
              "    .colab-df-convert:hover {\n",
              "      background-color: #E2EBFA;\n",
              "      box-shadow: 0px 1px 2px rgba(60, 64, 67, 0.3), 0px 1px 3px 1px rgba(60, 64, 67, 0.15);\n",
              "      fill: #174EA6;\n",
              "    }\n",
              "\n",
              "    .colab-df-buttons div {\n",
              "      margin-bottom: 4px;\n",
              "    }\n",
              "\n",
              "    [theme=dark] .colab-df-convert {\n",
              "      background-color: #3B4455;\n",
              "      fill: #D2E3FC;\n",
              "    }\n",
              "\n",
              "    [theme=dark] .colab-df-convert:hover {\n",
              "      background-color: #434B5C;\n",
              "      box-shadow: 0px 1px 3px 1px rgba(0, 0, 0, 0.15);\n",
              "      filter: drop-shadow(0px 1px 2px rgba(0, 0, 0, 0.3));\n",
              "      fill: #FFFFFF;\n",
              "    }\n",
              "  </style>\n",
              "\n",
              "    <script>\n",
              "      const buttonEl =\n",
              "        document.querySelector('#df-84a74c90-e522-4cfe-980c-56dc7f793861 button.colab-df-convert');\n",
              "      buttonEl.style.display =\n",
              "        google.colab.kernel.accessAllowed ? 'block' : 'none';\n",
              "\n",
              "      async function convertToInteractive(key) {\n",
              "        const element = document.querySelector('#df-84a74c90-e522-4cfe-980c-56dc7f793861');\n",
              "        const dataTable =\n",
              "          await google.colab.kernel.invokeFunction('convertToInteractive',\n",
              "                                                    [key], {});\n",
              "        if (!dataTable) return;\n",
              "\n",
              "        const docLinkHtml = 'Like what you see? Visit the ' +\n",
              "          '<a target=\"_blank\" href=https://colab.research.google.com/notebooks/data_table.ipynb>data table notebook</a>'\n",
              "          + ' to learn more about interactive tables.';\n",
              "        element.innerHTML = '';\n",
              "        dataTable['output_type'] = 'display_data';\n",
              "        await google.colab.output.renderOutput(dataTable, element);\n",
              "        const docLink = document.createElement('div');\n",
              "        docLink.innerHTML = docLinkHtml;\n",
              "        element.appendChild(docLink);\n",
              "      }\n",
              "    </script>\n",
              "  </div>\n",
              "\n",
              "\n",
              "<div id=\"df-1b293a44-4139-4880-a463-e8de565b9b98\">\n",
              "  <button class=\"colab-df-quickchart\" onclick=\"quickchart('df-1b293a44-4139-4880-a463-e8de565b9b98')\"\n",
              "            title=\"Suggest charts\"\n",
              "            style=\"display:none;\">\n",
              "\n",
              "<svg xmlns=\"http://www.w3.org/2000/svg\" height=\"24px\"viewBox=\"0 0 24 24\"\n",
              "     width=\"24px\">\n",
              "    <g>\n",
              "        <path d=\"M19 3H5c-1.1 0-2 .9-2 2v14c0 1.1.9 2 2 2h14c1.1 0 2-.9 2-2V5c0-1.1-.9-2-2-2zM9 17H7v-7h2v7zm4 0h-2V7h2v10zm4 0h-2v-4h2v4z\"/>\n",
              "    </g>\n",
              "</svg>\n",
              "  </button>\n",
              "\n",
              "<style>\n",
              "  .colab-df-quickchart {\n",
              "      --bg-color: #E8F0FE;\n",
              "      --fill-color: #1967D2;\n",
              "      --hover-bg-color: #E2EBFA;\n",
              "      --hover-fill-color: #174EA6;\n",
              "      --disabled-fill-color: #AAA;\n",
              "      --disabled-bg-color: #DDD;\n",
              "  }\n",
              "\n",
              "  [theme=dark] .colab-df-quickchart {\n",
              "      --bg-color: #3B4455;\n",
              "      --fill-color: #D2E3FC;\n",
              "      --hover-bg-color: #434B5C;\n",
              "      --hover-fill-color: #FFFFFF;\n",
              "      --disabled-bg-color: #3B4455;\n",
              "      --disabled-fill-color: #666;\n",
              "  }\n",
              "\n",
              "  .colab-df-quickchart {\n",
              "    background-color: var(--bg-color);\n",
              "    border: none;\n",
              "    border-radius: 50%;\n",
              "    cursor: pointer;\n",
              "    display: none;\n",
              "    fill: var(--fill-color);\n",
              "    height: 32px;\n",
              "    padding: 0;\n",
              "    width: 32px;\n",
              "  }\n",
              "\n",
              "  .colab-df-quickchart:hover {\n",
              "    background-color: var(--hover-bg-color);\n",
              "    box-shadow: 0 1px 2px rgba(60, 64, 67, 0.3), 0 1px 3px 1px rgba(60, 64, 67, 0.15);\n",
              "    fill: var(--button-hover-fill-color);\n",
              "  }\n",
              "\n",
              "  .colab-df-quickchart-complete:disabled,\n",
              "  .colab-df-quickchart-complete:disabled:hover {\n",
              "    background-color: var(--disabled-bg-color);\n",
              "    fill: var(--disabled-fill-color);\n",
              "    box-shadow: none;\n",
              "  }\n",
              "\n",
              "  .colab-df-spinner {\n",
              "    border: 2px solid var(--fill-color);\n",
              "    border-color: transparent;\n",
              "    border-bottom-color: var(--fill-color);\n",
              "    animation:\n",
              "      spin 1s steps(1) infinite;\n",
              "  }\n",
              "\n",
              "  @keyframes spin {\n",
              "    0% {\n",
              "      border-color: transparent;\n",
              "      border-bottom-color: var(--fill-color);\n",
              "      border-left-color: var(--fill-color);\n",
              "    }\n",
              "    20% {\n",
              "      border-color: transparent;\n",
              "      border-left-color: var(--fill-color);\n",
              "      border-top-color: var(--fill-color);\n",
              "    }\n",
              "    30% {\n",
              "      border-color: transparent;\n",
              "      border-left-color: var(--fill-color);\n",
              "      border-top-color: var(--fill-color);\n",
              "      border-right-color: var(--fill-color);\n",
              "    }\n",
              "    40% {\n",
              "      border-color: transparent;\n",
              "      border-right-color: var(--fill-color);\n",
              "      border-top-color: var(--fill-color);\n",
              "    }\n",
              "    60% {\n",
              "      border-color: transparent;\n",
              "      border-right-color: var(--fill-color);\n",
              "    }\n",
              "    80% {\n",
              "      border-color: transparent;\n",
              "      border-right-color: var(--fill-color);\n",
              "      border-bottom-color: var(--fill-color);\n",
              "    }\n",
              "    90% {\n",
              "      border-color: transparent;\n",
              "      border-bottom-color: var(--fill-color);\n",
              "    }\n",
              "  }\n",
              "</style>\n",
              "\n",
              "  <script>\n",
              "    async function quickchart(key) {\n",
              "      const quickchartButtonEl =\n",
              "        document.querySelector('#' + key + ' button');\n",
              "      quickchartButtonEl.disabled = true;  // To prevent multiple clicks.\n",
              "      quickchartButtonEl.classList.add('colab-df-spinner');\n",
              "      try {\n",
              "        const charts = await google.colab.kernel.invokeFunction(\n",
              "            'suggestCharts', [key], {});\n",
              "      } catch (error) {\n",
              "        console.error('Error during call to suggestCharts:', error);\n",
              "      }\n",
              "      quickchartButtonEl.classList.remove('colab-df-spinner');\n",
              "      quickchartButtonEl.classList.add('colab-df-quickchart-complete');\n",
              "    }\n",
              "    (() => {\n",
              "      let quickchartButtonEl =\n",
              "        document.querySelector('#df-1b293a44-4139-4880-a463-e8de565b9b98 button');\n",
              "      quickchartButtonEl.style.display =\n",
              "        google.colab.kernel.accessAllowed ? 'block' : 'none';\n",
              "    })();\n",
              "  </script>\n",
              "</div>\n",
              "\n",
              "    </div>\n",
              "  </div>\n"
            ],
            "application/vnd.google.colaboratory.intrinsic+json": {
              "type": "dataframe",
              "variable_name": "df",
              "summary": "{\n  \"name\": \"df\",\n  \"rows\": 5,\n  \"fields\": [\n    {\n      \"column\": \"Year\",\n      \"properties\": {\n        \"dtype\": \"number\",\n        \"std\": 1,\n        \"min\": 2013,\n        \"max\": 2017,\n        \"num_unique_values\": 5,\n        \"samples\": [\n          2014,\n          2017,\n          2015\n        ],\n        \"semantic_type\": \"\",\n        \"description\": \"\"\n      }\n    },\n    {\n      \"column\": \"Total Police Division Annual Budget - Hamilton, NJ\",\n      \"properties\": {\n        \"dtype\": \"string\",\n        \"num_unique_values\": 5,\n        \"samples\": [\n          \"$23,480,796.19 \",\n          \"$25,283,495.00 \",\n          \"$23,963,229.75 \"\n        ],\n        \"semantic_type\": \"\",\n        \"description\": \"\"\n      }\n    },\n    {\n      \"column\": \"Total Fire Division Annual Budget - Hamilton, NJ\",\n      \"properties\": {\n        \"dtype\": \"string\",\n        \"num_unique_values\": 5,\n        \"samples\": [\n          \"$4,301,152.00 \",\n          \"$4,758,183.00 \",\n          \"$4,353,448.00 \"\n        ],\n        \"semantic_type\": \"\",\n        \"description\": \"\"\n      }\n    },\n    {\n      \"column\": \"Population of Hamilton, NJ\",\n      \"properties\": {\n        \"dtype\": \"string\",\n        \"num_unique_values\": 5,\n        \"samples\": [\n          \"88,800\",\n          \"89,400\",\n          \"89,000\"\n        ],\n        \"semantic_type\": \"\",\n        \"description\": \"\"\n      }\n    },\n    {\n      \"column\": \"Media Household Income Hamilton, NJ\",\n      \"properties\": {\n        \"dtype\": \"string\",\n        \"num_unique_values\": 5,\n        \"samples\": [\n          \"$77,000.00 \",\n          \"$82,000.00 \",\n          \"$78,000.00 \"\n        ],\n        \"semantic_type\": \"\",\n        \"description\": \"\"\n      }\n    },\n    {\n      \"column\": \"Total Police Division Annual Budget - Trenton, NJ\",\n      \"properties\": {\n        \"dtype\": \"string\",\n        \"num_unique_values\": 5,\n        \"samples\": [\n          \"$29,286,689.00 \",\n          \"$34,207,198.80 \",\n          \"$31,677,855.92 \"\n        ],\n        \"semantic_type\": \"\",\n        \"description\": \"\"\n      }\n    },\n    {\n      \"column\": \"Total Fire Division Annual Budget - Trenton, NJ\",\n      \"properties\": {\n        \"dtype\": \"string\",\n        \"num_unique_values\": 5,\n        \"samples\": [\n          \"$33,687,033.00 \",\n          \"$36,545,633.06 \",\n          \"$36,573,526.51 \"\n        ],\n        \"semantic_type\": \"\",\n        \"description\": \"\"\n      }\n    },\n    {\n      \"column\": \"Population of Trenton, NJ\",\n      \"properties\": {\n        \"dtype\": \"string\",\n        \"num_unique_values\": 5,\n        \"samples\": [\n          \"85,200.00\",\n          \"86,100.00\",\n          \"85,500.00\"\n        ],\n        \"semantic_type\": \"\",\n        \"description\": \"\"\n      }\n    },\n    {\n      \"column\": \"Media Household Income Trenton, NJ\",\n      \"properties\": {\n        \"dtype\": \"string\",\n        \"num_unique_values\": 5,\n        \"samples\": [\n          \"$39,000.00 \",\n          \"$43,000.00 \",\n          \"$40,000.00 \"\n        ],\n        \"semantic_type\": \"\",\n        \"description\": \"\"\n      }\n    }\n  ]\n}"
            }
          },
          "metadata": {},
          "execution_count": 7
        }
      ],
      "source": [
        "import pandas as pd\n",
        "df_filtered = df[df['Year'].between(2013, 2017)]\n",
        "url = 'https://raw.githubusercontent.com/erikaguiracocha/Data-Visualization-2025/refs/heads/main/PS0%20in%20cvs%20format%20Erika%20Guiracocha.csv'\n",
        "df = pd.read_csv(url)\n",
        "df.head()"
      ]
    },
    {
      "cell_type": "code",
      "source": [
        "import matplotlib.pyplot as plt\n",
        "import pandas as pd\n",
        "df = pd.read_csv('https://raw.githubusercontent.com/erikaguiracocha/Data-Visualization-2025/refs/heads/main/PS0%20in%20cvs%20format%20Erika%20Guiracocha.csv')\n",
        "df_filtered = df[df['Year'].between(2013, 2017)]\n",
        "df_filtered['Total Police Division Annual Budget - Hamilton, NJ'] = df_filtered['Total Police Division Annual Budget - Hamilton, NJ'].replace({'\\$': '', ',': '', ' ': ''}, regex=True).apply(pd.to_numeric, errors='coerce')\n",
        "df_filtered['Total Police Division Annual Budget - Trenton, NJ'] = df_filtered['Total Police Division Annual Budget - Trenton, NJ'].replace({'\\$': '', ',': '', ' ': ''}, regex=True).apply(pd.to_numeric, errors='coerce')\n",
        "plt.figure(figsize=(10, 6))\n",
        "plt.bar(df_filtered['Year'] - 0.15, df_filtered['Total Police Division Annual Budget - Hamilton, NJ'], width=0.3, alpha=0.7, label='Hamilton', color='blue')\n",
        "plt.bar(df_filtered['Year'] + 0.15, df_filtered['Total Police Division Annual Budget - Trenton, NJ'], width=0.3, alpha=0.7, label='Trenton', color='red')\n",
        "plt.title('Police Division Annual Budget - Hamilton vs Trenton (2013-2017)')\n",
        "plt.xlabel('Year')\n",
        "plt.ylabel('Police Budget (in dollars)')\n",
        "plt.legend()\n",
        "plt.show()"
      ],
      "metadata": {
        "colab": {
          "base_uri": "https://localhost:8080/",
          "height": 564
        },
        "id": "wTlbWCFoaO_x",
        "outputId": "d9b7dc29-beb4-4cc6-8e91-e12624d1b266"
      },
      "execution_count": null,
      "outputs": [
        {
          "output_type": "display_data",
          "data": {
            "text/plain": [
              "<Figure size 1000x600 with 1 Axes>"
            ],
            "image/png": "[encoded data removed]"
          },
          "metadata": {}
        }
      ]
    },
    {
      "cell_type": "markdown",
      "source": [
        "**Interpretation:**\n",
        "\n",
        "**Hamilton, NJ: Police Division Annual Budget (2013-2017)**\n",
        "\n",
        "From 2013 to 2017, Hamilton, NJ, experienced a gradual increase in the annual budget allocated to its Police Division. In 2013, the budget was 23,855,414.57, and by 2017, it had grown to $25,283,495.00, reflecting a steady rise over the five years. This increase, although moderate, could be indicative of the town's ongoing commitment to enhancing law enforcement capabilities, improving public safety, and responding to any rising demands for police services. Hamilton’s steady budget growth might reflect increased costs related to personnel, technology, training, or community policing initiatives aimed at ensuring the safety of its residents. The budget expansion suggests that as the population and needs of the community evolve, Hamilton has prioritized maintaining and strengthening its law enforcement resources to meet these challenges.\n",
        "\n",
        "**Trenton, NJ: Police Division Annual Budget (2013-2017)**\n",
        "\n",
        "In contrast, Trenton, NJ, saw a more pronounced increase in its Police Division budget from 2013 to 2017. The budget for 2013 was 28,458,963.00, and by 2017, it had risen to $34,207,198.80, reflecting a notable upward trend. This sharp increase in funding suggests that Trenton, as a larger and more urbanized city, likely faced rising challenges in terms of crime prevention, law enforcement personnel, and the resources needed to address public safety. With significant population changes, demographic needs, and the complex dynamics of urban policing, Trenton’s investment in its police services likely reflects a response to these pressures. The city’s decision to increase the budget at a faster pace than Hamilton may point to a need for enhanced police presence, more advanced technology, and community safety programs that align with Trenton’s specific law enforcement priorities.\n",
        "\n",
        "\n",
        "\n",
        "\n",
        "\n"
      ],
      "metadata": {
        "id": "C8cxAoG942PM"
      }
    },
    {
      "cell_type": "code",
      "source": [
        "import matplotlib.pyplot as plt\n",
        "import pandas as pd\n",
        "df = pd.read_csv('https://raw.githubusercontent.com/erikaguiracocha/Data-Visualization-2025/refs/heads/main/PS0%20in%20cvs%20format%20Erika%20Guiracocha.csv')\n",
        "df_filtered = df[df['Year'].between(2013, 2017)]\n",
        "df_filtered['Total Fire Division Annual Budget - Hamilton, NJ'] = df_filtered['Total Fire Division Annual Budget - Hamilton, NJ'].replace({'\\$': '', ',': '', ' ': ''}, regex=True).apply(pd.to_numeric, errors='coerce')\n",
        "df_filtered['Total Fire Division Annual Budget - Trenton, NJ'] = df_filtered['Total Fire Division Annual Budget - Trenton, NJ'].replace({'\\$': '', ',': '', ' ': ''}, regex=True).apply(pd.to_numeric, errors='coerce')\n",
        "plt.figure(figsize=(10, 6))\n",
        "plt.bar(df_filtered['Year'] - 0.15, df_filtered['Total Fire Division Annual Budget - Hamilton, NJ'], width=0.3, alpha=0.7, label='Hamilton', color='blue')\n",
        "plt.bar(df_filtered['Year'] + 0.15, df_filtered['Total Fire Division Annual Budget - Trenton, NJ'], width=0.3, alpha=0.7, label='Trenton', color='red')\n",
        "plt.title('Fire Division Annual Budget - Hamilton vs Trenton (2013-2017)')\n",
        "plt.xlabel('Year')\n",
        "plt.ylabel('Fire Budget (in dollars)')\n",
        "plt.legend()\n",
        "plt.show()"
      ],
      "metadata": {
        "colab": {
          "base_uri": "https://localhost:8080/",
          "height": 564
        },
        "id": "sd07fO8b6WIO",
        "outputId": "15dc1c93-fc89-416f-f635-6f605251d914"
      },
      "execution_count": null,
      "outputs": [
        {
          "output_type": "display_data",
          "data": {
            "text/plain": [
              "<Figure size 1000x600 with 1 Axes>"
            ],
            "image/png": "[encoded data removed]"
          },
          "metadata": {}
        }
      ]
    },
    {
      "cell_type": "markdown",
      "source": [
        "**Interpretation:**\n",
        "\n",
        "**Hamilton, NJ: Fire Division Annual Budget (2013-2017)**\n",
        "\n",
        "Between 2013 and 2017, Hamilton, NJ, experienced a gradual but steady increase in its Fire Division budget. Starting at 4,494,789.00 in 2013, the budget increased each year, reaching $4,758,183.00 by 2017. This consistent growth reflects Hamilton's commitment to ensuring that its fire services are well-equipped to handle emergencies, whether they be fires, medical emergencies, or natural disasters. The increase in funding could also be attributed to inflation, rising operational costs, and the need for investments in new equipment, technology, and training programs for fire personnel. Despite the modest increase compared to larger municipalities, Hamilton’s budget growth highlights its ongoing efforts to prioritize public safety, even as a smaller community compared to its urban counterparts.\n",
        "\n",
        "**Trenton, NJ: Fire Division Annual Budget (2013-2017)**\n",
        "\n",
        "In contrast, Trenton, NJ, displayed more substantial fluctuations in its Fire Division budget over the same period. Starting at 35,915,808.06 in 2013, the budget peaked at $37,485,599.87 in 2016, before dropping back to 36,545,633.06 in 2017. This significant budget allocation and its fluctuations suggest that Trenton faces a more complex set of challenges in its fire services, likely driven by a larger population, more extensive infrastructure, and higher demands for fire-related services. The increase in 2016 could have been due to an urgent need for more resources to address growing service demands, while the slight decrease in 2017 may reflect changes in the cost of operations or a shift in city priorities. The higher budget allocation to fire services in Trenton compared to Hamilton suggests that Trenton, being a larger and more densely populated urban area, likely faces higher risks and responsibilities in terms of firefighting, emergency medical services, and disaster management."
      ],
      "metadata": {
        "id": "lB3fpKNK6vTp"
      }
    },
    {
      "cell_type": "code",
      "source": [
        "import pandas as pd\n",
        "df = pd.read_csv('https://raw.githubusercontent.com/erikaguiracocha/Data-Visualization-2025/refs/heads/main/PS0%20in%20cvs%20format%20Erika%20Guiracocha.csv')\n",
        "df['Population of Hamilton, NJ'] = df['Population of Hamilton, NJ'].replace({',': ''}, regex=True).astype(float)\n",
        "df['Population of Trenton, NJ'] = df['Population of Trenton, NJ'].replace({',': ''}, regex=True).astype(float)\n",
        "mean_population_hamilton = df['Population of Hamilton, NJ'].mean()\n",
        "mean_population_trenton = df['Population of Trenton, NJ'].mean()\n",
        "print(f\"The average population of Hamilton, NJ is: {mean_population_hamilton}\")\n",
        "print(f\"The average population of Trenton, NJ is: {mean_population_trenton}\")"
      ],
      "metadata": {
        "colab": {
          "base_uri": "https://localhost:8080/"
        },
        "id": "OGtLRewH4M9Z",
        "outputId": "b9689974-f28f-4d5c-e289-4cfd62c6eece"
      },
      "execution_count": null,
      "outputs": [
        {
          "output_type": "stream",
          "name": "stdout",
          "text": [
            "The average population of Hamilton, NJ is: 89000.0\n",
            "The average population of Trenton, NJ is: 85520.0\n"
          ]
        }
      ]
    },
    {
      "cell_type": "markdown",
      "source": [
        "**Interpretation:** The average population of Hamilton, NJ is 89,000, while the average population of Trenton, NJ is 85,520. This indicates that Hamilton has a slightly higher average population than Trenton over the period analyzed. The difference in population size between the two cities may reflect various factors such as geographic size, local economy, or population growth trends"
      ],
      "metadata": {
        "id": "PLixzErhrE87"
      }
    },
    {
      "cell_type": "code",
      "source": [
        "import pandas as pd\n",
        "df = pd.read_csv('https://raw.githubusercontent.com/erikaguiracocha/Data-Visualization-2025/refs/heads/main/PS0%20in%20cvs%20format%20Erika%20Guiracocha.csv')\n",
        "df['Population of Hamilton, NJ'] = df['Population of Hamilton, NJ'].replace({',': ''}, regex=True).astype(float)\n",
        "df['Population of Trenton, NJ'] = df['Population of Trenton, NJ'].replace({',': ''}, regex=True).astype(float)\n",
        "mode_population_hamilton = df['Population of Hamilton, NJ'].mode()[0]  # Getting the first mode if there are multiple\n",
        "mode_population_trenton = df['Population of Trenton, NJ'].mode()[0]  # Getting the first mode if there are multiple\n",
        "print(f\"The mode of the population of Hamilton, NJ is: {mode_population_hamilton}\")\n",
        "print(f\"The mode of the population of Trenton, NJ is: {mode_population_trenton}\")"
      ],
      "metadata": {
        "colab": {
          "base_uri": "https://localhost:8080/"
        },
        "id": "ypH0SP2iYbBQ",
        "outputId": "77207b1a-3647-4846-861f-1ef57186e2b3"
      },
      "execution_count": null,
      "outputs": [
        {
          "output_type": "stream",
          "name": "stdout",
          "text": [
            "The mode of the population of Hamilton, NJ is: 88600.0\n",
            "The mode of the population of Trenton, NJ is: 85000.0\n"
          ]
        }
      ]
    },
    {
      "cell_type": "markdown",
      "source": [
        "**Interpretation:** The mode of the population of Hamilton, NJ is 88,600, which means that this population value occurred most frequently during the analyzed years. Similarly, the mode of the population of Trenton, NJ is 85,000, indicating that this population value appeared most often for Trenton. These mode values suggest that the populations of both cities tend to cluster around these figures, reflecting common population counts in the given years"
      ],
      "metadata": {
        "id": "PaOQ77Yern2f"
      }
    },
    {
      "cell_type": "code",
      "source": [
        "import pandas as pd\n",
        "df = pd.read_csv('https://raw.githubusercontent.com/erikaguiracocha/Data-Visualization-2025/refs/heads/main/PS0%20in%20cvs%20format%20Erika%20Guiracocha.csv')\n",
        "df['Population of Hamilton, NJ'] = df['Population of Hamilton, NJ'].replace({',': ''}, regex=True).astype(float)\n",
        "df['Population of Trenton, NJ'] = df['Population of Trenton, NJ'].replace({',': ''}, regex=True).astype(float)\n",
        "median_population_hamilton = df['Population of Hamilton, NJ'].median()\n",
        "median_population_trenton = df['Population of Trenton, NJ'].median()\n",
        "print(f\"The median of the population of Hamilton, NJ is: {median_population_hamilton}\")\n",
        "print(f\"The median of the population of Trenton, NJ is: {median_population_trenton}\")"
      ],
      "metadata": {
        "colab": {
          "base_uri": "https://localhost:8080/"
        },
        "id": "p_cxnQP9Y3V3",
        "outputId": "bfa21fed-5be4-4da6-b2ff-ab056f80569a"
      },
      "execution_count": null,
      "outputs": [
        {
          "output_type": "stream",
          "name": "stdout",
          "text": [
            "The median of the population of Hamilton, NJ is: 89000.0\n",
            "The median of the population of Trenton, NJ is: 85500.0\n"
          ]
        }
      ]
    },
    {
      "cell_type": "markdown",
      "source": [
        "**Interpretation:** The median of the population of Hamilton, NJ is 89,000, meaning that this is the middle value when the population data is arranged in order. Similarly, the median of the population of Trenton, NJ is 85,500, which is the middle value for Trenton’s population data. These median values suggest that the populations of both cities are relatively centered around these figures, with half of the years having a population higher than these values and half having a lower population"
      ],
      "metadata": {
        "id": "5MRwAyHHr1cx"
      }
    },
    {
      "cell_type": "code",
      "source": [
        "import pandas as pd\n",
        "df = pd.read_csv('https://raw.githubusercontent.com/erikaguiracocha/Data-Visualization-2025/refs/heads/main/PS0%20in%20cvs%20format%20Erika%20Guiracocha.csv')\n",
        "df['Media Household Income Hamilton, NJ'] = df['Media Household Income Hamilton, NJ'].replace({'\\$': '', ',': ''}, regex=True).astype(float)\n",
        "df['Media Household Income Trenton, NJ'] = df['Media Household Income Trenton, NJ'].replace({'\\$': '', ',': ''}, regex=True).astype(float)\n",
        "mean_income_hamilton = df['Media Household Income Hamilton, NJ'].mean()\n",
        "mean_income_trenton = df['Media Household Income Trenton, NJ'].mean()\n",
        "print(f\"The mean household income in Hamilton, NJ is: ${mean_income_hamilton:,.2f}\")\n",
        "print(f\"The mean household income in Trenton, NJ is: ${mean_income_trenton:,.2f}\")"
      ],
      "metadata": {
        "colab": {
          "base_uri": "https://localhost:8080/"
        },
        "id": "7dNlp7_vbI9k",
        "outputId": "7a64398a-7ab3-4b18-9b2e-b5de58e2d267"
      },
      "execution_count": null,
      "outputs": [
        {
          "output_type": "stream",
          "name": "stdout",
          "text": [
            "The mean household income in Hamilton, NJ is: $78,600.00\n",
            "The mean household income in Trenton, NJ is: $40,200.00\n"
          ]
        }
      ]
    },
    {
      "cell_type": "markdown",
      "source": [
        "**Interpretation:** The mean household income in Hamilton, NJ is 78,600 dollars, indicating that, on average, households in Hamilton earn this amount. In contrast, the mean household income in Trenton, NJ is $40,200, which is significantly lower than Hamilton's. This suggests that there is a noticeable income disparity between the two cities, with Hamilton households earning nearly twice as much on average as those in Trenton."
      ],
      "metadata": {
        "id": "ushU2fiSsBix"
      }
    },
    {
      "cell_type": "code",
      "source": [
        "import pandas as pd\n",
        "df = pd.read_csv('https://raw.githubusercontent.com/erikaguiracocha/Data-Visualization-2025/refs/heads/main/PS0%20in%20cvs%20format%20Erika%20Guiracocha.csv')\n",
        "df['Media Household Income Hamilton, NJ'] = df['Media Household Income Hamilton, NJ'].replace({'\\$': '', ',': ''}, regex=True).astype(float)\n",
        "df['Media Household Income Trenton, NJ'] = df['Media Household Income Trenton, NJ'].replace({'\\$': '', ',': ''}, regex=True).astype(float)\n",
        "mode_income_hamilton = df['Media Household Income Hamilton, NJ'].mode()[0]  # The first mode value\n",
        "mode_income_trenton = df['Media Household Income Trenton, NJ'].mode()[0]  # The first mode value\n",
        "print(f\"The mode of household income in Hamilton, NJ is: ${mode_income_hamilton:,.2f}\")\n",
        "print(f\"The mode of household income in Trenton, NJ is: ${mode_income_trenton:,.2f}\")"
      ],
      "metadata": {
        "colab": {
          "base_uri": "https://localhost:8080/"
        },
        "id": "7LlDoRbWlmm3",
        "outputId": "95d57a6d-b434-482f-ab76-3b85d1a359ba"
      },
      "execution_count": null,
      "outputs": [
        {
          "output_type": "stream",
          "name": "stdout",
          "text": [
            "The mode of household income in Hamilton, NJ is: $76,000.00\n",
            "The mode of household income in Trenton, NJ is: $38,000.00\n"
          ]
        }
      ]
    },
    {
      "cell_type": "markdown",
      "source": [
        "**Interpretation:** The mode of household income in Hamilton, NJ is 76,000 dollars, meaning that this income value occurred most frequently among households in the city. Similarly, the mode of household income in Trenton, NJ is 38,000 dollars, which is the most common income value in Trenton. This suggests that a significant number of households in Hamilton earn around 76,000 dollars, while in Trenton, $38,000 is the most frequent household income, highlighting the income disparity between the two cities."
      ],
      "metadata": {
        "id": "QNcTU9USsT1T"
      }
    },
    {
      "cell_type": "code",
      "source": [
        "import pandas as pd\n",
        "df = pd.read_csv('https://raw.githubusercontent.com/erikaguiracocha/Data-Visualization-2025/refs/heads/main/PS0%20in%20cvs%20format%20Erika%20Guiracocha.csv')\n",
        "df['Media Household Income Hamilton, NJ'] = df['Media Household Income Hamilton, NJ'].replace({'\\$': '', ',': ''}, regex=True).astype(float)\n",
        "df['Media Household Income Trenton, NJ'] = df['Media Household Income Trenton, NJ'].replace({'\\$': '', ',': ''}, regex=True).astype(float)\n",
        "median_income_hamilton = df['Media Household Income Hamilton, NJ'].median()\n",
        "median_income_trenton = df['Media Household Income Trenton, NJ'].median()\n",
        "print(f\"The median household income in Hamilton, NJ is: ${median_income_hamilton:,.2f}\")\n",
        "print(f\"The median household income in Trenton, NJ is: ${median_income_trenton:,.2f}\")"
      ],
      "metadata": {
        "colab": {
          "base_uri": "https://localhost:8080/"
        },
        "id": "7Et6As5smcoS",
        "outputId": "fb1c1c78-ab10-4c3a-90bf-59af162d0589"
      },
      "execution_count": null,
      "outputs": [
        {
          "output_type": "stream",
          "name": "stdout",
          "text": [
            "The median household income in Hamilton, NJ is: $78,000.00\n",
            "The median household income in Trenton, NJ is: $40,000.00\n"
          ]
        }
      ]
    },
    {
      "cell_type": "markdown",
      "source": [
        "**Interpretation:** The median household income in Hamilton, NJ is 78,000 dollars, which means that half of the households in Hamilton earn more than this amount, and half earn less. Similarly, the median household income in Trenton, NJ is 40,000 dollars, indicating that half of the households in Trenton earn more than $40,000, and half earn less. The substantial difference in median household income between the two cities highlights a significant income gap, with Hamilton's households generally earning much higher than those in Trenton, NJ."
      ],
      "metadata": {
        "id": "7daSCcglsq8V"
      }
    },
    {
      "cell_type": "code",
      "source": [
        "import pandas as pd\n",
        "df['Population of Hamilton, NJ'] = df['Population of Hamilton, NJ'].replace({'\\$': '', ',': '', ' ': ''}, regex=True).apply(pd.to_numeric, errors='coerce')\n",
        "df['Population of Trenton, NJ'] = df['Population of Trenton, NJ'].replace({'\\$': '', ',': '', ' ': ''}, regex=True).apply(pd.to_numeric, errors='coerce')\n",
        "df['Media Household Income Hamilton, NJ'] = df['Media Household Income Hamilton, NJ'].replace({'\\$': '', ',': '', ' ': ''}, regex=True).apply(pd.to_numeric, errors='coerce')\n",
        "df['Media Household Income Trenton, NJ'] = df['Media Household Income Trenton, NJ'].replace({'\\$': '', ',': '', ' ': ''}, regex=True).apply(pd.to_numeric, errors='coerce')\n",
        "mean_population_hamilton = df['Population of Hamilton, NJ'].mean()\n",
        "mean_population_trenton = df['Population of Trenton, NJ'].mean()\n",
        "\n",
        "mode_population_hamilton = df['Population of Hamilton, NJ'].mode()[0]\n",
        "mode_population_trenton = df['Population of Trenton, NJ'].mode()[0]\n",
        "\n",
        "median_population_hamilton = df['Population of Hamilton, NJ'].median()\n",
        "median_population_trenton = df['Population of Trenton, NJ'].median()\n",
        "mean_income_hamilton = df['Media Household Income Hamilton, NJ'].mean()\n",
        "mean_income_trenton = df['Media Household Income Trenton, NJ'].mean()\n",
        "\n",
        "mode_income_hamilton = df['Media Household Income Hamilton, NJ'].mode()[0]\n",
        "mode_income_trenton = df['Media Household Income Trenton, NJ'].mode()[0]\n",
        "\n",
        "median_income_hamilton = df['Media Household Income Hamilton, NJ'].median()\n",
        "median_income_trenton = df['Media Household Income Trenton, NJ'].median()\n",
        "summary = pd.DataFrame({\n",
        "    'City': ['Hamilton, NJ', 'Trenton, NJ'],\n",
        "    'Mean Population': [mean_population_hamilton, mean_population_trenton],\n",
        "    'Mode Population': [mode_population_hamilton, mode_population_trenton],\n",
        "    'Median Population': [median_population_hamilton, median_population_trenton],\n",
        "    'Mean Household Income': [f\"${mean_income_hamilton:,.2f}\", f\"${mean_income_trenton:,.2f}\"],\n",
        "    'Mode Household Income': [f\"${mode_income_hamilton:,.2f}\", f\"${mode_income_trenton:,.2f}\"],\n",
        "    'Median Household Income': [f\"${median_income_hamilton:,.2f}\", f\"${median_income_trenton:,.2f}\"]\n",
        "})\n",
        "print(summary)"
      ],
      "metadata": {
        "colab": {
          "base_uri": "https://localhost:8080/"
        },
        "id": "S0sYkMA1vFek",
        "outputId": "cc486736-7b07-4040-81ee-ed15292a58e3"
      },
      "execution_count": null,
      "outputs": [
        {
          "output_type": "stream",
          "name": "stdout",
          "text": [
            "           City  Mean Population  Mode Population  Median Population  \\\n",
            "0  Hamilton, NJ          89000.0          88600.0            89000.0   \n",
            "1   Trenton, NJ          85520.0          85000.0            85500.0   \n",
            "\n",
            "  Mean Household Income Mode Household Income Median Household Income  \n",
            "0            $78,600.00            $76,000.00              $78,000.00  \n",
            "1            $40,200.00            $38,000.00              $40,000.00  \n"
          ]
        }
      ]
    },
    {
      "cell_type": "markdown",
      "source": [
        "**Interpretation:**\n",
        "\n",
        "**Population:**\n",
        "\n",
        "Hamilton, NJ has a slightly larger average population (89,000) compared to Trenton, NJ (85,520).\n",
        "The most common population figure for Hamilton is 88,600, while for Trenton, it's 85,000.\n",
        "The median population for Hamilton is 89,000, closely matching its mean, indicating a relatively stable population distribution. Trenton's median is 85,500, slightly higher than the mode, showing a small skew toward higher population values.\n",
        "\n",
        "**Household Income:**\n",
        "\n",
        "Hamilton, NJ has a significantly higher mean household income (78,600 dollars) compared to Trenton, NJ (40,200 dollars).\n",
        "The most common household income in Hamilton is 76,000 dollars, and for Trenton, it is 38,000 dollars, reflecting the economic disparity between the two cities.\n",
        "The median household income in Hamilton is 78,000 dollars, very close to the mean, suggesting a balanced income distribution. In contrast, Trenton's median income is $40,000, highlighting the income gap compared to Hamilton."
      ],
      "metadata": {
        "id": "WMwCefzCzdvf"
      }
    },
    {
      "cell_type": "code",
      "source": [
        "from google.colab import drive\n",
        "drive.mount('/content/drive')"
      ],
      "metadata": {
        "colab": {
          "base_uri": "https://localhost:8080/"
        },
        "id": "59iEcn6P9eR-",
        "outputId": "44c1efcc-22c8-42c0-deb5-64c517841b28"
      },
      "execution_count": null,
      "outputs": [
        {
          "output_type": "stream",
          "name": "stdout",
          "text": [
            "Drive already mounted at /content/drive; to attempt to forcibly remount, call drive.mount(\"/content/drive\", force_remount=True).\n"
          ]
        }
      ]
    }
  ]
}