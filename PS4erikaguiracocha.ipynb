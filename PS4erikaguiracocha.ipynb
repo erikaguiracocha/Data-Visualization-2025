{
  "nbformat": 4,
  "nbformat_minor": 0,
  "metadata": {
    "colab": {
      "provenance": [],
      "toc_visible": true,
      "authorship_tag": "ABX9TyPjHUXrN+Hh3++NAelihfOD",
      "include_colab_link": true
    },
    "kernelspec": {
      "name": "python3",
      "display_name": "Python 3"
    },
    "language_info": {
      "name": "python"
    }
  },
  "cells": [
    {
      "cell_type": "markdown",
      "metadata": {
        "id": "view-in-github",
        "colab_type": "text"
      },
      "source": [
        "<a href=\"https://colab.research.google.com/github/erikaguiracocha/Data-Visualization-2025/blob/main/PS4erikaguiracocha.ipynb\" target=\"_parent\"><img src=\"https://colab.research.google.com/assets/colab-badge.svg\" alt=\"Open In Colab\"/></a>"
      ]
    },
    {
      "cell_type": "markdown",
      "source": [],
      "metadata": {
        "id": "MTx2r9kPHO4d"
      }
    },
    {
      "cell_type": "markdown",
      "source": [
        "#**PS4**\n",
        " 1. may want to use some extra fancy stuff like advanced matplotlib or plotly\n",
        "2. BUT even more important to have solid story (just with basic mpl); again: idea and story matter most and simplicity first\n",
        "3. i’d say this is key ps; we already did plenty and you should have a good command, but yet we still have couple weeks to go so\n",
        "you still can fix it up and or beef it up; i’ll go carefully through it and let you know where we stand"
      ],
      "metadata": {
        "id": "QbxiOzNIHVaj"
      }
    },
    {
      "cell_type": "code",
      "source": [
        "import pandas as pd  #original crime data uploaded\n",
        "url_crime_data = 'https://raw.githubusercontent.com/erikaguiracocha/Data-Visualization-2025/refs/heads/main/crime%20by%20county%20New%20Jersey.csv'\n",
        "crime_data = pd.read_csv(url_crime_data, header=1)\n",
        "print(\"Original Crime Data:\")\n",
        "print(crime_data.head(30))  # Show 21 counties"
      ],
      "metadata": {
        "colab": {
          "base_uri": "https://localhost:8080/"
        },
        "id": "mmIpM0FqJRmg",
        "outputId": "79ea45b3-b1cf-4423-ad84-463c8589ec84"
      },
      "execution_count": 6,
      "outputs": [
        {
          "output_type": "stream",
          "name": "stdout",
          "text": [
            "Original Crime Data:\n",
            "              County     2020     2021       2022\n",
            "0          Atlantic    46,551   42,324     47,072\n",
            "1            Bergen   193,882  208,751    294,129\n",
            "2        Burlington    44,940   48,929     52,173\n",
            "3             Camden  103,373  114,926    194,754\n",
            "4          Cape May    64,234   65,174     56,205\n",
            "5        Cumberland    17,378   14,656     17,993\n",
            "6              Essex   45,882   47,082     56,433\n",
            "7        Gloucester    38,332   35,690     40,038\n",
            "8            Hudson    32,374   29,689     38,604\n",
            "9         Hunterdon     8,036    7,447     10,467\n",
            "10           Mercer    21,976   21,813     26,797\n",
            "11        Middlesex    36,204   35,448     45,162\n",
            "12         Monmouth    85,417   70,450     76,941\n",
            "13           Morris    33,417   26,142     31,456\n",
            "14            Ocean    55,640   39,291     52,245\n",
            "15          Passaic    28,610   27,683     34,688\n",
            "16            Salem    19,312   15,548     14,772\n",
            "17         Somerset    21,493   21,174     22,982\n",
            "18           Sussex     6,345    7,471      7,074\n",
            "19            Union    35,176   35,881     41,550\n",
            "20            Warren   20,030   19,753     17,675\n",
            "21  Total New Jersey  958,604  935,321  1,133,384\n"
          ]
        }
      ]
    },
    {
      "cell_type": "code",
      "source": [
        "# URL of the CSV file\n",
        "url_budget_data = 'https://raw.githubusercontent.com/erikaguiracocha/Data-Visualization-2025/refs/heads/main/police%20budgets%20in%20New%20Jersey.csv'\n",
        "\n",
        "# Try to read the file\n",
        "try:\n",
        "    # If the second row is the header, use header=1\n",
        "    budget_data = pd.read_csv(url_budget_data, header=1)\n",
        "    print(\"Original Budget Data:\")\n",
        "    print(budget_data.head(30))  # Display the first 30 rows\n",
        "\n",
        "except Exception as e:\n",
        "    print(f\"There was an error loading the file: {e}\")"
      ],
      "metadata": {
        "colab": {
          "base_uri": "https://localhost:8080/"
        },
        "id": "fncQi-xLJaYy",
        "outputId": "f739b269-a0ca-4aeb-caaf-230901736976"
      },
      "execution_count": 7,
      "outputs": [
        {
          "output_type": "stream",
          "name": "stdout",
          "text": [
            "Original Budget Data:\n",
            "              County              2020              2021              2022\n",
            "0          Atlantic     119,262,425.86    117,407,829.60    123,993,860.75\n",
            "1            Bergen     427,518,344.81    448,124,550.75    471,782,982.68\n",
            "2        Burlington     122,407,763.95    125,868,638.98    128,190,733.44\n",
            "3            Camden     137,420,012.72    135,626,159.37    147,391,782.25\n",
            "4          Cape May      48,629,849.27     52,207,062.40     54,103,285.95\n",
            "5        Cumberland      35,045,613.87     36,259,361.36     37,329,195.20\n",
            "6             Essex     350,382,509.60    464,878,127.99    381,983,364.75\n",
            "7        Gloucester      67,519,873.43     65,845,717.39     79,816,171.41\n",
            "8            Hudson     290,272,331.25    300,219,111.87    377,519,753.78\n",
            "9         Hunterdon      28,100,764.97     29,438,131.72     31,540,757.26\n",
            "10           Mercer      93,981,950.66    104,382,301.52     97,266,160.77\n",
            "11        Middlesex     253,427,739.92    292,934,332.15    331,800,018.84\n",
            "12         Monmouth     261,784,930.78    271,539,409.48    282,625,410.02\n",
            "13           Morris     171,635,578.16    184,152,262.87    195,233,806.17\n",
            "14            Ocean     224,440,512.53    228,994,762.61    231,442,122.59\n",
            "15          Passaic     101,872,259.28    148,684,341.76    197,295,052.89\n",
            "16            Salem       9,149,236.34     15,079,410.98     13,660,155.37\n",
            "17         Somerset     100,180,014.14     60,327,888.26    117,789,364.83\n",
            "18           Sussex      33,385,136.64     29,710,261.77     33,563,129.27\n",
            "19            Union     186,982,367.17    224,208,846.59    246,829,591.40\n",
            "20           Warren      26,138,557.21     26,936,297.87     29,352,144.76\n",
            "21  Total New Jersey  3,089,537,772.56  3,362,824,807.29  3,610,508,844.38\n"
          ]
        }
      ]
    },
    {
      "cell_type": "markdown",
      "source": [
        "#**Visualization using ploty**"
      ],
      "metadata": {
        "id": "vj4PPk34KF7D"
      }
    }
  ]
}