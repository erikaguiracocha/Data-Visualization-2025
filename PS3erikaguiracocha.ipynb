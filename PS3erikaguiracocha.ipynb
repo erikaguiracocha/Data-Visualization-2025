{
  "nbformat": 4,
  "nbformat_minor": 0,
  "metadata": {
    "colab": {
      "provenance": [],
      "toc_visible": true,
      "authorship_tag": "ABX9TyOG530wqaqReStXKWLgIKNQ",
      "include_colab_link": true
    },
    "kernelspec": {
      "name": "python3",
      "display_name": "Python 3"
    },
    "language_info": {
      "name": "python"
    }
  },
  "cells": [
    {
      "cell_type": "markdown",
      "metadata": {
        "id": "view-in-github",
        "colab_type": "text"
      },
      "source": [
        "<a href=\"https://colab.research.google.com/github/erikaguiracocha/Data-Visualization-2025/blob/main/PS3erikaguiracocha.ipynb\" target=\"_parent\"><img src=\"https://colab.research.google.com/assets/colab-badge.svg\" alt=\"Open In Colab\"/></a>"
      ]
    },
    {
      "cell_type": "markdown",
      "source": [],
      "metadata": {
        "id": "TiULVZCl-iBw"
      }
    },
    {
      "cell_type": "markdown",
      "source": [
        "#**PS 3 Instructions**"
      ],
      "metadata": {
        "id": "nHSPdH4b-6or"
      }
    },
    {
      "cell_type": "markdown",
      "source": [
        "**PS 3**\n",
        "1. tell a story with vis, say 1-10 graphs, the fewer the better!, focus on what the data are telling us, make it engaging and\n",
        "utilitarian/useful\n",
        "2. don’t overcomplicate, best stories are simple (but be thorough, do the work, do robustness checks, triangulate, etc–all of that\n",
        "in notebook, but then the story you tell and present is basic and simple, top of the iceberg, the choisest, the cream of the\n",
        "crop)–its like top research say in nature or science–it’s a page or two (but its based on say 20 or 50 pages of output in appendix\n",
        "or supplementray material)\n",
        "3. bar is higher than ps2"
      ],
      "metadata": {
        "id": "aJWMp8pg-mxU"
      }
    },
    {
      "cell_type": "markdown",
      "source": [
        "#**Dataset Overview Research Question**"
      ],
      "metadata": {
        "id": "8C9esq_vBSOE"
      }
    },
    {
      "cell_type": "markdown",
      "source": [
        "**Dataset Overview and Research Focus:**\n",
        "I will analyze data from 21 counties in New Jersey from 2020 to 2022 to explore how crime rates affect police budget allocation.\n",
        "\n",
        "**Research Question:**\n",
        "How do crime rates in New Jersey counties influence police budget allocation?\n",
        "\n",
        "**Hypothesis:**\n",
        "I hypothesize that counties with higher crime rates will allocate a larger proportion of their budget to the police, as they will need more **resources** to handle the increased demand for police services.\n",
        "\n",
        "**Key Variables:**\n",
        "\n",
        "**Crime Data:** Total number of reported crimes in each county per year. This represents the crime level and impacts police budget allocation.\n",
        "\n",
        "**Police Budget:** Total amount allocated to the police department in each county.\n",
        "\n",
        "**County:** Name of each county in New Jersey.\n",
        "\n",
        "**Year:** Year of the data (2020, 2021, 2022).\n",
        "Data Sources:\n",
        "\n",
        "**Crime Data:** Obtained from the New Jersey Department of Law and Public Safety.\n",
        "\n",
        "**Police Budget:** Annual reports from the New Jersey Division of Local Government Services.\n",
        "\n",
        "**Socioeconomic Data:** Population estimates from the New Jersey Department of Labor and Workforce Development.\n",
        "\n",
        "**Data Justification:**\n",
        "The crime and police budget data are essential for understanding the relationship between crime rates and budget allocation. Socioeconomic data (e.g., population size) will help contextualize the findings. Data from multiple years will allow us to identify trends and changes in how counties respond to crime rates over time."
      ],
      "metadata": {
        "id": "G4Gh-6sdAe29"
      }
    },
    {
      "cell_type": "markdown",
      "source": [
        "#**Uploaded Data**"
      ],
      "metadata": {
        "id": "JncEL1_qDrSD"
      }
    },
    {
      "cell_type": "code",
      "source": [
        "import pandas as pd  #original crime data uploaded\n",
        "url_crime_data = 'https://raw.githubusercontent.com/erikaguiracocha/Data-Visualization-2025/refs/heads/main/crime%20by%20county%20New%20Jersey.csv'\n",
        "crime_data = pd.read_csv(url_crime_data, header=1)\n",
        "print(\"Original Crime Data:\")\n",
        "print(crime_data.head(30))  # Show 21 counties"
      ],
      "metadata": {
        "colab": {
          "base_uri": "https://localhost:8080/"
        },
        "id": "F7nl15JjCk7e",
        "outputId": "db9e66ed-f03b-4b1b-92bf-9e3f734864d1"
      },
      "execution_count": 1,
      "outputs": [
        {
          "output_type": "stream",
          "name": "stdout",
          "text": [
            "Original Crime Data:\n",
            "              County     2020     2021       2022\n",
            "0          Atlantic    46,551   42,324     47,072\n",
            "1            Bergen   193,882  208,751    294,129\n",
            "2        Burlington    44,940   48,929     52,173\n",
            "3             Camden  103,373  114,926    194,754\n",
            "4          Cape May    64,234   65,174     56,205\n",
            "5        Cumberland    17,378   14,656     17,993\n",
            "6              Essex   45,882   47,082     56,433\n",
            "7        Gloucester    38,332   35,690     40,038\n",
            "8            Hudson    32,374   29,689     38,604\n",
            "9         Hunterdon     8,036    7,447     10,467\n",
            "10           Mercer    21,976   21,813     26,797\n",
            "11        Middlesex    36,204   35,448     45,162\n",
            "12         Monmouth    85,417   70,450     76,941\n",
            "13           Morris    33,417   26,142     31,456\n",
            "14            Ocean    55,640   39,291     52,245\n",
            "15          Passaic    28,610   27,683     34,688\n",
            "16            Salem    19,312   15,548     14,772\n",
            "17         Somerset    21,493   21,174     22,982\n",
            "18           Sussex     6,345    7,471      7,074\n",
            "19            Union    35,176   35,881     41,550\n",
            "20            Warren   20,030   19,753     17,675\n",
            "21  Total New Jersey  958,604  935,321  1,133,384\n"
          ]
        }
      ]
    },
    {
      "cell_type": "code",
      "source": [
        "# Uploaded data\n",
        "url_population_data = 'https://raw.githubusercontent.com/erikaguiracocha/Data-Visualization-2025/refs/heads/main/population%20by%20county%20New%20Jersey.csv'\n",
        "population_data = pd.read_csv(url_population_data)\n",
        "\n",
        "# Population\n",
        "print(\"Original Population Data:\")\n",
        "print(population_data.head(30))"
      ],
      "metadata": {
        "colab": {
          "base_uri": "https://localhost:8080/"
        },
        "id": "hBL53LNzCy30",
        "outputId": "0a425f3a-ba09-4bb2-e020-4a01a336f647"
      },
      "execution_count": 2,
      "outputs": [
        {
          "output_type": "stream",
          "name": "stdout",
          "text": [
            "Original Population Data:\n",
            "   Annual Estimates of the Resident Population for Counties in New Jersey: 2020 to  2022  \\\n",
            "0                                              County                                      \n",
            "1                                           Atlantic                                       \n",
            "2                                             Bergen                                       \n",
            "3                                         Burlington                                       \n",
            "4                                             Camden                                       \n",
            "5                                           Cape May                                       \n",
            "6                                         Cumberland                                       \n",
            "7                                              Essex                                       \n",
            "8                                         Gloucester                                       \n",
            "9                                             Hudson                                       \n",
            "10                                         Hunterdon                                       \n",
            "11                                            Mercer                                       \n",
            "12                                         Middlesex                                       \n",
            "13                                          Monmouth                                       \n",
            "14                                            Morris                                       \n",
            "15                                             Ocean                                       \n",
            "16                                           Passaic                                       \n",
            "17                                             Salem                                       \n",
            "18                                          Somerset                                       \n",
            "19                                            Sussex                                       \n",
            "20                                             Union                                       \n",
            "21                                            Warren                                       \n",
            "22                                   Total New Jersey                                      \n",
            "\n",
            "             Unnamed: 1           Unnamed: 2           Unnamed: 3 Unnamed: 4  \\\n",
            "0   Data Source in 2020  Data Source in 2021  Data Source in 2022       2020   \n",
            "1                census                  NaN                  NaN    274,190   \n",
            "2                census                  NaN                  NaN    953,690   \n",
            "3                census                  NaN                  NaN    461,682   \n",
            "4                census                  NaN                  NaN    523,122   \n",
            "5                census                  NaN                  NaN     95,044   \n",
            "6                census                  NaN                  NaN    153,719   \n",
            "7                census                  NaN                  NaN    859,974   \n",
            "8                census                  NaN                  NaN    302,563   \n",
            "9                census                  NaN                  NaN    721,879   \n",
            "10               census                  NaN                  NaN    128,786   \n",
            "11               census                  NaN                  NaN    386,466   \n",
            "12               census                  NaN                  NaN    861,408   \n",
            "13               census                  NaN                  NaN    642,836   \n",
            "14               census                  NaN                  NaN    508,439   \n",
            "15               census                  NaN                  NaN    638,465   \n",
            "16               census                  NaN                  NaN    523,439   \n",
            "17               census                  NaN                  NaN     64,841   \n",
            "18               census                  NaN                  NaN    344,754   \n",
            "19               census                  NaN                  NaN    143,915   \n",
            "20               census                  NaN                  NaN    573,660   \n",
            "21               census                  NaN                  NaN    109,520   \n",
            "22                  NaN                  NaN                  NaN  9,272,392   \n",
            "\n",
            "   Unnamed: 5 Unnamed: 6  \n",
            "0        2021       2022  \n",
            "1     274,956    275,382  \n",
            "2     955,383    953,540  \n",
            "3     464,479    466,101  \n",
            "4     524,093    524,649  \n",
            "5      95,706     95,405  \n",
            "6     152,083    151,347  \n",
            "7     854,233    849,724  \n",
            "8     304,592    306,767  \n",
            "9     703,448    702,381  \n",
            "10    129,671    129,805  \n",
            "11    382,172    380,779  \n",
            "12    862,364    861,094  \n",
            "13    646,517    644,228  \n",
            "14    510,613    511,219  \n",
            "15    649,825    655,663  \n",
            "16    518,376    513,634  \n",
            "17     65,045     65,157  \n",
            "18    346,498    347,047  \n",
            "19    145,721    145,575  \n",
            "20    572,833    570,417  \n",
            "21    110,567    110,903  \n",
            "22  9,269,175  9,260,817  \n"
          ]
        }
      ]
    },
    {
      "cell_type": "code",
      "source": [
        "# URL of the CSV file\n",
        "url_budget_data = 'https://raw.githubusercontent.com/erikaguiracocha/Data-Visualization-2025/refs/heads/main/police%20budgets%20in%20New%20Jersey.csv'\n",
        "\n",
        "# Try to read the file\n",
        "try:\n",
        "    # If the second row is the header, use header=1\n",
        "    budget_data = pd.read_csv(url_budget_data, header=1)\n",
        "    print(\"Original Budget Data:\")\n",
        "    print(budget_data.head(30))  # Display the first 30 rows\n",
        "\n",
        "except Exception as e:\n",
        "    print(f\"There was an error loading the file: {e}\")"
      ],
      "metadata": {
        "colab": {
          "base_uri": "https://localhost:8080/"
        },
        "id": "_vG1BazRC8NV",
        "outputId": "484ea4fa-f628-41d2-e51a-ea5c8ce8a69e"
      },
      "execution_count": 3,
      "outputs": [
        {
          "output_type": "stream",
          "name": "stdout",
          "text": [
            "Original Budget Data:\n",
            "              County              2020              2021              2022\n",
            "0          Atlantic     119,262,425.86    117,407,829.60    123,993,860.75\n",
            "1            Bergen     427,518,344.81    448,124,550.75    471,782,982.68\n",
            "2        Burlington     122,407,763.95    125,868,638.98    128,190,733.44\n",
            "3            Camden     137,420,012.72    135,626,159.37    147,391,782.25\n",
            "4          Cape May      48,629,849.27     52,207,062.40     54,103,285.95\n",
            "5        Cumberland      35,045,613.87     36,259,361.36     37,329,195.20\n",
            "6             Essex     350,382,509.60    464,878,127.99    381,983,364.75\n",
            "7        Gloucester      67,519,873.43     65,845,717.39     79,816,171.41\n",
            "8            Hudson     290,272,331.25    300,219,111.87    377,519,753.78\n",
            "9         Hunterdon      28,100,764.97     29,438,131.72     31,540,757.26\n",
            "10           Mercer      93,981,950.66    104,382,301.52     97,266,160.77\n",
            "11        Middlesex     253,427,739.92    292,934,332.15    331,800,018.84\n",
            "12         Monmouth     261,784,930.78    271,539,409.48    282,625,410.02\n",
            "13           Morris     171,635,578.16    184,152,262.87    195,233,806.17\n",
            "14            Ocean     224,440,512.53    228,994,762.61    231,442,122.59\n",
            "15          Passaic     101,872,259.28    148,684,341.76    197,295,052.89\n",
            "16            Salem       9,149,236.34     15,079,410.98     13,660,155.37\n",
            "17         Somerset     100,180,014.14     60,327,888.26    117,789,364.83\n",
            "18           Sussex      33,385,136.64     29,710,261.77     33,563,129.27\n",
            "19            Union     186,982,367.17    224,208,846.59    246,829,591.40\n",
            "20           Warren      26,138,557.21     26,936,297.87     29,352,144.76\n",
            "21  Total New Jersey  3,089,537,772.56  3,362,824,807.29  3,610,508,844.38\n"
          ]
        }
      ]
    }
  ]
}